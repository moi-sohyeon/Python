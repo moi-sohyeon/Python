{
 "cells": [
  {
   "cell_type": "code",
   "execution_count": 1,
   "id": "525ac02d",
   "metadata": {},
   "outputs": [],
   "source": [
    "import pandas as pd\n",
    "\n",
    "df1 = pd.read_csv('01_Data.csv')"
   ]
  },
  {
   "cell_type": "markdown",
   "id": "3da85ffa",
   "metadata": {},
   "source": [
    "# Mission 1.  \n",
    "\n",
    "1) Product_Type 제품군 중, DES-1 제품에 대해 계약명단을 확인하고자 한다  \n",
    "\n",
    "       - Product_Type 제품군 중, DES-1을 추출하여  \n",
    "       - Amount_Month 월렌탈비용이 높은 상위 100개 데이터를 뽑아   \n",
    "       - result2.xlsx 로 저장  "
   ]
  },
  {
   "cell_type": "code",
   "execution_count": 2,
   "id": "55220564",
   "metadata": {},
   "outputs": [],
   "source": [
    "cond1 = (df1['Product_Type'] == 'DES-1')\n",
    "df1.loc[cond1].sort_values(by='Amount_Month', \n",
    "                           ascending = False).head(100).to_excel('result2.xlsx')"
   ]
  },
  {
   "cell_type": "markdown",
   "id": "fb1faf50",
   "metadata": {},
   "source": [
    "2) Channel 유입경로 중 '영업방판'과 '대형마트H'와 '대형마트A'로 유입된 고객계약 명단을 추출하여, Amount_Month 월렌탈비용이 10만원 이상이고, Overdue_count 연체건수가 0건인 고객명단을 추출해 result3.xlsx 로 저장"
   ]
  },
  {
   "cell_type": "code",
   "execution_count": 3,
   "id": "d39befec",
   "metadata": {},
   "outputs": [],
   "source": [
    "cond1 = (df1['Channel'].isin(['영업방판', '대형마트H', '대형마트A']))\n",
    "cond2 = (df1['Amount_Month'] >= 100000)\n",
    "cond3 = (df1['Overdue_count'] == 0)\n",
    "df1.loc[cond1 & cond2 & cond3].to_excel('result3.xlsx')"
   ]
  },
  {
   "cell_type": "markdown",
   "id": "7367415c",
   "metadata": {},
   "source": [
    "3) Bank 결제은행에 '현대카드'를 쓴 고객들 중에, Amount_Month가 높고, Term 계약기간이 낮은 순서대로 정렬하여 50명의 계약명단을 result.xlsx 추출"
   ]
  },
  {
   "cell_type": "code",
   "execution_count": 4,
   "id": "0aa12dab",
   "metadata": {},
   "outputs": [],
   "source": [
    "cond1 = (df1['Bank'] == '현대카드')\n",
    "df1.loc[cond3].sort_values(by=['Amount_Month', 'Term'], \n",
    "                           ascending = [False, True]).to_excel('result4.xlsx')"
   ]
  }
 ],
 "metadata": {
  "kernelspec": {
   "display_name": "Python 3",
   "language": "python",
   "name": "python3"
  },
  "language_info": {
   "codemirror_mode": {
    "name": "ipython",
    "version": 3
   },
   "file_extension": ".py",
   "mimetype": "text/x-python",
   "name": "python",
   "nbconvert_exporter": "python",
   "pygments_lexer": "ipython3",
   "version": "3.8.8"
  }
 },
 "nbformat": 4,
 "nbformat_minor": 5
}
