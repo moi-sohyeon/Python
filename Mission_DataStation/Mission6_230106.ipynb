{
 "cells": [
  {
   "cell_type": "code",
   "execution_count": 1,
   "id": "c8b6ed02",
   "metadata": {},
   "outputs": [],
   "source": [
    "import numpy as np\n",
    "import pandas as pd\n",
    "import seaborn as sns\n",
    "import matplotlib as mpl\n",
    "import matplotlib.pyplot as plt\n",
    "import plotly.express as px\n",
    "import scipy.stats as stats\n",
    "mpl.rc('font', family='Malgun Gothic')"
   ]
  },
  {
   "cell_type": "code",
   "execution_count": 2,
   "id": "5f062830",
   "metadata": {},
   "outputs": [],
   "source": [
    "df1 = pd.read_csv('07_Data.csv')\n",
    "df1['제품두께(float)'] = df1['제품두께'].replace({'415-515':4.15, \n",
    "                                         '417-518':4.17}).astype(float)"
   ]
  },
  {
   "cell_type": "code",
   "execution_count": 3,
   "id": "5a97fae9",
   "metadata": {},
   "outputs": [
    {
     "data": {
      "text/plain": [
       "Index(['메세지', '발생시간', '조치시간', '정지시간', '정지시간2', '모델', '제품두께', '제품싸이즈', '작업구분',\n",
       "       '작업자', '온도', '습도', '제품두께(float)'],\n",
       "      dtype='object')"
      ]
     },
     "execution_count": 3,
     "metadata": {},
     "output_type": "execute_result"
    }
   ],
   "source": [
    "df1.columns"
   ]
  },
  {
   "cell_type": "code",
   "execution_count": 4,
   "id": "fd3e705d",
   "metadata": {},
   "outputs": [
    {
     "data": {
      "text/html": [
       "<div>\n",
       "<style scoped>\n",
       "    .dataframe tbody tr th:only-of-type {\n",
       "        vertical-align: middle;\n",
       "    }\n",
       "\n",
       "    .dataframe tbody tr th {\n",
       "        vertical-align: top;\n",
       "    }\n",
       "\n",
       "    .dataframe thead th {\n",
       "        text-align: right;\n",
       "    }\n",
       "</style>\n",
       "<table border=\"1\" class=\"dataframe\">\n",
       "  <thead>\n",
       "    <tr style=\"text-align: right;\">\n",
       "      <th></th>\n",
       "      <th>메세지</th>\n",
       "      <th>발생시간</th>\n",
       "      <th>조치시간</th>\n",
       "      <th>정지시간</th>\n",
       "      <th>정지시간2</th>\n",
       "      <th>모델</th>\n",
       "      <th>제품두께</th>\n",
       "      <th>제품싸이즈</th>\n",
       "      <th>작업구분</th>\n",
       "      <th>작업자</th>\n",
       "      <th>온도</th>\n",
       "      <th>습도</th>\n",
       "      <th>제품두께(float)</th>\n",
       "    </tr>\n",
       "  </thead>\n",
       "  <tbody>\n",
       "    <tr>\n",
       "      <th>0</th>\n",
       "      <td>e-CIM 관련에러</td>\n",
       "      <td>2015-06-17T07:32:42</td>\n",
       "      <td>2015-06-17T07:32:54</td>\n",
       "      <td>0시 00분 12초</td>\n",
       "      <td>11.970</td>\n",
       "      <td>78FBGA 7.5x11 CGHB08154 REV.1</td>\n",
       "      <td>0.25</td>\n",
       "      <td>415-515</td>\n",
       "      <td>야간</td>\n",
       "      <td>이은미</td>\n",
       "      <td>22.5</td>\n",
       "      <td>47.3</td>\n",
       "      <td>0.25</td>\n",
       "    </tr>\n",
       "    <tr>\n",
       "      <th>1</th>\n",
       "      <td>Door Open</td>\n",
       "      <td>2015-06-17T07:32:42</td>\n",
       "      <td>2015-06-17T07:32:54</td>\n",
       "      <td>0시 00분 12초</td>\n",
       "      <td>11.970</td>\n",
       "      <td>78FBGA 7.5x11 CGHB08154 REV.1</td>\n",
       "      <td>0.25</td>\n",
       "      <td>415-515</td>\n",
       "      <td>야간</td>\n",
       "      <td>이은미</td>\n",
       "      <td>22.5</td>\n",
       "      <td>47.3</td>\n",
       "      <td>0.25</td>\n",
       "    </tr>\n",
       "    <tr>\n",
       "      <th>2</th>\n",
       "      <td>롯트 종료</td>\n",
       "      <td>2015-06-17T07:33:00</td>\n",
       "      <td>2015-06-17T07:33:05</td>\n",
       "      <td>0시 00분 04초</td>\n",
       "      <td>4.093</td>\n",
       "      <td>78FBGA 7.5x11 CGHB08154 REV.2</td>\n",
       "      <td>1.25</td>\n",
       "      <td>415-516</td>\n",
       "      <td>야간</td>\n",
       "      <td>이은미</td>\n",
       "      <td>22.5</td>\n",
       "      <td>47.3</td>\n",
       "      <td>1.25</td>\n",
       "    </tr>\n",
       "    <tr>\n",
       "      <th>3</th>\n",
       "      <td>Door Open</td>\n",
       "      <td>2015-06-17T07:36:25</td>\n",
       "      <td>2015-06-17T07:36:29</td>\n",
       "      <td>0시 00분 04초</td>\n",
       "      <td>4.093</td>\n",
       "      <td>78FBGA 7.5x11 CGHB08154 REV.3</td>\n",
       "      <td>2.25</td>\n",
       "      <td>415-517</td>\n",
       "      <td>야간</td>\n",
       "      <td>이은미</td>\n",
       "      <td>22.5</td>\n",
       "      <td>47.3</td>\n",
       "      <td>2.25</td>\n",
       "    </tr>\n",
       "    <tr>\n",
       "      <th>4</th>\n",
       "      <td>Door Open</td>\n",
       "      <td>2015-06-17T07:37:54</td>\n",
       "      <td>2015-06-17T07:41:58</td>\n",
       "      <td>0시 04분 04초</td>\n",
       "      <td>244.350</td>\n",
       "      <td>78FBGA 7.5x11 CGHB08154 REV.4</td>\n",
       "      <td>3.25</td>\n",
       "      <td>415-518</td>\n",
       "      <td>야간</td>\n",
       "      <td>이은미</td>\n",
       "      <td>22.5</td>\n",
       "      <td>47.3</td>\n",
       "      <td>3.25</td>\n",
       "    </tr>\n",
       "    <tr>\n",
       "      <th>5</th>\n",
       "      <td>자재 픽업 에러</td>\n",
       "      <td>2015-06-17T07:41:58</td>\n",
       "      <td>2015-06-17T07:43:18</td>\n",
       "      <td>0시 01분 20초</td>\n",
       "      <td>79.768</td>\n",
       "      <td>78FBGA 7.5x11 CGHB08154 REV.5</td>\n",
       "      <td>4.25</td>\n",
       "      <td>415-519</td>\n",
       "      <td>야간</td>\n",
       "      <td>이은미</td>\n",
       "      <td>22.5</td>\n",
       "      <td>47.3</td>\n",
       "      <td>4.25</td>\n",
       "    </tr>\n",
       "    <tr>\n",
       "      <th>6</th>\n",
       "      <td>Door Open</td>\n",
       "      <td>2015-06-17T07:43:32</td>\n",
       "      <td>2015-06-17T07:43:40</td>\n",
       "      <td>0시 00분 08초</td>\n",
       "      <td>8.188</td>\n",
       "      <td>78FBGA 7.5x11 CGHB08154 REV.6</td>\n",
       "      <td>5.25</td>\n",
       "      <td>415-520</td>\n",
       "      <td>야간</td>\n",
       "      <td>이은미</td>\n",
       "      <td>22.5</td>\n",
       "      <td>47.3</td>\n",
       "      <td>5.25</td>\n",
       "    </tr>\n",
       "    <tr>\n",
       "      <th>7</th>\n",
       "      <td>자재 픽업 에러</td>\n",
       "      <td>2015-06-17T07:43:40</td>\n",
       "      <td>2015-06-17T07:44:30</td>\n",
       "      <td>0시 00분 50초</td>\n",
       "      <td>49.627</td>\n",
       "      <td>78FBGA 7.5x11 CGHB08154 REV.7</td>\n",
       "      <td>6.25</td>\n",
       "      <td>415-521</td>\n",
       "      <td>야간</td>\n",
       "      <td>이은미</td>\n",
       "      <td>22.5</td>\n",
       "      <td>47.3</td>\n",
       "      <td>6.25</td>\n",
       "    </tr>\n",
       "    <tr>\n",
       "      <th>8</th>\n",
       "      <td>Door Open</td>\n",
       "      <td>2015-06-17T07:44:44</td>\n",
       "      <td>2015-06-17T07:44:52</td>\n",
       "      <td>0시 00분 08초</td>\n",
       "      <td>7.984</td>\n",
       "      <td>78FBGA 7.5x11 CGHB08154 REV.8</td>\n",
       "      <td>7.25</td>\n",
       "      <td>415-522</td>\n",
       "      <td>야간</td>\n",
       "      <td>이은미</td>\n",
       "      <td>22.5</td>\n",
       "      <td>47.3</td>\n",
       "      <td>7.25</td>\n",
       "    </tr>\n",
       "    <tr>\n",
       "      <th>9</th>\n",
       "      <td>Door Open</td>\n",
       "      <td>2015-06-17T07:44:52</td>\n",
       "      <td>2015-06-17T07:45:06</td>\n",
       "      <td>0시 00분 14초</td>\n",
       "      <td>13.908</td>\n",
       "      <td>78FBGA 7.5x11 CGHB08154 REV.9</td>\n",
       "      <td>8.25</td>\n",
       "      <td>415-523</td>\n",
       "      <td>야간</td>\n",
       "      <td>이은미</td>\n",
       "      <td>22.5</td>\n",
       "      <td>47.3</td>\n",
       "      <td>8.25</td>\n",
       "    </tr>\n",
       "  </tbody>\n",
       "</table>\n",
       "</div>"
      ],
      "text/plain": [
       "          메세지                 발생시간                 조치시간        정지시간    정지시간2  \\\n",
       "0  e-CIM 관련에러  2015-06-17T07:32:42  2015-06-17T07:32:54  0시 00분 12초   11.970   \n",
       "1   Door Open  2015-06-17T07:32:42  2015-06-17T07:32:54  0시 00분 12초   11.970   \n",
       "2       롯트 종료  2015-06-17T07:33:00  2015-06-17T07:33:05  0시 00분 04초    4.093   \n",
       "3   Door Open  2015-06-17T07:36:25  2015-06-17T07:36:29  0시 00분 04초    4.093   \n",
       "4   Door Open  2015-06-17T07:37:54  2015-06-17T07:41:58  0시 04분 04초  244.350   \n",
       "5    자재 픽업 에러  2015-06-17T07:41:58  2015-06-17T07:43:18  0시 01분 20초   79.768   \n",
       "6   Door Open  2015-06-17T07:43:32  2015-06-17T07:43:40  0시 00분 08초    8.188   \n",
       "7    자재 픽업 에러  2015-06-17T07:43:40  2015-06-17T07:44:30  0시 00분 50초   49.627   \n",
       "8   Door Open  2015-06-17T07:44:44  2015-06-17T07:44:52  0시 00분 08초    7.984   \n",
       "9   Door Open  2015-06-17T07:44:52  2015-06-17T07:45:06  0시 00분 14초   13.908   \n",
       "\n",
       "                              모델  제품두께    제품싸이즈 작업구분  작업자    온도    습도  \\\n",
       "0  78FBGA 7.5x11 CGHB08154 REV.1  0.25  415-515   야간  이은미  22.5  47.3   \n",
       "1  78FBGA 7.5x11 CGHB08154 REV.1  0.25  415-515   야간  이은미  22.5  47.3   \n",
       "2  78FBGA 7.5x11 CGHB08154 REV.2  1.25  415-516   야간  이은미  22.5  47.3   \n",
       "3  78FBGA 7.5x11 CGHB08154 REV.3  2.25  415-517   야간  이은미  22.5  47.3   \n",
       "4  78FBGA 7.5x11 CGHB08154 REV.4  3.25  415-518   야간  이은미  22.5  47.3   \n",
       "5  78FBGA 7.5x11 CGHB08154 REV.5  4.25  415-519   야간  이은미  22.5  47.3   \n",
       "6  78FBGA 7.5x11 CGHB08154 REV.6  5.25  415-520   야간  이은미  22.5  47.3   \n",
       "7  78FBGA 7.5x11 CGHB08154 REV.7  6.25  415-521   야간  이은미  22.5  47.3   \n",
       "8  78FBGA 7.5x11 CGHB08154 REV.8  7.25  415-522   야간  이은미  22.5  47.3   \n",
       "9  78FBGA 7.5x11 CGHB08154 REV.9  8.25  415-523   야간  이은미  22.5  47.3   \n",
       "\n",
       "   제품두께(float)  \n",
       "0         0.25  \n",
       "1         0.25  \n",
       "2         1.25  \n",
       "3         2.25  \n",
       "4         3.25  \n",
       "5         4.25  \n",
       "6         5.25  \n",
       "7         6.25  \n",
       "8         7.25  \n",
       "9         8.25  "
      ]
     },
     "execution_count": 4,
     "metadata": {},
     "output_type": "execute_result"
    }
   ],
   "source": [
    "df1.head(10)"
   ]
  },
  {
   "cell_type": "markdown",
   "id": "4980fd02",
   "metadata": {},
   "source": [
    "# MISSION 6."
   ]
  },
  {
   "cell_type": "markdown",
   "id": "11364a28",
   "metadata": {},
   "source": [
    "07_Data.csv 파일을 가져와 df1으로 선언해 아래와 같은 분석을 하고자 한다.  \n",
    "\n",
    "1) df1 데이터에서 '메세지'의 빈도수를 확인"
   ]
  },
  {
   "cell_type": "code",
   "execution_count": 5,
   "id": "92bde407",
   "metadata": {},
   "outputs": [
    {
     "data": {
      "text/plain": [
       "Door Open         1345\n",
       "자재 픽업 에러           425\n",
       "비젼 가동 준비 Error     234\n",
       "롯트 종료              229\n",
       "초기화 Error          215\n",
       "e-CIM 관련에러         133\n",
       "메가진 Full           119\n",
       "타임 오버               45\n",
       "SYSTEM HANG UP      35\n",
       "비젼 데이터               6\n",
       "ITS 데이터              3\n",
       "드라이버 알람              2\n",
       "컨드롤러 알람              1\n",
       "Name: 메세지, dtype: int64"
      ]
     },
     "execution_count": 5,
     "metadata": {},
     "output_type": "execute_result"
    }
   ],
   "source": [
    "df1['메세지'].value_counts()"
   ]
  },
  {
   "cell_type": "markdown",
   "id": "b6babe72",
   "metadata": {},
   "source": [
    "2) 오류 '메세지'가 가장 많은 항목을 추출하여 df_error로 선언"
   ]
  },
  {
   "cell_type": "code",
   "execution_count": 6,
   "id": "9cc97c0f",
   "metadata": {},
   "outputs": [
    {
     "data": {
      "text/html": [
       "<div>\n",
       "<style scoped>\n",
       "    .dataframe tbody tr th:only-of-type {\n",
       "        vertical-align: middle;\n",
       "    }\n",
       "\n",
       "    .dataframe tbody tr th {\n",
       "        vertical-align: top;\n",
       "    }\n",
       "\n",
       "    .dataframe thead th {\n",
       "        text-align: right;\n",
       "    }\n",
       "</style>\n",
       "<table border=\"1\" class=\"dataframe\">\n",
       "  <thead>\n",
       "    <tr style=\"text-align: right;\">\n",
       "      <th></th>\n",
       "      <th>메세지</th>\n",
       "      <th>발생시간</th>\n",
       "      <th>조치시간</th>\n",
       "      <th>정지시간</th>\n",
       "      <th>정지시간2</th>\n",
       "      <th>모델</th>\n",
       "      <th>제품두께</th>\n",
       "      <th>제품싸이즈</th>\n",
       "      <th>작업구분</th>\n",
       "      <th>작업자</th>\n",
       "      <th>온도</th>\n",
       "      <th>습도</th>\n",
       "      <th>제품두께(float)</th>\n",
       "    </tr>\n",
       "  </thead>\n",
       "  <tbody>\n",
       "    <tr>\n",
       "      <th>1</th>\n",
       "      <td>Door Open</td>\n",
       "      <td>2015-06-17T07:32:42</td>\n",
       "      <td>2015-06-17T07:32:54</td>\n",
       "      <td>0시 00분 12초</td>\n",
       "      <td>11.970</td>\n",
       "      <td>78FBGA 7.5x11 CGHB08154 REV.1</td>\n",
       "      <td>0.25</td>\n",
       "      <td>415-515</td>\n",
       "      <td>야간</td>\n",
       "      <td>이은미</td>\n",
       "      <td>22.5</td>\n",
       "      <td>47.3</td>\n",
       "      <td>0.25</td>\n",
       "    </tr>\n",
       "    <tr>\n",
       "      <th>3</th>\n",
       "      <td>Door Open</td>\n",
       "      <td>2015-06-17T07:36:25</td>\n",
       "      <td>2015-06-17T07:36:29</td>\n",
       "      <td>0시 00분 04초</td>\n",
       "      <td>4.093</td>\n",
       "      <td>78FBGA 7.5x11 CGHB08154 REV.3</td>\n",
       "      <td>2.25</td>\n",
       "      <td>415-517</td>\n",
       "      <td>야간</td>\n",
       "      <td>이은미</td>\n",
       "      <td>22.5</td>\n",
       "      <td>47.3</td>\n",
       "      <td>2.25</td>\n",
       "    </tr>\n",
       "    <tr>\n",
       "      <th>4</th>\n",
       "      <td>Door Open</td>\n",
       "      <td>2015-06-17T07:37:54</td>\n",
       "      <td>2015-06-17T07:41:58</td>\n",
       "      <td>0시 04분 04초</td>\n",
       "      <td>244.350</td>\n",
       "      <td>78FBGA 7.5x11 CGHB08154 REV.4</td>\n",
       "      <td>3.25</td>\n",
       "      <td>415-518</td>\n",
       "      <td>야간</td>\n",
       "      <td>이은미</td>\n",
       "      <td>22.5</td>\n",
       "      <td>47.3</td>\n",
       "      <td>3.25</td>\n",
       "    </tr>\n",
       "    <tr>\n",
       "      <th>6</th>\n",
       "      <td>Door Open</td>\n",
       "      <td>2015-06-17T07:43:32</td>\n",
       "      <td>2015-06-17T07:43:40</td>\n",
       "      <td>0시 00분 08초</td>\n",
       "      <td>8.188</td>\n",
       "      <td>78FBGA 7.5x11 CGHB08154 REV.6</td>\n",
       "      <td>5.25</td>\n",
       "      <td>415-520</td>\n",
       "      <td>야간</td>\n",
       "      <td>이은미</td>\n",
       "      <td>22.5</td>\n",
       "      <td>47.3</td>\n",
       "      <td>5.25</td>\n",
       "    </tr>\n",
       "    <tr>\n",
       "      <th>8</th>\n",
       "      <td>Door Open</td>\n",
       "      <td>2015-06-17T07:44:44</td>\n",
       "      <td>2015-06-17T07:44:52</td>\n",
       "      <td>0시 00분 08초</td>\n",
       "      <td>7.984</td>\n",
       "      <td>78FBGA 7.5x11 CGHB08154 REV.8</td>\n",
       "      <td>7.25</td>\n",
       "      <td>415-522</td>\n",
       "      <td>야간</td>\n",
       "      <td>이은미</td>\n",
       "      <td>22.5</td>\n",
       "      <td>47.3</td>\n",
       "      <td>7.25</td>\n",
       "    </tr>\n",
       "    <tr>\n",
       "      <th>...</th>\n",
       "      <td>...</td>\n",
       "      <td>...</td>\n",
       "      <td>...</td>\n",
       "      <td>...</td>\n",
       "      <td>...</td>\n",
       "      <td>...</td>\n",
       "      <td>...</td>\n",
       "      <td>...</td>\n",
       "      <td>...</td>\n",
       "      <td>...</td>\n",
       "      <td>...</td>\n",
       "      <td>...</td>\n",
       "      <td>...</td>\n",
       "    </tr>\n",
       "    <tr>\n",
       "      <th>2781</th>\n",
       "      <td>Door Open</td>\n",
       "      <td>2015-06-24T11:57:09</td>\n",
       "      <td>2015-06-24T11:57:25</td>\n",
       "      <td>0시 00분 16초</td>\n",
       "      <td>15.941</td>\n",
       "      <td>NaN</td>\n",
       "      <td>NaN</td>\n",
       "      <td>NaN</td>\n",
       "      <td>주간</td>\n",
       "      <td>NaN</td>\n",
       "      <td>22.5</td>\n",
       "      <td>47.3</td>\n",
       "      <td>NaN</td>\n",
       "    </tr>\n",
       "    <tr>\n",
       "      <th>2783</th>\n",
       "      <td>Door Open</td>\n",
       "      <td>2015-06-24T11:59:16</td>\n",
       "      <td>2015-06-24T11:59:26</td>\n",
       "      <td>0시 00분 10초</td>\n",
       "      <td>10.002</td>\n",
       "      <td>NaN</td>\n",
       "      <td>NaN</td>\n",
       "      <td>NaN</td>\n",
       "      <td>주간</td>\n",
       "      <td>NaN</td>\n",
       "      <td>22.5</td>\n",
       "      <td>47.3</td>\n",
       "      <td>NaN</td>\n",
       "    </tr>\n",
       "    <tr>\n",
       "      <th>2786</th>\n",
       "      <td>Door Open</td>\n",
       "      <td>2015-06-24T12:23:40</td>\n",
       "      <td>2015-06-24T12:23:48</td>\n",
       "      <td>0시 00분 08초</td>\n",
       "      <td>7.970</td>\n",
       "      <td>NaN</td>\n",
       "      <td>NaN</td>\n",
       "      <td>NaN</td>\n",
       "      <td>주간</td>\n",
       "      <td>NaN</td>\n",
       "      <td>22.5</td>\n",
       "      <td>47.3</td>\n",
       "      <td>NaN</td>\n",
       "    </tr>\n",
       "    <tr>\n",
       "      <th>2788</th>\n",
       "      <td>Door Open</td>\n",
       "      <td>2015-06-24T12:54:42</td>\n",
       "      <td>2015-06-24T12:55:08</td>\n",
       "      <td>0시 00분 26초</td>\n",
       "      <td>25.956</td>\n",
       "      <td>NaN</td>\n",
       "      <td>NaN</td>\n",
       "      <td>NaN</td>\n",
       "      <td>주간</td>\n",
       "      <td>NaN</td>\n",
       "      <td>22.5</td>\n",
       "      <td>47.3</td>\n",
       "      <td>NaN</td>\n",
       "    </tr>\n",
       "    <tr>\n",
       "      <th>2791</th>\n",
       "      <td>Door Open</td>\n",
       "      <td>2015-06-24T13:05:46</td>\n",
       "      <td>2015-06-24T13:05:50</td>\n",
       "      <td>0시 00분 04초</td>\n",
       "      <td>4.078</td>\n",
       "      <td>NaN</td>\n",
       "      <td>NaN</td>\n",
       "      <td>NaN</td>\n",
       "      <td>주간</td>\n",
       "      <td>NaN</td>\n",
       "      <td>22.5</td>\n",
       "      <td>47.3</td>\n",
       "      <td>NaN</td>\n",
       "    </tr>\n",
       "  </tbody>\n",
       "</table>\n",
       "<p>1345 rows × 13 columns</p>\n",
       "</div>"
      ],
      "text/plain": [
       "            메세지                 발생시간                 조치시간        정지시간  \\\n",
       "1     Door Open  2015-06-17T07:32:42  2015-06-17T07:32:54  0시 00분 12초   \n",
       "3     Door Open  2015-06-17T07:36:25  2015-06-17T07:36:29  0시 00분 04초   \n",
       "4     Door Open  2015-06-17T07:37:54  2015-06-17T07:41:58  0시 04분 04초   \n",
       "6     Door Open  2015-06-17T07:43:32  2015-06-17T07:43:40  0시 00분 08초   \n",
       "8     Door Open  2015-06-17T07:44:44  2015-06-17T07:44:52  0시 00분 08초   \n",
       "...         ...                  ...                  ...         ...   \n",
       "2781  Door Open  2015-06-24T11:57:09  2015-06-24T11:57:25  0시 00분 16초   \n",
       "2783  Door Open  2015-06-24T11:59:16  2015-06-24T11:59:26  0시 00분 10초   \n",
       "2786  Door Open  2015-06-24T12:23:40  2015-06-24T12:23:48  0시 00분 08초   \n",
       "2788  Door Open  2015-06-24T12:54:42  2015-06-24T12:55:08  0시 00분 26초   \n",
       "2791  Door Open  2015-06-24T13:05:46  2015-06-24T13:05:50  0시 00분 04초   \n",
       "\n",
       "        정지시간2                             모델  제품두께    제품싸이즈 작업구분  작업자    온도  \\\n",
       "1      11.970  78FBGA 7.5x11 CGHB08154 REV.1  0.25  415-515   야간  이은미  22.5   \n",
       "3       4.093  78FBGA 7.5x11 CGHB08154 REV.3  2.25  415-517   야간  이은미  22.5   \n",
       "4     244.350  78FBGA 7.5x11 CGHB08154 REV.4  3.25  415-518   야간  이은미  22.5   \n",
       "6       8.188  78FBGA 7.5x11 CGHB08154 REV.6  5.25  415-520   야간  이은미  22.5   \n",
       "8       7.984  78FBGA 7.5x11 CGHB08154 REV.8  7.25  415-522   야간  이은미  22.5   \n",
       "...       ...                            ...   ...      ...  ...  ...   ...   \n",
       "2781   15.941                            NaN   NaN      NaN   주간  NaN  22.5   \n",
       "2783   10.002                            NaN   NaN      NaN   주간  NaN  22.5   \n",
       "2786    7.970                            NaN   NaN      NaN   주간  NaN  22.5   \n",
       "2788   25.956                            NaN   NaN      NaN   주간  NaN  22.5   \n",
       "2791    4.078                            NaN   NaN      NaN   주간  NaN  22.5   \n",
       "\n",
       "        습도  제품두께(float)  \n",
       "1     47.3         0.25  \n",
       "3     47.3         2.25  \n",
       "4     47.3         3.25  \n",
       "6     47.3         5.25  \n",
       "8     47.3         7.25  \n",
       "...    ...          ...  \n",
       "2781  47.3          NaN  \n",
       "2783  47.3          NaN  \n",
       "2786  47.3          NaN  \n",
       "2788  47.3          NaN  \n",
       "2791  47.3          NaN  \n",
       "\n",
       "[1345 rows x 13 columns]"
      ]
     },
     "execution_count": 6,
     "metadata": {},
     "output_type": "execute_result"
    }
   ],
   "source": [
    "most_error = df1['메세지'].value_counts().sort_values(ascending = False).index.to_list()[0]\n",
    "cond1 = (df1['메세지']==most_error)\n",
    "df_error = df1.loc[cond1]\n",
    "df_error"
   ]
  },
  {
   "cell_type": "markdown",
   "id": "4d6b7b13",
   "metadata": {},
   "source": [
    "3) df_error 데이터의 '작업구분' (주/야간)에 따른 '정지시간2' (오류 조치시간)의 평균을 계산하여, result_error.csv 로 저장 "
   ]
  },
  {
   "cell_type": "code",
   "execution_count": 7,
   "id": "30deac8f",
   "metadata": {},
   "outputs": [],
   "source": [
    "df_error.pivot_table(index='작업구분', values='정지시간2', aggfunc='mean').to_csv('result_error.csv')"
   ]
  },
  {
   "cell_type": "markdown",
   "id": "3a3d7286",
   "metadata": {},
   "source": [
    "4) df_error 데이터의 '작업구분' (주/야간)에 따른 '정지시간2' (오류 조치시간)의 평균의 차이가 있는지 가설검정을 수행 "
   ]
  },
  {
   "cell_type": "code",
   "execution_count": 8,
   "id": "ba82a9af",
   "metadata": {},
   "outputs": [
    {
     "data": {
      "text/plain": [
       "NormaltestResult(statistic=2647.03980170818, pvalue=0.0)"
      ]
     },
     "execution_count": 8,
     "metadata": {},
     "output_type": "execute_result"
    }
   ],
   "source": [
    "# 4-1) '정지시간2'에 대한 데이터가 정규성을 따르는가?\n",
    "#       귀무가설 : 해당 데이터의 분포는 정규분포를 따른다\n",
    "#       대립가설 : 해당 데이터의 분포는 정규분포를 따르지 않는다\n",
    "stats.normaltest(df_error['정지시간2'])\n",
    "# P-value < 0.05 | 대립가설 참 | 해당 데이터의 분포는 정규분포를 따르지 않는다"
   ]
  },
  {
   "cell_type": "code",
   "execution_count": 9,
   "id": "d09867ea",
   "metadata": {},
   "outputs": [
    {
     "data": {
      "text/plain": [
       "RanksumsResult(statistic=1.663870780217619, pvalue=0.09613825542066314)"
      ]
     },
     "execution_count": 9,
     "metadata": {},
     "output_type": "execute_result"
    }
   ],
   "source": [
    "# 귀무가설 : 작업구분에 따른 정지시간2의 평균의 차이가 없다. \n",
    "# 대립가설 : 작업구분에 따른 정지시간2의 평균의 차이가 있다.\n",
    "cond1 = (df_error['작업구분']=='주간')\n",
    "cond2 = (df_error['작업구분']=='야간')\n",
    "stats.ranksums(df_error.loc[cond1]['정지시간2'], df_error.loc[cond2]['정지시간2'])\n",
    "# P.value > 0.05 / 귀무가설 참 / 작업구분에 따른 정지시간2의 평균의 차이가 없다."
   ]
  },
  {
   "cell_type": "markdown",
   "id": "3aa3fd0c",
   "metadata": {},
   "source": [
    "5) df_error 데이터의 '제품두께(float)'에 따른 '정지시간2'의 상관관계를 산점도로 시각화 하시오"
   ]
  },
  {
   "cell_type": "code",
   "execution_count": 11,
   "id": "a546aa8b",
   "metadata": {},
   "outputs": [
    {
     "data": {
      "text/plain": [
       "<AxesSubplot:xlabel='제품두께(float)', ylabel='정지시간2'>"
      ]
     },
     "execution_count": 11,
     "metadata": {},
     "output_type": "execute_result"
    },
    {
     "data": {
      "image/png": "[encoded data removed]",
      "text/plain": [
       "<Figure size 640x480 with 1 Axes>"
      ]
     },
     "metadata": {},
     "output_type": "display_data"
    }
   ],
   "source": [
    "plt.ylim([0, 1000])\n",
    "plt.xlim([0, 10])\n",
    "sns.scatterplot(data=df_error, x='제품두께(float)', y='정지시간2')"
   ]
  },
  {
   "cell_type": "markdown",
   "id": "bc51f597",
   "metadata": {},
   "source": [
    "6) df_error 데이터의 '제품두께(float)'에 따른 '정지시간2'의 상관관계가 있는지 가설검정을 수행"
   ]
  },
  {
   "cell_type": "code",
   "execution_count": 14,
   "id": "544e41ae",
   "metadata": {},
   "outputs": [
    {
     "data": {
      "text/plain": [
       "NormaltestResult(statistic=2647.03980170818, pvalue=0.0)"
      ]
     },
     "execution_count": 14,
     "metadata": {},
     "output_type": "execute_result"
    }
   ],
   "source": [
    "stats.normaltest(df_error['정지시간2'])"
   ]
  },
  {
   "cell_type": "code",
   "execution_count": 17,
   "id": "8722f2e6",
   "metadata": {},
   "outputs": [
    {
     "data": {
      "text/plain": [
       "NormaltestResult(statistic=nan, pvalue=nan)"
      ]
     },
     "execution_count": 17,
     "metadata": {},
     "output_type": "execute_result"
    }
   ],
   "source": [
    "stats.normaltest(df_error['제품두께(float)'])"
   ]
  },
  {
   "cell_type": "code",
   "execution_count": 18,
   "id": "d8a42b0c",
   "metadata": {},
   "outputs": [],
   "source": [
    "df_error2 = df_error.dropna()"
   ]
  },
  {
   "cell_type": "code",
   "execution_count": 19,
   "id": "564467d4",
   "metadata": {},
   "outputs": [
    {
     "name": "stdout",
     "output_type": "stream",
     "text": [
      "NormaltestResult(statistic=1056.047139580023, pvalue=4.811464937787554e-230)\n",
      "NormaltestResult(statistic=627.213616388511, pvalue=6.342985431902706e-137)\n"
     ]
    }
   ],
   "source": [
    "print(stats.normaltest(df_error2['정지시간2']))\n",
    "print(stats.normaltest(df_error2['제품두께(float)']))"
   ]
  },
  {
   "cell_type": "code",
   "execution_count": 20,
   "id": "36e3f7c2",
   "metadata": {},
   "outputs": [
    {
     "data": {
      "text/plain": [
       "SpearmanrResult(correlation=-0.04930074002078617, pvalue=0.25676477733540515)"
      ]
     },
     "execution_count": 20,
     "metadata": {},
     "output_type": "execute_result"
    }
   ],
   "source": [
    "# 제품 두께에 따른 정지시간2가 서로 상관성이 있는가?\n",
    "# 귀무 가설 : 제품 두께에 따른 정지시간2가 서로 상관성이 없다.\n",
    "# 대립 가설 : 제품 두께에 따른 정지시간2가 서로 상관성이 있다.\n",
    "stats.spearmanr(df_error2['정지시간2'], df_error2['제품두께(float)'])\n",
    "# P-value > 0.05 | 귀무가설 참 | 두 연속형 자료는 서로 상관성이 없다."
   ]
  },
  {
   "cell_type": "markdown",
   "id": "5a7f4955",
   "metadata": {},
   "source": [
    "08_Data.csv 데이터를 가져와 df3로 선언하여 아래와 같은 미션을 수행 \n",
    "\n",
    "7) df3 데이터의 구조와 타입을 확인하고, 연속형 데이터의 평균/중앙값/표준편차를 확인"
   ]
  },
  {
   "cell_type": "code",
   "execution_count": 21,
   "id": "e52ff125",
   "metadata": {
    "scrolled": false
   },
   "outputs": [
    {
     "name": "stdout",
     "output_type": "stream",
     "text": [
      "<class 'pandas.core.frame.DataFrame'>\n",
      "RangeIndex: 311 entries, 0 to 310\n",
      "Data columns (total 67 columns):\n",
      " #   Column         Non-Null Count  Dtype  \n",
      "---  ------         --------------  -----  \n",
      " 0   DATE           311 non-null    object \n",
      " 1   Target         303 non-null    float64\n",
      " 2   Etching1       311 non-null    float64\n",
      " 3   Etching2       311 non-null    float64\n",
      " 4   Etching3       311 non-null    float64\n",
      " 5   CVD1           311 non-null    float64\n",
      " 6   CVD2           311 non-null    float64\n",
      " 7   CVD3           311 non-null    float64\n",
      " 8   Photo1         311 non-null    float64\n",
      " 9   Photo2         311 non-null    float64\n",
      " 10  D2TI13027 24   311 non-null    float64\n",
      " 11  D2TI13029 18   311 non-null    float64\n",
      " 12  D2TI13029 19   311 non-null    float64\n",
      " 13  D2TI13029 20   311 non-null    float64\n",
      " 14  D2TI13030 1    311 non-null    float64\n",
      " 15  D2TI13031 21   311 non-null    float64\n",
      " 16  D2TI13032 16   311 non-null    float64\n",
      " 17  D2TI13047 20   311 non-null    float64\n",
      " 18  D2TI13050 12   311 non-null    float64\n",
      " 19  D2TI13078 8    311 non-null    float64\n",
      " 20  D2TI13084 18   311 non-null    float64\n",
      " 21  D2TI13102 24   311 non-null    float64\n",
      " 22  D2TI13105 23   311 non-null    float64\n",
      " 23  D2TI13107 8    311 non-null    float64\n",
      " 24  D2TI13108 7    311 non-null    float64\n",
      " 25  D2TI13108 8    311 non-null    float64\n",
      " 26  D2TI13109 5    311 non-null    float64\n",
      " 27  D2TI13109 7    311 non-null    float64\n",
      " 28  D2TI13109 9    311 non-null    float64\n",
      " 29  D2TI13109 17   311 non-null    float64\n",
      " 30  D2TI13109 20   311 non-null    float64\n",
      " 31  D2TI13110 13   311 non-null    float64\n",
      " 32  D2TI13123 6    311 non-null    float64\n",
      " 33  D2TI13132 1    311 non-null    float64\n",
      " 34  D2TI13132 8    311 non-null    float64\n",
      " 35  D2TI13132 23   311 non-null    float64\n",
      " 36  D2TI13134 19   311 non-null    float64\n",
      " 37  D2TI13135 3    311 non-null    float64\n",
      " 38  D2TI13152 10   311 non-null    float64\n",
      " 39  D2TI13152 23   311 non-null    float64\n",
      " 40  D2TI13206 4    311 non-null    float64\n",
      " 41  D2TI13206 16   311 non-null    float64\n",
      " 42  D2TI13208 9    311 non-null    float64\n",
      " 43  D2TI13208 24   311 non-null    float64\n",
      " 44  D2TI13215 19   311 non-null    float64\n",
      " 45  D2TI13415 21   311 non-null    float64\n",
      " 46  D2TI14002 22   311 non-null    float64\n",
      " 47  D2TI14009 2    311 non-null    float64\n",
      " 48  D2TI14010 6    311 non-null    float64\n",
      " 49  D2TI14010 23   311 non-null    float64\n",
      " 50  D2TI14021 7    311 non-null    float64\n",
      " 51  D2TI16002 2    311 non-null    float64\n",
      " 52  D2TI17103 15   311 non-null    float64\n",
      " 53  D2TI17103 22   311 non-null    float64\n",
      " 54  D2TI17104 15   311 non-null    float64\n",
      " 55  D2TI17105 4    311 non-null    float64\n",
      " 56  D2TI17105 14   311 non-null    float64\n",
      " 57  D2TI17106 5    311 non-null    float64\n",
      " 58  D2TI17107 14   311 non-null    float64\n",
      " 59  D2TI17109 6    311 non-null    float64\n",
      " 60  D2TI17109 9    311 non-null    float64\n",
      " 61  D2TI17109 14   311 non-null    float64\n",
      " 62  D2TI17109 15   311 non-null    float64\n",
      " 63  D2TI18038 13   311 non-null    float64\n",
      " 64  D2TIC13007 7   311 non-null    float64\n",
      " 65  D2TIC13007 8   311 non-null    float64\n",
      " 66  D2TIC13111 11  311 non-null    float64\n",
      "dtypes: float64(66), object(1)\n",
      "memory usage: 162.9+ KB\n"
     ]
    }
   ],
   "source": [
    "df3 = pd.read_csv('08_Data.csv')\n",
    "df3.info()"
   ]
  },
  {
   "cell_type": "code",
   "execution_count": 23,
   "id": "ebde8979",
   "metadata": {},
   "outputs": [
    {
     "data": {
      "text/html": [
       "<div>\n",
       "<style scoped>\n",
       "    .dataframe tbody tr th:only-of-type {\n",
       "        vertical-align: middle;\n",
       "    }\n",
       "\n",
       "    .dataframe tbody tr th {\n",
       "        vertical-align: top;\n",
       "    }\n",
       "\n",
       "    .dataframe thead th {\n",
       "        text-align: right;\n",
       "    }\n",
       "</style>\n",
       "<table border=\"1\" class=\"dataframe\">\n",
       "  <thead>\n",
       "    <tr style=\"text-align: right;\">\n",
       "      <th></th>\n",
       "      <th>Target</th>\n",
       "      <th>Etching1</th>\n",
       "      <th>Etching2</th>\n",
       "      <th>Etching3</th>\n",
       "      <th>CVD1</th>\n",
       "      <th>CVD2</th>\n",
       "      <th>CVD3</th>\n",
       "      <th>Photo1</th>\n",
       "      <th>Photo2</th>\n",
       "      <th>D2TI13027 24</th>\n",
       "      <th>...</th>\n",
       "      <th>D2TI17106 5</th>\n",
       "      <th>D2TI17107 14</th>\n",
       "      <th>D2TI17109 6</th>\n",
       "      <th>D2TI17109 9</th>\n",
       "      <th>D2TI17109 14</th>\n",
       "      <th>D2TI17109 15</th>\n",
       "      <th>D2TI18038 13</th>\n",
       "      <th>D2TIC13007 7</th>\n",
       "      <th>D2TIC13007 8</th>\n",
       "      <th>D2TIC13111 11</th>\n",
       "    </tr>\n",
       "  </thead>\n",
       "  <tbody>\n",
       "    <tr>\n",
       "      <th>mean</th>\n",
       "      <td>0.509241</td>\n",
       "      <td>32.638927</td>\n",
       "      <td>30.561051</td>\n",
       "      <td>0.071898</td>\n",
       "      <td>0.025756</td>\n",
       "      <td>0.012729</td>\n",
       "      <td>11.934937</td>\n",
       "      <td>15.923694</td>\n",
       "      <td>70.747232</td>\n",
       "      <td>202.257701</td>\n",
       "      <td>...</td>\n",
       "      <td>137.587040</td>\n",
       "      <td>119.354150</td>\n",
       "      <td>149.696091</td>\n",
       "      <td>149.708563</td>\n",
       "      <td>149.655876</td>\n",
       "      <td>149.628785</td>\n",
       "      <td>157.733457</td>\n",
       "      <td>128.021247</td>\n",
       "      <td>127.939578</td>\n",
       "      <td>190.976201</td>\n",
       "    </tr>\n",
       "    <tr>\n",
       "      <th>50%</th>\n",
       "      <td>0.400000</td>\n",
       "      <td>33.247881</td>\n",
       "      <td>30.400123</td>\n",
       "      <td>0.010473</td>\n",
       "      <td>0.010003</td>\n",
       "      <td>0.012625</td>\n",
       "      <td>0.069559</td>\n",
       "      <td>0.530937</td>\n",
       "      <td>70.964105</td>\n",
       "      <td>202.603585</td>\n",
       "      <td>...</td>\n",
       "      <td>134.370491</td>\n",
       "      <td>117.278060</td>\n",
       "      <td>150.139847</td>\n",
       "      <td>150.143612</td>\n",
       "      <td>150.106898</td>\n",
       "      <td>150.077834</td>\n",
       "      <td>160.073815</td>\n",
       "      <td>127.997058</td>\n",
       "      <td>127.990931</td>\n",
       "      <td>190.348197</td>\n",
       "    </tr>\n",
       "    <tr>\n",
       "      <th>std</th>\n",
       "      <td>0.471204</td>\n",
       "      <td>4.224098</td>\n",
       "      <td>7.865913</td>\n",
       "      <td>0.857433</td>\n",
       "      <td>0.264043</td>\n",
       "      <td>0.002208</td>\n",
       "      <td>12.718985</td>\n",
       "      <td>16.866122</td>\n",
       "      <td>5.053837</td>\n",
       "      <td>5.897030</td>\n",
       "      <td>...</td>\n",
       "      <td>8.345374</td>\n",
       "      <td>7.373823</td>\n",
       "      <td>2.982833</td>\n",
       "      <td>2.939580</td>\n",
       "      <td>2.890538</td>\n",
       "      <td>2.890104</td>\n",
       "      <td>3.175006</td>\n",
       "      <td>1.897572</td>\n",
       "      <td>0.983469</td>\n",
       "      <td>5.733196</td>\n",
       "    </tr>\n",
       "  </tbody>\n",
       "</table>\n",
       "<p>3 rows × 66 columns</p>\n",
       "</div>"
      ],
      "text/plain": [
       "        Target   Etching1   Etching2  Etching3      CVD1      CVD2       CVD3  \\\n",
       "mean  0.509241  32.638927  30.561051  0.071898  0.025756  0.012729  11.934937   \n",
       "50%   0.400000  33.247881  30.400123  0.010473  0.010003  0.012625   0.069559   \n",
       "std   0.471204   4.224098   7.865913  0.857433  0.264043  0.002208  12.718985   \n",
       "\n",
       "         Photo1     Photo2  D2TI13027 24  ...  D2TI17106 5  D2TI17107 14  \\\n",
       "mean  15.923694  70.747232    202.257701  ...   137.587040    119.354150   \n",
       "50%    0.530937  70.964105    202.603585  ...   134.370491    117.278060   \n",
       "std   16.866122   5.053837      5.897030  ...     8.345374      7.373823   \n",
       "\n",
       "      D2TI17109 6  D2TI17109 9  D2TI17109 14  D2TI17109 15  D2TI18038 13  \\\n",
       "mean   149.696091   149.708563    149.655876    149.628785    157.733457   \n",
       "50%    150.139847   150.143612    150.106898    150.077834    160.073815   \n",
       "std      2.982833     2.939580      2.890538      2.890104      3.175006   \n",
       "\n",
       "      D2TIC13007 7  D2TIC13007 8  D2TIC13111 11  \n",
       "mean    128.021247    127.939578     190.976201  \n",
       "50%     127.997058    127.990931     190.348197  \n",
       "std       1.897572      0.983469       5.733196  \n",
       "\n",
       "[3 rows x 66 columns]"
      ]
     },
     "execution_count": 23,
     "metadata": {},
     "output_type": "execute_result"
    }
   ],
   "source": [
    "df3.describe().loc[['mean', '50%', 'std']]"
   ]
  },
  {
   "cell_type": "markdown",
   "id": "e5d0af81",
   "metadata": {},
   "source": [
    "8) df3 데이터에서 Etching1 에 해당하는 값을 34를 기준으로 분할  \n",
    "\n",
    "    - Etching1이 34 이상이면 A  \n",
    "    - Etching1이 34 미만이면 B 로 '분류'라는 새로운 변수로 선언"
   ]
  },
  {
   "cell_type": "code",
   "execution_count": 25,
   "id": "e2d1cc5a",
   "metadata": {},
   "outputs": [],
   "source": [
    "cond1 = (df3['Etching1'] >= 34)\n",
    "df3.loc[cond1, '분류'] = 'A'   \n",
    "df3.loc[~cond1, '분류'] = 'B'"
   ]
  },
  {
   "cell_type": "markdown",
   "id": "7c454d52",
   "metadata": {},
   "source": [
    "9) df3에서 CVD1과 CVD2 데이터의 상관성이 있는지 분석하고자 한다.\n",
    "\n",
    "    - CVD1값과 CVD2값의 산점도를 scatterplot으로 시각화 하시오"
   ]
  },
  {
   "cell_type": "code",
   "execution_count": 50,
   "id": "adaeae35",
   "metadata": {},
   "outputs": [
    {
     "data": {
      "text/plain": [
       "<AxesSubplot:xlabel='CVD1', ylabel='CVD2'>"
      ]
     },
     "execution_count": 50,
     "metadata": {},
     "output_type": "execute_result"
    },
    {
     "data": {
      "image/png": "[encoded data removed]",
      "text/plain": [
       "<Figure size 640x480 with 1 Axes>"
      ]
     },
     "metadata": {},
     "output_type": "display_data"
    }
   ],
   "source": [
    "plt.ylim([0, 0.02])\n",
    "plt.xlim([0, 0.04])\n",
    "sns.scatterplot(data=df3, x='CVD1', y='CVD2')"
   ]
  },
  {
   "cell_type": "markdown",
   "id": "3143c178",
   "metadata": {},
   "source": [
    "    - '분류'에 따른 CVD1과 CVD2값을 산점도로 시각화 하시오 "
   ]
  },
  {
   "cell_type": "code",
   "execution_count": 46,
   "id": "150c884f",
   "metadata": {},
   "outputs": [
    {
     "data": {
      "image/png": "[encoded data removed]",
      "text/plain": [
       "<Figure size 640x480 with 1 Axes>"
      ]
     },
     "metadata": {},
     "output_type": "display_data"
    }
   ],
   "source": [
    "cond1 = (df3['분류'] == 'A')\n",
    "cond2 = (df3['분류'] == 'B')\n",
    "df3_A = df3.loc[cond1]\n",
    "df3_B = df3.loc[cond2]\n",
    "plt.scatter(df3_A['CVD1'], df3_A['CVD2'], color = 'red', alpha = 0.5, label = '분류 A')\n",
    "plt.scatter(df3_B['CVD1'], df3_B['CVD2'], color = 'blue', alpha = 0.5, label = '분류 B')\n",
    "\n",
    "plt.ylim([0, 0.02])\n",
    "plt.xlim([0, 0.04])\n",
    "\n",
    "plt.legend()\n",
    "plt.show()"
   ]
  },
  {
   "cell_type": "markdown",
   "id": "9e91b8f2",
   "metadata": {},
   "source": [
    "10) df3에서 Target값이 높은 상위 100개 데이터를 추출하여,\n",
    "\n",
    "    - '분류'에 (A,B) 따른 CVD3의 평균의 유의미한 차이가 있는지 가설검정 \n",
    "    -  결측값은 제거 후 검정 진행 / P.value 와 결론까지 작성"
   ]
  },
  {
   "cell_type": "code",
   "execution_count": 47,
   "id": "b4099bf0",
   "metadata": {},
   "outputs": [],
   "source": [
    "df3_target = df3.sort_values(by='Target', ascending=False).head(100)"
   ]
  },
  {
   "cell_type": "code",
   "execution_count": 57,
   "id": "b33664a9",
   "metadata": {},
   "outputs": [
    {
     "name": "stdout",
     "output_type": "stream",
     "text": [
      "0\n",
      "0\n"
     ]
    }
   ],
   "source": [
    "print(df3_target.isnull().sum()['CVD3'])\n",
    "print(df3_target.isnull().sum()['분류'])\n",
    "# 결측값은 없다."
   ]
  },
  {
   "cell_type": "code",
   "execution_count": 49,
   "id": "4a7d4664",
   "metadata": {},
   "outputs": [
    {
     "data": {
      "text/plain": [
       "NormaltestResult(statistic=1015.157884834421, pvalue=3.641381470367694e-221)"
      ]
     },
     "execution_count": 49,
     "metadata": {},
     "output_type": "execute_result"
    }
   ],
   "source": [
    "# 10-1) 'CVD3'에 대한 데이터가 정규성을 따르는가?\n",
    "#        귀무가설 : 해당 데이터의 분포는 정규분포를 따른다\n",
    "#        대립가설 : 해당 데이터의 분포는 정규분포를 따르지 않는다\n",
    "stats.normaltest(df3_target['CVD3'])\n",
    "# P-value < 0.05 | 대립가설 참 | 해당 데이터의 분포는 정규분포를 따르지 않는다"
   ]
  },
  {
   "cell_type": "code",
   "execution_count": 53,
   "id": "20bbd7de",
   "metadata": {},
   "outputs": [
    {
     "data": {
      "text/plain": [
       "RanksumsResult(statistic=2.0892453131193944, pvalue=0.0366856463687836)"
      ]
     },
     "execution_count": 53,
     "metadata": {},
     "output_type": "execute_result"
    }
   ],
   "source": [
    "# 102\n",
    "# 귀무가설 : 분류에 따른 CVD3의 평균의 차이가 없다. \n",
    "# 대립가설 : 분류에 따른 CVD3의 평균의 차이가 있다.\n",
    "cond1 = (df3_target['분류']=='A')\n",
    "cond2 = (df3_target['분류']=='B')\n",
    "stats.ranksums(df3_target.loc[cond1]['CVD3'], df3_target.loc[cond2]['CVD3'])\n",
    "# P.value < 0.05 / 대립가설 참 / 분류에 따른 CVD3의 평균의 차이가 있다."
   ]
  },
  {
   "cell_type": "markdown",
   "id": "9c265866",
   "metadata": {},
   "source": [
    "    - '분류'에 (A,B) 따른 CVD3값의 평균을 bar chart로 시각화"
   ]
  },
  {
   "cell_type": "code",
   "execution_count": 60,
   "id": "cb9ba12b",
   "metadata": {},
   "outputs": [
    {
     "data": {
      "image/png": "[encoded data removed]",
      "text/plain": [
       "<Figure size 640x480 with 1 Axes>"
      ]
     },
     "metadata": {},
     "output_type": "display_data"
    }
   ],
   "source": [
    "sns.barplot(data=df3_target, x=\"분류\", y=\"CVD3\", ci= None)\n",
    "plt.show()"
   ]
  },
  {
   "cell_type": "markdown",
   "id": "5bb96d82",
   "metadata": {},
   "source": [
    "11) df3의 '분류'에 따른 'Photo1'값과 'Photo2'값의 합/최대/최소값을 계산 "
   ]
  },
  {
   "cell_type": "code",
   "execution_count": 62,
   "id": "904770a2",
   "metadata": {},
   "outputs": [
    {
     "data": {
      "text/html": [
       "<div>\n",
       "<style scoped>\n",
       "    .dataframe tbody tr th:only-of-type {\n",
       "        vertical-align: middle;\n",
       "    }\n",
       "\n",
       "    .dataframe tbody tr th {\n",
       "        vertical-align: top;\n",
       "    }\n",
       "\n",
       "    .dataframe thead tr th {\n",
       "        text-align: left;\n",
       "    }\n",
       "\n",
       "    .dataframe thead tr:last-of-type th {\n",
       "        text-align: right;\n",
       "    }\n",
       "</style>\n",
       "<table border=\"1\" class=\"dataframe\">\n",
       "  <thead>\n",
       "    <tr>\n",
       "      <th></th>\n",
       "      <th colspan=\"2\" halign=\"left\">sum</th>\n",
       "      <th colspan=\"2\" halign=\"left\">max</th>\n",
       "      <th colspan=\"2\" halign=\"left\">min</th>\n",
       "    </tr>\n",
       "    <tr>\n",
       "      <th></th>\n",
       "      <th>Photo1</th>\n",
       "      <th>Photo2</th>\n",
       "      <th>Photo1</th>\n",
       "      <th>Photo2</th>\n",
       "      <th>Photo1</th>\n",
       "      <th>Photo2</th>\n",
       "    </tr>\n",
       "    <tr>\n",
       "      <th>분류</th>\n",
       "      <th></th>\n",
       "      <th></th>\n",
       "      <th></th>\n",
       "      <th></th>\n",
       "      <th></th>\n",
       "      <th></th>\n",
       "    </tr>\n",
       "  </thead>\n",
       "  <tbody>\n",
       "    <tr>\n",
       "      <th>A</th>\n",
       "      <td>2020.854284</td>\n",
       "      <td>9129.070599</td>\n",
       "      <td>35.0</td>\n",
       "      <td>74.618795</td>\n",
       "      <td>0.003882</td>\n",
       "      <td>6.481900e+01</td>\n",
       "    </tr>\n",
       "    <tr>\n",
       "      <th>B</th>\n",
       "      <td>2931.414587</td>\n",
       "      <td>12873.318680</td>\n",
       "      <td>35.0</td>\n",
       "      <td>95.724768</td>\n",
       "      <td>0.003726</td>\n",
       "      <td>5.028307e-19</td>\n",
       "    </tr>\n",
       "  </tbody>\n",
       "</table>\n",
       "</div>"
      ],
      "text/plain": [
       "            sum                  max                  min              \n",
       "         Photo1        Photo2 Photo1     Photo2    Photo1        Photo2\n",
       "분류                                                                     \n",
       "A   2020.854284   9129.070599   35.0  74.618795  0.003882  6.481900e+01\n",
       "B   2931.414587  12873.318680   35.0  95.724768  0.003726  5.028307e-19"
      ]
     },
     "execution_count": 62,
     "metadata": {},
     "output_type": "execute_result"
    }
   ],
   "source": [
    "df3.pivot_table(index='분류', values=['Photo1', 'Photo2'], aggfunc=['sum','max', 'min'])"
   ]
  },
  {
   "cell_type": "markdown",
   "id": "aa7db972",
   "metadata": {},
   "source": [
    "12) df3의 'DATE'항목을 날짜데이터로 변환하여, 'DATE_dt'로 선언한 뒤, 일자만 추출하여, \n",
    "\n",
    "    - '분류'에 따른 '일자'별 'Target'값의 합을 계산\n"
   ]
  },
  {
   "cell_type": "code",
   "execution_count": 67,
   "id": "4ca14eb2",
   "metadata": {},
   "outputs": [
    {
     "data": {
      "text/html": [
       "<div>\n",
       "<style scoped>\n",
       "    .dataframe tbody tr th:only-of-type {\n",
       "        vertical-align: middle;\n",
       "    }\n",
       "\n",
       "    .dataframe tbody tr th {\n",
       "        vertical-align: top;\n",
       "    }\n",
       "\n",
       "    .dataframe thead th {\n",
       "        text-align: right;\n",
       "    }\n",
       "</style>\n",
       "<table border=\"1\" class=\"dataframe\">\n",
       "  <thead>\n",
       "    <tr style=\"text-align: right;\">\n",
       "      <th>분류</th>\n",
       "      <th>A</th>\n",
       "      <th>B</th>\n",
       "    </tr>\n",
       "    <tr>\n",
       "      <th>일자</th>\n",
       "      <th></th>\n",
       "      <th></th>\n",
       "    </tr>\n",
       "  </thead>\n",
       "  <tbody>\n",
       "    <tr>\n",
       "      <th>1</th>\n",
       "      <td>2.5</td>\n",
       "      <td>10.1</td>\n",
       "    </tr>\n",
       "    <tr>\n",
       "      <th>2</th>\n",
       "      <td>3.2</td>\n",
       "      <td>3.7</td>\n",
       "    </tr>\n",
       "    <tr>\n",
       "      <th>9</th>\n",
       "      <td>NaN</td>\n",
       "      <td>2.0</td>\n",
       "    </tr>\n",
       "    <tr>\n",
       "      <th>10</th>\n",
       "      <td>NaN</td>\n",
       "      <td>0.9</td>\n",
       "    </tr>\n",
       "    <tr>\n",
       "      <th>11</th>\n",
       "      <td>NaN</td>\n",
       "      <td>2.0</td>\n",
       "    </tr>\n",
       "    <tr>\n",
       "      <th>12</th>\n",
       "      <td>5.2</td>\n",
       "      <td>0.8</td>\n",
       "    </tr>\n",
       "    <tr>\n",
       "      <th>13</th>\n",
       "      <td>6.6</td>\n",
       "      <td>NaN</td>\n",
       "    </tr>\n",
       "    <tr>\n",
       "      <th>14</th>\n",
       "      <td>0.9</td>\n",
       "      <td>0.5</td>\n",
       "    </tr>\n",
       "    <tr>\n",
       "      <th>15</th>\n",
       "      <td>NaN</td>\n",
       "      <td>0.2</td>\n",
       "    </tr>\n",
       "    <tr>\n",
       "      <th>16</th>\n",
       "      <td>0.3</td>\n",
       "      <td>NaN</td>\n",
       "    </tr>\n",
       "    <tr>\n",
       "      <th>18</th>\n",
       "      <td>0.3</td>\n",
       "      <td>0.9</td>\n",
       "    </tr>\n",
       "    <tr>\n",
       "      <th>19</th>\n",
       "      <td>0.7</td>\n",
       "      <td>1.8</td>\n",
       "    </tr>\n",
       "    <tr>\n",
       "      <th>20</th>\n",
       "      <td>4.3</td>\n",
       "      <td>2.2</td>\n",
       "    </tr>\n",
       "    <tr>\n",
       "      <th>21</th>\n",
       "      <td>10.6</td>\n",
       "      <td>1.7</td>\n",
       "    </tr>\n",
       "    <tr>\n",
       "      <th>22</th>\n",
       "      <td>NaN</td>\n",
       "      <td>5.2</td>\n",
       "    </tr>\n",
       "    <tr>\n",
       "      <th>23</th>\n",
       "      <td>1.2</td>\n",
       "      <td>6.0</td>\n",
       "    </tr>\n",
       "    <tr>\n",
       "      <th>24</th>\n",
       "      <td>1.6</td>\n",
       "      <td>3.6</td>\n",
       "    </tr>\n",
       "    <tr>\n",
       "      <th>25</th>\n",
       "      <td>3.8</td>\n",
       "      <td>7.3</td>\n",
       "    </tr>\n",
       "    <tr>\n",
       "      <th>26</th>\n",
       "      <td>4.3</td>\n",
       "      <td>8.0</td>\n",
       "    </tr>\n",
       "    <tr>\n",
       "      <th>27</th>\n",
       "      <td>9.4</td>\n",
       "      <td>3.8</td>\n",
       "    </tr>\n",
       "    <tr>\n",
       "      <th>28</th>\n",
       "      <td>7.6</td>\n",
       "      <td>7.8</td>\n",
       "    </tr>\n",
       "    <tr>\n",
       "      <th>29</th>\n",
       "      <td>3.9</td>\n",
       "      <td>5.6</td>\n",
       "    </tr>\n",
       "    <tr>\n",
       "      <th>30</th>\n",
       "      <td>4.6</td>\n",
       "      <td>2.4</td>\n",
       "    </tr>\n",
       "    <tr>\n",
       "      <th>31</th>\n",
       "      <td>3.1</td>\n",
       "      <td>3.7</td>\n",
       "    </tr>\n",
       "  </tbody>\n",
       "</table>\n",
       "</div>"
      ],
      "text/plain": [
       "분류     A     B\n",
       "일자            \n",
       "1    2.5  10.1\n",
       "2    3.2   3.7\n",
       "9    NaN   2.0\n",
       "10   NaN   0.9\n",
       "11   NaN   2.0\n",
       "12   5.2   0.8\n",
       "13   6.6   NaN\n",
       "14   0.9   0.5\n",
       "15   NaN   0.2\n",
       "16   0.3   NaN\n",
       "18   0.3   0.9\n",
       "19   0.7   1.8\n",
       "20   4.3   2.2\n",
       "21  10.6   1.7\n",
       "22   NaN   5.2\n",
       "23   1.2   6.0\n",
       "24   1.6   3.6\n",
       "25   3.8   7.3\n",
       "26   4.3   8.0\n",
       "27   9.4   3.8\n",
       "28   7.6   7.8\n",
       "29   3.9   5.6\n",
       "30   4.6   2.4\n",
       "31   3.1   3.7"
      ]
     },
     "execution_count": 67,
     "metadata": {},
     "output_type": "execute_result"
    }
   ],
   "source": [
    "df3['DATE_dt'] = pd.to_datetime(df3['DATE'])\n",
    "df3['일자'] = df3['DATE_dt'].dt.day\n",
    "df3.pivot_table(index='일자', columns='분류', values='Target', aggfunc='sum')"
   ]
  }
 ],
 "metadata": {
  "kernelspec": {
   "display_name": "Python 3",
   "language": "python",
   "name": "python3"
  },
  "language_info": {
   "codemirror_mode": {
    "name": "ipython",
    "version": 3
   },
   "file_extension": ".py",
   "mimetype": "text/x-python",
   "name": "python",
   "nbconvert_exporter": "python",
   "pygments_lexer": "ipython3",
   "version": "3.8.8"
  }
 },
 "nbformat": 4,
 "nbformat_minor": 5
}
