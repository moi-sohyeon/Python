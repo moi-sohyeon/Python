{
 "cells": [
  {
   "cell_type": "code",
   "execution_count": 1,
   "id": "c17a887c",
   "metadata": {},
   "outputs": [],
   "source": [
    "import pandas as pd\n",
    "\n",
    "df1 = pd.read_csv('01_Data.csv')"
   ]
  },
  {
   "cell_type": "markdown",
   "id": "d560662e",
   "metadata": {},
   "source": [
    "# Mission2.\n",
    "\n",
    "### df1 데이터로 아래와 같은 분석을 수행하고자 한다. \n",
    "\n",
    "1) 유입경로(Channel)에서 '영업방판'으로 유입된 고객들을 분석하고자 한다.  \n",
    "\n",
    "    - '영업방판'으로 유입된 고객들의 월랜탈비용(Amount_Month)의 평균과 중앙값의 차이를 계산하시오 "
   ]
  },
  {
   "cell_type": "code",
   "execution_count": 2,
   "id": "5b63794c",
   "metadata": {},
   "outputs": [
    {
     "data": {
      "text/plain": [
       "3422.794631211349"
      ]
     },
     "execution_count": 2,
     "metadata": {},
     "output_type": "execute_result"
    }
   ],
   "source": [
    "cond1 = (df1['Channel'] == '영업방판')\n",
    "df_prob1 = df1.loc[cond1]\n",
    "prob1 = df_prob1.Amount_Month.mean() - df_prob1.Amount_Month.median()\n",
    "prob1"
   ]
  },
  {
   "cell_type": "markdown",
   "id": "82b980a5",
   "metadata": {},
   "source": [
    "2) 유입경로(Channel)에서 '영업방판'으로 유입된 고객들 중, 제품군(Product_Type)별 월랜탈비용(Amount_Month)의 합을 계산하여 result5.xlsx로 저장"
   ]
  },
  {
   "cell_type": "code",
   "execution_count": 3,
   "id": "743af388",
   "metadata": {},
   "outputs": [
    {
     "data": {
      "text/plain": [
       "Product_Type\n",
       "DES-1     101339.833123\n",
       "DES-2      91751.920181\n",
       "DES-3A     93575.342466\n",
       "DES-R4    130278.461538\n",
       "ERA       120908.272059\n",
       "MMC       190144.444444\n",
       "Name: Amount_Month, dtype: float64"
      ]
     },
     "execution_count": 3,
     "metadata": {},
     "output_type": "execute_result"
    }
   ],
   "source": [
    "cond1 = (df1['Channel'] == '영업방판')\n",
    "df_prob2 = df1.loc[cond1]\n",
    "prob2 = df_prob2.groupby(df_prob2['Product_Type']).Amount_Month.mean()\n",
    "prob2"
   ]
  },
  {
   "cell_type": "markdown",
   "id": "0ae33cb2",
   "metadata": {},
   "source": [
    "3) 유입경로(Channel)에서 '대형마트A'로 유입된 고객들 중, 연체건수(Overdue_count)가 높은 상위 30명의 고객명단을 추출하여 result6.xlsx로 저장"
   ]
  },
  {
   "cell_type": "code",
   "execution_count": 4,
   "id": "7403ddb8",
   "metadata": {},
   "outputs": [],
   "source": [
    "cond1 = (df1['Channel'] == '대형마트A')\n",
    "df_prob3 = df1.loc[cond1].sort_values(by='Overdue_count', ascending = False)\n",
    "df_prob3.head(30).to_excel('result6.xlsx')"
   ]
  },
  {
   "cell_type": "markdown",
   "id": "86b88d1a",
   "metadata": {},
   "source": [
    "4) 월랜탈비용(Amount_Month)이 15만원 이상인 고객들 중 판매유형(Sales_Type)이 '렌탈'에 해당하는 고객만 추출하여, 해당 데이터의 연속형 기술통계량 확인"
   ]
  },
  {
   "cell_type": "code",
   "execution_count": 5,
   "id": "c7774c66",
   "metadata": {},
   "outputs": [
    {
     "data": {
      "text/html": [
       "<div>\n",
       "<style scoped>\n",
       "    .dataframe tbody tr th:only-of-type {\n",
       "        vertical-align: middle;\n",
       "    }\n",
       "\n",
       "    .dataframe tbody tr th {\n",
       "        vertical-align: top;\n",
       "    }\n",
       "\n",
       "    .dataframe thead th {\n",
       "        text-align: right;\n",
       "    }\n",
       "</style>\n",
       "<table border=\"1\" class=\"dataframe\">\n",
       "  <thead>\n",
       "    <tr style=\"text-align: right;\">\n",
       "      <th></th>\n",
       "      <th>Index</th>\n",
       "      <th>Member_ID</th>\n",
       "      <th>Term</th>\n",
       "      <th>Amount_Month</th>\n",
       "      <th>Age</th>\n",
       "      <th>Overdue_count</th>\n",
       "      <th>Credit_Rank</th>\n",
       "    </tr>\n",
       "  </thead>\n",
       "  <tbody>\n",
       "    <tr>\n",
       "      <th>count</th>\n",
       "      <td>141.000000</td>\n",
       "      <td>1.410000e+02</td>\n",
       "      <td>141.000000</td>\n",
       "      <td>141.000000</td>\n",
       "      <td>104.000000</td>\n",
       "      <td>141.000000</td>\n",
       "      <td>91.000000</td>\n",
       "    </tr>\n",
       "    <tr>\n",
       "      <th>mean</th>\n",
       "      <td>31970.134752</td>\n",
       "      <td>5.425034e+07</td>\n",
       "      <td>40.595745</td>\n",
       "      <td>186841.489362</td>\n",
       "      <td>50.336538</td>\n",
       "      <td>2.134752</td>\n",
       "      <td>4.989011</td>\n",
       "    </tr>\n",
       "    <tr>\n",
       "      <th>std</th>\n",
       "      <td>15212.567527</td>\n",
       "      <td>1.894440e+07</td>\n",
       "      <td>5.984478</td>\n",
       "      <td>11608.817396</td>\n",
       "      <td>12.035232</td>\n",
       "      <td>4.209207</td>\n",
       "      <td>2.306968</td>\n",
       "    </tr>\n",
       "    <tr>\n",
       "      <th>min</th>\n",
       "      <td>206.000000</td>\n",
       "      <td>2.570414e+07</td>\n",
       "      <td>36.000000</td>\n",
       "      <td>151200.000000</td>\n",
       "      <td>28.000000</td>\n",
       "      <td>0.000000</td>\n",
       "      <td>1.000000</td>\n",
       "    </tr>\n",
       "    <tr>\n",
       "      <th>25%</th>\n",
       "      <td>20111.000000</td>\n",
       "      <td>2.577782e+07</td>\n",
       "      <td>39.000000</td>\n",
       "      <td>185700.000000</td>\n",
       "      <td>41.000000</td>\n",
       "      <td>0.000000</td>\n",
       "      <td>4.000000</td>\n",
       "    </tr>\n",
       "    <tr>\n",
       "      <th>50%</th>\n",
       "      <td>36690.000000</td>\n",
       "      <td>6.676577e+07</td>\n",
       "      <td>39.000000</td>\n",
       "      <td>185700.000000</td>\n",
       "      <td>51.000000</td>\n",
       "      <td>0.000000</td>\n",
       "      <td>6.000000</td>\n",
       "    </tr>\n",
       "    <tr>\n",
       "      <th>75%</th>\n",
       "      <td>44319.000000</td>\n",
       "      <td>6.678915e+07</td>\n",
       "      <td>39.000000</td>\n",
       "      <td>185700.000000</td>\n",
       "      <td>58.000000</td>\n",
       "      <td>1.000000</td>\n",
       "      <td>7.000000</td>\n",
       "    </tr>\n",
       "    <tr>\n",
       "      <th>max</th>\n",
       "      <td>51189.000000</td>\n",
       "      <td>6.696170e+07</td>\n",
       "      <td>60.000000</td>\n",
       "      <td>215700.000000</td>\n",
       "      <td>83.000000</td>\n",
       "      <td>13.000000</td>\n",
       "      <td>9.000000</td>\n",
       "    </tr>\n",
       "  </tbody>\n",
       "</table>\n",
       "</div>"
      ],
      "text/plain": [
       "              Index     Member_ID        Term   Amount_Month         Age  \\\n",
       "count    141.000000  1.410000e+02  141.000000     141.000000  104.000000   \n",
       "mean   31970.134752  5.425034e+07   40.595745  186841.489362   50.336538   \n",
       "std    15212.567527  1.894440e+07    5.984478   11608.817396   12.035232   \n",
       "min      206.000000  2.570414e+07   36.000000  151200.000000   28.000000   \n",
       "25%    20111.000000  2.577782e+07   39.000000  185700.000000   41.000000   \n",
       "50%    36690.000000  6.676577e+07   39.000000  185700.000000   51.000000   \n",
       "75%    44319.000000  6.678915e+07   39.000000  185700.000000   58.000000   \n",
       "max    51189.000000  6.696170e+07   60.000000  215700.000000   83.000000   \n",
       "\n",
       "       Overdue_count  Credit_Rank  \n",
       "count     141.000000    91.000000  \n",
       "mean        2.134752     4.989011  \n",
       "std         4.209207     2.306968  \n",
       "min         0.000000     1.000000  \n",
       "25%         0.000000     4.000000  \n",
       "50%         0.000000     6.000000  \n",
       "75%         1.000000     7.000000  \n",
       "max        13.000000     9.000000  "
      ]
     },
     "execution_count": 5,
     "metadata": {},
     "output_type": "execute_result"
    }
   ],
   "source": [
    "cond1 = (df1['Amount_Month'] >= 150000)\n",
    "cond2 = (df1['Sales_Type'] == '렌탈')\n",
    "df_prob4 = df1.loc[cond1 & cond2]\n",
    "df_prob4.describe()"
   ]
  },
  {
   "cell_type": "markdown",
   "id": "f3e453e9",
   "metadata": {},
   "source": [
    "5) 제품군(Product_Type)중 빈도수가 가장 높은 상위 3개 항목을 추출하여, df5로 선언한뒤, 계약일자(Datetime)에 따른 월랜탈비용의 합을 계산해 result7.xlsx로 저장 "
   ]
  },
  {
   "cell_type": "code",
   "execution_count": 6,
   "id": "02df6207",
   "metadata": {},
   "outputs": [],
   "source": [
    "df_count = df1.groupby(df1['Product_Type']).count()\n",
    "df_index = df_count.sort_values(by='Index', ascending = False).head(3).index.to_list()\n",
    "cond1 = (df1['Product_Type'].isin(df_index))\n",
    "df5 = df1.loc[cond1]\n",
    "df5.groupby(df5['Datetime']).Amount_Month.sum().to_excel('result7.xlsx')"
   ]
  },
  {
   "cell_type": "code",
   "execution_count": 7,
   "id": "275accae",
   "metadata": {},
   "outputs": [],
   "source": [
    "# 풀이\n",
    "order_list = df1['Product_Type'].value_counts().index.tolist()\n",
    "cond1 = df1['Product_Type'].isin(order_list[0:3])\n",
    "df5 = df1.loc[cond1]"
   ]
  },
  {
   "cell_type": "code",
   "execution_count": 8,
   "id": "f70e2fab",
   "metadata": {},
   "outputs": [],
   "source": [
    "df5.pivot_table(index='Datetime', values='Amount_Month',\n",
    "                aggfunc='sum').to_excel('result7.xlsx')"
   ]
  },
  {
   "cell_type": "markdown",
   "id": "ef65fb3c",
   "metadata": {},
   "source": [
    "6) 납부유형(Payment_Type)에서 'CMS'에 해당하는 데이터들을 추출하여 df6로 선언하고, df6에서 성별(Gender)에 따른 연체건수(Overdue_count)값의 평균을 계산 "
   ]
  },
  {
   "cell_type": "code",
   "execution_count": 9,
   "id": "e3d29b75",
   "metadata": {},
   "outputs": [
    {
     "data": {
      "text/html": [
       "<div>\n",
       "<style scoped>\n",
       "    .dataframe tbody tr th:only-of-type {\n",
       "        vertical-align: middle;\n",
       "    }\n",
       "\n",
       "    .dataframe tbody tr th {\n",
       "        vertical-align: top;\n",
       "    }\n",
       "\n",
       "    .dataframe thead th {\n",
       "        text-align: right;\n",
       "    }\n",
       "</style>\n",
       "<table border=\"1\" class=\"dataframe\">\n",
       "  <thead>\n",
       "    <tr style=\"text-align: right;\">\n",
       "      <th></th>\n",
       "      <th>Overdue_count</th>\n",
       "    </tr>\n",
       "    <tr>\n",
       "      <th>Gender</th>\n",
       "      <th></th>\n",
       "    </tr>\n",
       "  </thead>\n",
       "  <tbody>\n",
       "    <tr>\n",
       "      <th>남자</th>\n",
       "      <td>0.297295</td>\n",
       "    </tr>\n",
       "    <tr>\n",
       "      <th>여자</th>\n",
       "      <td>0.193136</td>\n",
       "    </tr>\n",
       "  </tbody>\n",
       "</table>\n",
       "</div>"
      ],
      "text/plain": [
       "        Overdue_count\n",
       "Gender               \n",
       "남자           0.297295\n",
       "여자           0.193136"
      ]
     },
     "execution_count": 9,
     "metadata": {},
     "output_type": "execute_result"
    }
   ],
   "source": [
    "cond1 = (df1['Payment_Type'] == 'CMS')\n",
    "df6 = df1.loc[cond1]\n",
    "df6.pivot_table(index='Gender', values='Overdue_count', aggfunc='mean')"
   ]
  },
  {
   "cell_type": "markdown",
   "id": "6cda530e",
   "metadata": {},
   "source": [
    "7)  (복습문제) 연도를 입력하면 띠를 출력하는 프로그램을 함수로 생성 (if 문 금지)"
   ]
  },
  {
   "cell_type": "code",
   "execution_count": 10,
   "id": "7bad124b",
   "metadata": {},
   "outputs": [
    {
     "name": "stdout",
     "output_type": "stream",
     "text": [
      "년도를 입력해주세요 : 2000\n",
      "용띠\n"
     ]
    }
   ],
   "source": [
    "year = input('년도를 입력해주세요 : ')\n",
    "\n",
    "year_decide = str((int(year) + 8) % 12)\n",
    "\n",
    "year_name = ['쥐띠', '소띠', '호랑이띠', '토끼띠', '용띠', '뱀띠', \n",
    "             '말띠', '양띠', '원숭이띠', '닭띠', '개띠', '돼지띠']\n",
    "year_dict = {str(i) : name for i, name in enumerate(year_name)}\n",
    "\n",
    "print(year_dict.get(year_decide))"
   ]
  },
  {
   "cell_type": "code",
   "execution_count": 11,
   "id": "14d5fa7a",
   "metadata": {},
   "outputs": [
    {
     "name": "stdout",
     "output_type": "stream",
     "text": [
      "연도를 입력하시오 : 2000\n"
     ]
    },
    {
     "data": {
      "text/plain": [
       "'용띠'"
      ]
     },
     "execution_count": 11,
     "metadata": {},
     "output_type": "execute_result"
    }
   ],
   "source": [
    "# 풀이\n",
    "year1 = int(input('연도를 입력하시오 : '))\n",
    "dict1 = { 0:'원숭이 띠', 1:'닭띠', 2:'개띠', 3: '돼지띠', \n",
    "         4:'쥐띠', 5:'소띠',6:'범띠', 7:'토끼띠', 8:'용띠',\n",
    "         9:'뱀띠', 10:'말띠', 11:'양띠'}\n",
    "dict1[year1%12]"
   ]
  }
 ],
 "metadata": {
  "kernelspec": {
   "display_name": "Python 3",
   "language": "python",
   "name": "python3"
  },
  "language_info": {
   "codemirror_mode": {
    "name": "ipython",
    "version": 3
   },
   "file_extension": ".py",
   "mimetype": "text/x-python",
   "name": "python",
   "nbconvert_exporter": "python",
   "pygments_lexer": "ipython3",
   "version": "3.8.8"
  }
 },
 "nbformat": 4,
 "nbformat_minor": 5
}
