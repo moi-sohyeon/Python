{
 "cells": [
  {
   "cell_type": "code",
   "execution_count": 1,
   "id": "381dd8f1",
   "metadata": {},
   "outputs": [],
   "source": [
    "import pandas as pd\n",
    "import seaborn as sns\n",
    "import matplotlib as mpl\n",
    "import matplotlib.pyplot as plt\n",
    "import plotly.express as px\n",
    "import scipy.stats as stats\n",
    "mpl.rc('font', family='Malgun Gothic')"
   ]
  },
  {
   "cell_type": "code",
   "execution_count": 2,
   "id": "d9d95c73",
   "metadata": {},
   "outputs": [],
   "source": [
    "df_member = pd.read_csv('1_store_member.csv')\n",
    "df_product = pd.read_csv('2_store_product.csv')"
   ]
  },
  {
   "cell_type": "code",
   "execution_count": 3,
   "id": "58fb7f6c",
   "metadata": {},
   "outputs": [],
   "source": [
    "p1 = df_product.pivot_table(index='회원번호',\n",
    "                           values=['구매금액','구매수량'],\n",
    "                          aggfunc='sum').reset_index()"
   ]
  },
  {
   "cell_type": "code",
   "execution_count": 4,
   "id": "a28fe20b",
   "metadata": {},
   "outputs": [],
   "source": [
    "df_member2 = pd.merge(df_member, p1, on='회원번호', how='inner')"
   ]
  },
  {
   "cell_type": "code",
   "execution_count": 5,
   "id": "99a9f9a7",
   "metadata": {},
   "outputs": [],
   "source": [
    "df_product['방문횟수'] = 1 "
   ]
  },
  {
   "cell_type": "code",
   "execution_count": 6,
   "id": "1ab2cede",
   "metadata": {},
   "outputs": [],
   "source": [
    "p2 = df_product.pivot_table(index=['회원번호', '공급일자'], \n",
    "                            values='방문횟수', aggfunc='min').reset_index()\n",
    "p3 = p2.pivot_table(index='회원번호', values = '방문횟수', \n",
    "                    aggfunc='sum').reset_index()"
   ]
  },
  {
   "cell_type": "code",
   "execution_count": 7,
   "id": "7dfa3091",
   "metadata": {},
   "outputs": [],
   "source": [
    "df_member3 = pd.merge(df_member2, p3, on='회원번호', how='inner')"
   ]
  },
  {
   "cell_type": "code",
   "execution_count": 8,
   "id": "bf2dffab",
   "metadata": {},
   "outputs": [
    {
     "data": {
      "text/plain": [
       "count      4285.000000\n",
       "mean      32913.468270\n",
       "std       25756.734483\n",
       "min           0.000000\n",
       "25%       15890.476190\n",
       "50%       27166.666667\n",
       "75%       43080.140845\n",
       "max      329260.000000\n",
       "Name: 1회방문구매평균, dtype: float64"
      ]
     },
     "execution_count": 8,
     "metadata": {},
     "output_type": "execute_result"
    }
   ],
   "source": [
    "df_member3['1회방문구매평균'] = df_member3['구매금액'] / df_member3['방문횟수']\n",
    "df_member3['1회방문구매평균'].describe()"
   ]
  },
  {
   "cell_type": "code",
   "execution_count": 9,
   "id": "9a2d2b99",
   "metadata": {},
   "outputs": [],
   "source": [
    "def func1(row):\n",
    "    if row > 100000:\n",
    "        return 'A'\n",
    "    elif row>=50000:\n",
    "        return 'B'\n",
    "    elif row>=20000:\n",
    "        return 'C'\n",
    "    else:\n",
    "        return 'D'\n",
    "\n",
    "df_member3['고객등급'] = df_member3['1회방문구매평균'].apply(func1)"
   ]
  },
  {
   "cell_type": "markdown",
   "id": "8e2514a8",
   "metadata": {},
   "source": [
    "# Mission 4. (점심)\n",
    "\n",
    "### 판매 주력상품에 대한 분석을 하고자한다 (df_product)\n",
    "\n",
    "1) df_product데이터의 구조와 타입을 확인하고 결측값도 확인"
   ]
  },
  {
   "cell_type": "code",
   "execution_count": 10,
   "id": "111cd62b",
   "metadata": {},
   "outputs": [
    {
     "name": "stdout",
     "output_type": "stream",
     "text": [
      "<class 'pandas.core.frame.DataFrame'>\n",
      "RangeIndex: 735783 entries, 0 to 735782\n",
      "Data columns (total 12 columns):\n",
      " #   Column    Non-Null Count   Dtype  \n",
      "---  ------    --------------   -----  \n",
      " 0   공급일자      735783 non-null  int64  \n",
      " 1   물품코드      735783 non-null  int64  \n",
      " 2   물품대분류     735783 non-null  object \n",
      " 3   물품중분류     735783 non-null  object \n",
      " 4   물품소분류     735783 non-null  object \n",
      " 5   물품명       735783 non-null  object \n",
      " 6   구매수량      735783 non-null  float64\n",
      " 7   구매금액      735783 non-null  int64  \n",
      " 8   구매매장      735783 non-null  object \n",
      " 9   반품_원거래일자  10337 non-null   float64\n",
      " 10  회원번호      735761 non-null  float64\n",
      " 11  방문횟수      735783 non-null  int64  \n",
      "dtypes: float64(3), int64(4), object(5)\n",
      "memory usage: 67.4+ MB\n"
     ]
    }
   ],
   "source": [
    "df_product.info()"
   ]
  },
  {
   "cell_type": "code",
   "execution_count": 11,
   "id": "c6b5f0ce",
   "metadata": {},
   "outputs": [
    {
     "name": "stdout",
     "output_type": "stream",
     "text": [
      "<class 'pandas.core.frame.DataFrame'>\n",
      "RangeIndex: 735783 entries, 0 to 735782\n",
      "Data columns (total 12 columns):\n",
      " #   Column    Non-Null Count   Dtype  \n",
      "---  ------    --------------   -----  \n",
      " 0   공급일자      735783 non-null  int64  \n",
      " 1   물품코드      735783 non-null  int64  \n",
      " 2   물품대분류     735783 non-null  object \n",
      " 3   물품중분류     735783 non-null  object \n",
      " 4   물품소분류     735783 non-null  object \n",
      " 5   물품명       735783 non-null  object \n",
      " 6   구매수량      735783 non-null  float64\n",
      " 7   구매금액      735783 non-null  int64  \n",
      " 8   구매매장      735783 non-null  object \n",
      " 9   반품_원거래일자  10337 non-null   float64\n",
      " 10  회원번호      735761 non-null  float64\n",
      " 11  방문횟수      735783 non-null  int64  \n",
      "dtypes: float64(3), int64(4), object(5)\n",
      "memory usage: 67.4+ MB\n"
     ]
    }
   ],
   "source": [
    "# 풀이\n",
    "df_product.info()"
   ]
  },
  {
   "cell_type": "code",
   "execution_count": 12,
   "id": "dbb7133b",
   "metadata": {},
   "outputs": [
    {
     "data": {
      "text/plain": [
       "공급일자             0\n",
       "물품코드             0\n",
       "물품대분류            0\n",
       "물품중분류            0\n",
       "물품소분류            0\n",
       "물품명              0\n",
       "구매수량             0\n",
       "구매금액             0\n",
       "구매매장             0\n",
       "반품_원거래일자    725446\n",
       "회원번호            22\n",
       "방문횟수             0\n",
       "dtype: int64"
      ]
     },
     "execution_count": 12,
     "metadata": {},
     "output_type": "execute_result"
    }
   ],
   "source": [
    "df_product.isnull().sum() # 각 항목 별 결측값 확인\n",
    "# isnull( ) : 해당 데이터가 결측값인지 아닌지를 True / False 출력 \n",
    "# sum( ) : 총합을 계산 / 각 항목별 총합이 계산 "
   ]
  },
  {
   "cell_type": "markdown",
   "id": "47c9ff45",
   "metadata": {},
   "source": [
    "2) df_product데이터의 '구매금액'과 '구매수량'의 기술통계량을 확인"
   ]
  },
  {
   "cell_type": "code",
   "execution_count": 13,
   "id": "c59d271e",
   "metadata": {},
   "outputs": [
    {
     "data": {
      "text/html": [
       "<div>\n",
       "<style scoped>\n",
       "    .dataframe tbody tr th:only-of-type {\n",
       "        vertical-align: middle;\n",
       "    }\n",
       "\n",
       "    .dataframe tbody tr th {\n",
       "        vertical-align: top;\n",
       "    }\n",
       "\n",
       "    .dataframe thead th {\n",
       "        text-align: right;\n",
       "    }\n",
       "</style>\n",
       "<table border=\"1\" class=\"dataframe\">\n",
       "  <thead>\n",
       "    <tr style=\"text-align: right;\">\n",
       "      <th></th>\n",
       "      <th>구매금액</th>\n",
       "      <th>구매수량</th>\n",
       "    </tr>\n",
       "  </thead>\n",
       "  <tbody>\n",
       "    <tr>\n",
       "      <th>count</th>\n",
       "      <td>7.357830e+05</td>\n",
       "      <td>735783.000000</td>\n",
       "    </tr>\n",
       "    <tr>\n",
       "      <th>mean</th>\n",
       "      <td>5.677010e+03</td>\n",
       "      <td>1.153989</td>\n",
       "    </tr>\n",
       "    <tr>\n",
       "      <th>std</th>\n",
       "      <td>8.650792e+03</td>\n",
       "      <td>0.762145</td>\n",
       "    </tr>\n",
       "    <tr>\n",
       "      <th>min</th>\n",
       "      <td>-3.600000e+05</td>\n",
       "      <td>-120.000000</td>\n",
       "    </tr>\n",
       "    <tr>\n",
       "      <th>25%</th>\n",
       "      <td>2.150000e+03</td>\n",
       "      <td>1.000000</td>\n",
       "    </tr>\n",
       "    <tr>\n",
       "      <th>50%</th>\n",
       "      <td>3.800000e+03</td>\n",
       "      <td>1.000000</td>\n",
       "    </tr>\n",
       "    <tr>\n",
       "      <th>75%</th>\n",
       "      <td>6.500000e+03</td>\n",
       "      <td>1.000000</td>\n",
       "    </tr>\n",
       "    <tr>\n",
       "      <th>max</th>\n",
       "      <td>1.449000e+06</td>\n",
       "      <td>120.000000</td>\n",
       "    </tr>\n",
       "  </tbody>\n",
       "</table>\n",
       "</div>"
      ],
      "text/plain": [
       "               구매금액           구매수량\n",
       "count  7.357830e+05  735783.000000\n",
       "mean   5.677010e+03       1.153989\n",
       "std    8.650792e+03       0.762145\n",
       "min   -3.600000e+05    -120.000000\n",
       "25%    2.150000e+03       1.000000\n",
       "50%    3.800000e+03       1.000000\n",
       "75%    6.500000e+03       1.000000\n",
       "max    1.449000e+06     120.000000"
      ]
     },
     "execution_count": 13,
     "metadata": {},
     "output_type": "execute_result"
    }
   ],
   "source": [
    "df_product[['구매금액', '구매수량']].describe()"
   ]
  },
  {
   "cell_type": "markdown",
   "id": "3f5203e8",
   "metadata": {},
   "source": [
    "3) df_product에서 '물품대분류'중 가장 많이 판매되는 3가지 항목을 확인 (품목별 구매수량의 합이 높은 3개 확인) "
   ]
  },
  {
   "cell_type": "code",
   "execution_count": 14,
   "id": "89651330",
   "metadata": {},
   "outputs": [
    {
     "data": {
      "text/plain": [
       "['채소', '축산물', '간식']"
      ]
     },
     "execution_count": 14,
     "metadata": {},
     "output_type": "execute_result"
    }
   ],
   "source": [
    "best_seller = df_product['물품대분류'].value_counts().head(3).index.to_list()\n",
    "best_seller"
   ]
  },
  {
   "cell_type": "code",
   "execution_count": 15,
   "id": "15498b8e",
   "metadata": {},
   "outputs": [
    {
     "data": {
      "text/html": [
       "<div>\n",
       "<style scoped>\n",
       "    .dataframe tbody tr th:only-of-type {\n",
       "        vertical-align: middle;\n",
       "    }\n",
       "\n",
       "    .dataframe tbody tr th {\n",
       "        vertical-align: top;\n",
       "    }\n",
       "\n",
       "    .dataframe thead th {\n",
       "        text-align: right;\n",
       "    }\n",
       "</style>\n",
       "<table border=\"1\" class=\"dataframe\">\n",
       "  <thead>\n",
       "    <tr style=\"text-align: right;\">\n",
       "      <th></th>\n",
       "      <th>구매수량</th>\n",
       "    </tr>\n",
       "    <tr>\n",
       "      <th>물품대분류</th>\n",
       "      <th></th>\n",
       "    </tr>\n",
       "  </thead>\n",
       "  <tbody>\n",
       "    <tr>\n",
       "      <th>채소</th>\n",
       "      <td>210661.70</td>\n",
       "    </tr>\n",
       "    <tr>\n",
       "      <th>축산물</th>\n",
       "      <td>155188.75</td>\n",
       "    </tr>\n",
       "    <tr>\n",
       "      <th>간식</th>\n",
       "      <td>137427.30</td>\n",
       "    </tr>\n",
       "  </tbody>\n",
       "</table>\n",
       "</div>"
      ],
      "text/plain": [
       "            구매수량\n",
       "물품대분류           \n",
       "채소     210661.70\n",
       "축산물    155188.75\n",
       "간식     137427.30"
      ]
     },
     "execution_count": 15,
     "metadata": {},
     "output_type": "execute_result"
    }
   ],
   "source": [
    "# 풀이\n",
    "df_product.pivot_table(index='물품대분류', \n",
    "                       values='구매수량',\n",
    "                       aggfunc='sum').sort_values(by='구매수량', ascending=False).head(3)"
   ]
  },
  {
   "cell_type": "markdown",
   "id": "de2352f1",
   "metadata": {},
   "source": [
    "4) 앞서 확인한 3가지 항목을 추출하여 df1_product_top변수로 선언하고, df1_product_top에서 구매매장 별 구매금액의 합과 평균을 계산 "
   ]
  },
  {
   "cell_type": "code",
   "execution_count": 16,
   "id": "13030c72",
   "metadata": {},
   "outputs": [
    {
     "data": {
      "text/html": [
       "<div>\n",
       "<style scoped>\n",
       "    .dataframe tbody tr th:only-of-type {\n",
       "        vertical-align: middle;\n",
       "    }\n",
       "\n",
       "    .dataframe tbody tr th {\n",
       "        vertical-align: top;\n",
       "    }\n",
       "\n",
       "    .dataframe thead tr th {\n",
       "        text-align: left;\n",
       "    }\n",
       "\n",
       "    .dataframe thead tr:last-of-type th {\n",
       "        text-align: right;\n",
       "    }\n",
       "</style>\n",
       "<table border=\"1\" class=\"dataframe\">\n",
       "  <thead>\n",
       "    <tr>\n",
       "      <th></th>\n",
       "      <th>sum</th>\n",
       "      <th>mean</th>\n",
       "    </tr>\n",
       "    <tr>\n",
       "      <th></th>\n",
       "      <th>구매금액</th>\n",
       "      <th>구매금액</th>\n",
       "    </tr>\n",
       "    <tr>\n",
       "      <th>구매매장</th>\n",
       "      <th></th>\n",
       "      <th></th>\n",
       "    </tr>\n",
       "  </thead>\n",
       "  <tbody>\n",
       "    <tr>\n",
       "      <th>매장1</th>\n",
       "      <td>363985400</td>\n",
       "      <td>4770.638426</td>\n",
       "    </tr>\n",
       "    <tr>\n",
       "      <th>매장2</th>\n",
       "      <td>461745602</td>\n",
       "      <td>4908.271082</td>\n",
       "    </tr>\n",
       "    <tr>\n",
       "      <th>매장3</th>\n",
       "      <td>916748142</td>\n",
       "      <td>4949.910326</td>\n",
       "    </tr>\n",
       "    <tr>\n",
       "      <th>매장4</th>\n",
       "      <td>419048570</td>\n",
       "      <td>5019.146844</td>\n",
       "    </tr>\n",
       "  </tbody>\n",
       "</table>\n",
       "</div>"
      ],
      "text/plain": [
       "            sum         mean\n",
       "           구매금액         구매금액\n",
       "구매매장                        \n",
       "매장1   363985400  4770.638426\n",
       "매장2   461745602  4908.271082\n",
       "매장3   916748142  4949.910326\n",
       "매장4   419048570  5019.146844"
      ]
     },
     "execution_count": 16,
     "metadata": {},
     "output_type": "execute_result"
    }
   ],
   "source": [
    "cond1 = (df_product['물품대분류'].isin(best_seller))\n",
    "df_product_top = df_product.loc[cond1]\n",
    "\n",
    "df_product_top.pivot_table(index='구매매장', values='구매금액', \n",
    "                           aggfunc=['sum', 'mean'])"
   ]
  },
  {
   "cell_type": "code",
   "execution_count": 17,
   "id": "95e14323",
   "metadata": {},
   "outputs": [
    {
     "data": {
      "text/html": [
       "<div>\n",
       "<style scoped>\n",
       "    .dataframe tbody tr th:only-of-type {\n",
       "        vertical-align: middle;\n",
       "    }\n",
       "\n",
       "    .dataframe tbody tr th {\n",
       "        vertical-align: top;\n",
       "    }\n",
       "\n",
       "    .dataframe thead tr th {\n",
       "        text-align: left;\n",
       "    }\n",
       "\n",
       "    .dataframe thead tr:last-of-type th {\n",
       "        text-align: right;\n",
       "    }\n",
       "</style>\n",
       "<table border=\"1\" class=\"dataframe\">\n",
       "  <thead>\n",
       "    <tr>\n",
       "      <th></th>\n",
       "      <th>mean</th>\n",
       "      <th>sum</th>\n",
       "    </tr>\n",
       "    <tr>\n",
       "      <th></th>\n",
       "      <th>구매금액</th>\n",
       "      <th>구매금액</th>\n",
       "    </tr>\n",
       "    <tr>\n",
       "      <th>구매매장</th>\n",
       "      <th></th>\n",
       "      <th></th>\n",
       "    </tr>\n",
       "  </thead>\n",
       "  <tbody>\n",
       "    <tr>\n",
       "      <th>매장1</th>\n",
       "      <td>4770.638426</td>\n",
       "      <td>363985400</td>\n",
       "    </tr>\n",
       "    <tr>\n",
       "      <th>매장2</th>\n",
       "      <td>4908.271082</td>\n",
       "      <td>461745602</td>\n",
       "    </tr>\n",
       "    <tr>\n",
       "      <th>매장3</th>\n",
       "      <td>4949.910326</td>\n",
       "      <td>916748142</td>\n",
       "    </tr>\n",
       "    <tr>\n",
       "      <th>매장4</th>\n",
       "      <td>5019.146844</td>\n",
       "      <td>419048570</td>\n",
       "    </tr>\n",
       "  </tbody>\n",
       "</table>\n",
       "</div>"
      ],
      "text/plain": [
       "             mean        sum\n",
       "             구매금액       구매금액\n",
       "구매매장                        \n",
       "매장1   4770.638426  363985400\n",
       "매장2   4908.271082  461745602\n",
       "매장3   4949.910326  916748142\n",
       "매장4   5019.146844  419048570"
      ]
     },
     "execution_count": 17,
     "metadata": {},
     "output_type": "execute_result"
    }
   ],
   "source": [
    "# 풀이\n",
    "\n",
    "cond1 = df_product['물품대분류'].isin(['간식','축산물','채소'])\n",
    "df1_product_top = df_product.loc[cond1]\n",
    "df1_product_top.pivot_table(index='구매매장', values='구매금액', \n",
    "                            aggfunc=['mean','sum'])"
   ]
  },
  {
   "cell_type": "markdown",
   "id": "8f41e610",
   "metadata": {},
   "source": [
    "5) 공급일자 데이터를 날짜형식으로 변환한 다음 연도/월/요일 을 새로운 파생변수로 선언하시오 ( pd.to_datetime(   , format='%Y%m%d') )"
   ]
  },
  {
   "cell_type": "code",
   "execution_count": 18,
   "id": "3f7278d6",
   "metadata": {},
   "outputs": [
    {
     "data": {
      "text/html": [
       "<div>\n",
       "<style scoped>\n",
       "    .dataframe tbody tr th:only-of-type {\n",
       "        vertical-align: middle;\n",
       "    }\n",
       "\n",
       "    .dataframe tbody tr th {\n",
       "        vertical-align: top;\n",
       "    }\n",
       "\n",
       "    .dataframe thead th {\n",
       "        text-align: right;\n",
       "    }\n",
       "</style>\n",
       "<table border=\"1\" class=\"dataframe\">\n",
       "  <thead>\n",
       "    <tr style=\"text-align: right;\">\n",
       "      <th></th>\n",
       "      <th>공급일자</th>\n",
       "      <th>물품코드</th>\n",
       "      <th>물품대분류</th>\n",
       "      <th>물품중분류</th>\n",
       "      <th>물품소분류</th>\n",
       "      <th>물품명</th>\n",
       "      <th>구매수량</th>\n",
       "      <th>구매금액</th>\n",
       "      <th>구매매장</th>\n",
       "      <th>반품_원거래일자</th>\n",
       "      <th>회원번호</th>\n",
       "      <th>방문횟수</th>\n",
       "      <th>날짜</th>\n",
       "      <th>연도</th>\n",
       "      <th>월</th>\n",
       "      <th>요일</th>\n",
       "    </tr>\n",
       "  </thead>\n",
       "  <tbody>\n",
       "    <tr>\n",
       "      <th>0</th>\n",
       "      <td>20170201</td>\n",
       "      <td>50142001</td>\n",
       "      <td>채소</td>\n",
       "      <td>잎/줄기채소</td>\n",
       "      <td>시금치</td>\n",
       "      <td>시금치(300g)</td>\n",
       "      <td>1.0</td>\n",
       "      <td>2000</td>\n",
       "      <td>매장3</td>\n",
       "      <td>NaN</td>\n",
       "      <td>2101.0</td>\n",
       "      <td>1</td>\n",
       "      <td>2017-02-01</td>\n",
       "      <td>2017</td>\n",
       "      <td>2</td>\n",
       "      <td>Wednesday</td>\n",
       "    </tr>\n",
       "    <tr>\n",
       "      <th>1</th>\n",
       "      <td>20170201</td>\n",
       "      <td>60302012</td>\n",
       "      <td>축산물</td>\n",
       "      <td>육가공</td>\n",
       "      <td>돈가스/분쇄가공</td>\n",
       "      <td>튀김옷돈가스(400g)</td>\n",
       "      <td>1.0</td>\n",
       "      <td>6300</td>\n",
       "      <td>매장3</td>\n",
       "      <td>NaN</td>\n",
       "      <td>2101.0</td>\n",
       "      <td>1</td>\n",
       "      <td>2017-02-01</td>\n",
       "      <td>2017</td>\n",
       "      <td>2</td>\n",
       "      <td>Wednesday</td>\n",
       "    </tr>\n",
       "    <tr>\n",
       "      <th>2</th>\n",
       "      <td>20170201</td>\n",
       "      <td>80301002</td>\n",
       "      <td>간식</td>\n",
       "      <td>밀가공</td>\n",
       "      <td>라면</td>\n",
       "      <td>감자라면(110g:1봉)</td>\n",
       "      <td>2.0</td>\n",
       "      <td>2600</td>\n",
       "      <td>매장3</td>\n",
       "      <td>NaN</td>\n",
       "      <td>2101.0</td>\n",
       "      <td>1</td>\n",
       "      <td>2017-02-01</td>\n",
       "      <td>2017</td>\n",
       "      <td>2</td>\n",
       "      <td>Wednesday</td>\n",
       "    </tr>\n",
       "    <tr>\n",
       "      <th>3</th>\n",
       "      <td>20170201</td>\n",
       "      <td>80301010</td>\n",
       "      <td>간식</td>\n",
       "      <td>밀가공</td>\n",
       "      <td>라면</td>\n",
       "      <td>사리면(100g)</td>\n",
       "      <td>1.0</td>\n",
       "      <td>900</td>\n",
       "      <td>매장3</td>\n",
       "      <td>NaN</td>\n",
       "      <td>2101.0</td>\n",
       "      <td>1</td>\n",
       "      <td>2017-02-01</td>\n",
       "      <td>2017</td>\n",
       "      <td>2</td>\n",
       "      <td>Wednesday</td>\n",
       "    </tr>\n",
       "    <tr>\n",
       "      <th>4</th>\n",
       "      <td>20170201</td>\n",
       "      <td>80305003</td>\n",
       "      <td>간식</td>\n",
       "      <td>밀가공</td>\n",
       "      <td>만두</td>\n",
       "      <td>고기만두(500g)</td>\n",
       "      <td>1.0</td>\n",
       "      <td>5400</td>\n",
       "      <td>매장3</td>\n",
       "      <td>NaN</td>\n",
       "      <td>2101.0</td>\n",
       "      <td>1</td>\n",
       "      <td>2017-02-01</td>\n",
       "      <td>2017</td>\n",
       "      <td>2</td>\n",
       "      <td>Wednesday</td>\n",
       "    </tr>\n",
       "    <tr>\n",
       "      <th>...</th>\n",
       "      <td>...</td>\n",
       "      <td>...</td>\n",
       "      <td>...</td>\n",
       "      <td>...</td>\n",
       "      <td>...</td>\n",
       "      <td>...</td>\n",
       "      <td>...</td>\n",
       "      <td>...</td>\n",
       "      <td>...</td>\n",
       "      <td>...</td>\n",
       "      <td>...</td>\n",
       "      <td>...</td>\n",
       "      <td>...</td>\n",
       "      <td>...</td>\n",
       "      <td>...</td>\n",
       "      <td>...</td>\n",
       "    </tr>\n",
       "    <tr>\n",
       "      <th>735778</th>\n",
       "      <td>20170630</td>\n",
       "      <td>100201003</td>\n",
       "      <td>반찬</td>\n",
       "      <td>두부/유부</td>\n",
       "      <td>두부</td>\n",
       "      <td>두부(1모:420g)</td>\n",
       "      <td>1.0</td>\n",
       "      <td>2200</td>\n",
       "      <td>매장3</td>\n",
       "      <td>NaN</td>\n",
       "      <td>2637.0</td>\n",
       "      <td>1</td>\n",
       "      <td>2017-06-30</td>\n",
       "      <td>2017</td>\n",
       "      <td>6</td>\n",
       "      <td>Friday</td>\n",
       "    </tr>\n",
       "    <tr>\n",
       "      <th>735779</th>\n",
       "      <td>20170630</td>\n",
       "      <td>100306006</td>\n",
       "      <td>반찬</td>\n",
       "      <td>즉석조리</td>\n",
       "      <td>간편요리</td>\n",
       "      <td>현미쌀가스(320g)</td>\n",
       "      <td>1.0</td>\n",
       "      <td>5830</td>\n",
       "      <td>매장3</td>\n",
       "      <td>NaN</td>\n",
       "      <td>2637.0</td>\n",
       "      <td>1</td>\n",
       "      <td>2017-06-30</td>\n",
       "      <td>2017</td>\n",
       "      <td>6</td>\n",
       "      <td>Friday</td>\n",
       "    </tr>\n",
       "    <tr>\n",
       "      <th>735780</th>\n",
       "      <td>20170630</td>\n",
       "      <td>130214027</td>\n",
       "      <td>생활용품</td>\n",
       "      <td>생활용품</td>\n",
       "      <td>기타생활용품</td>\n",
       "      <td>모기기피제(로즈마리향)</td>\n",
       "      <td>1.0</td>\n",
       "      <td>8470</td>\n",
       "      <td>매장3</td>\n",
       "      <td>NaN</td>\n",
       "      <td>2637.0</td>\n",
       "      <td>1</td>\n",
       "      <td>2017-06-30</td>\n",
       "      <td>2017</td>\n",
       "      <td>6</td>\n",
       "      <td>Friday</td>\n",
       "    </tr>\n",
       "    <tr>\n",
       "      <th>735781</th>\n",
       "      <td>20170630</td>\n",
       "      <td>130501098</td>\n",
       "      <td>생활용품</td>\n",
       "      <td>화장품</td>\n",
       "      <td>기초화장품</td>\n",
       "      <td>수피아 알로에베라잎즙 수딩젤</td>\n",
       "      <td>1.0</td>\n",
       "      <td>7370</td>\n",
       "      <td>매장3</td>\n",
       "      <td>NaN</td>\n",
       "      <td>2637.0</td>\n",
       "      <td>1</td>\n",
       "      <td>2017-06-30</td>\n",
       "      <td>2017</td>\n",
       "      <td>6</td>\n",
       "      <td>Friday</td>\n",
       "    </tr>\n",
       "    <tr>\n",
       "      <th>735782</th>\n",
       "      <td>20170630</td>\n",
       "      <td>110102066</td>\n",
       "      <td>음료</td>\n",
       "      <td>음료</td>\n",
       "      <td>과즙</td>\n",
       "      <td>감귤즙(유기/150ml*10봉)</td>\n",
       "      <td>1.0</td>\n",
       "      <td>10450</td>\n",
       "      <td>매장4</td>\n",
       "      <td>NaN</td>\n",
       "      <td>2637.0</td>\n",
       "      <td>1</td>\n",
       "      <td>2017-06-30</td>\n",
       "      <td>2017</td>\n",
       "      <td>6</td>\n",
       "      <td>Friday</td>\n",
       "    </tr>\n",
       "  </tbody>\n",
       "</table>\n",
       "<p>735783 rows × 16 columns</p>\n",
       "</div>"
      ],
      "text/plain": [
       "            공급일자       물품코드 물품대분류   물품중분류     물품소분류                물품명  구매수량  \\\n",
       "0       20170201   50142001    채소  잎/줄기채소       시금치          시금치(300g)   1.0   \n",
       "1       20170201   60302012   축산물     육가공  돈가스/분쇄가공       튀김옷돈가스(400g)   1.0   \n",
       "2       20170201   80301002    간식     밀가공        라면      감자라면(110g:1봉)   2.0   \n",
       "3       20170201   80301010    간식     밀가공        라면          사리면(100g)   1.0   \n",
       "4       20170201   80305003    간식     밀가공        만두         고기만두(500g)   1.0   \n",
       "...          ...        ...   ...     ...       ...                ...   ...   \n",
       "735778  20170630  100201003    반찬   두부/유부        두부        두부(1모:420g)   1.0   \n",
       "735779  20170630  100306006    반찬    즉석조리      간편요리        현미쌀가스(320g)   1.0   \n",
       "735780  20170630  130214027  생활용품    생활용품    기타생활용품       모기기피제(로즈마리향)   1.0   \n",
       "735781  20170630  130501098  생활용품     화장품     기초화장품    수피아 알로에베라잎즙 수딩젤   1.0   \n",
       "735782  20170630  110102066    음료      음료        과즙  감귤즙(유기/150ml*10봉)   1.0   \n",
       "\n",
       "         구매금액 구매매장  반품_원거래일자    회원번호  방문횟수         날짜    연도  월         요일  \n",
       "0        2000  매장3       NaN  2101.0     1 2017-02-01  2017  2  Wednesday  \n",
       "1        6300  매장3       NaN  2101.0     1 2017-02-01  2017  2  Wednesday  \n",
       "2        2600  매장3       NaN  2101.0     1 2017-02-01  2017  2  Wednesday  \n",
       "3         900  매장3       NaN  2101.0     1 2017-02-01  2017  2  Wednesday  \n",
       "4        5400  매장3       NaN  2101.0     1 2017-02-01  2017  2  Wednesday  \n",
       "...       ...  ...       ...     ...   ...        ...   ... ..        ...  \n",
       "735778   2200  매장3       NaN  2637.0     1 2017-06-30  2017  6     Friday  \n",
       "735779   5830  매장3       NaN  2637.0     1 2017-06-30  2017  6     Friday  \n",
       "735780   8470  매장3       NaN  2637.0     1 2017-06-30  2017  6     Friday  \n",
       "735781   7370  매장3       NaN  2637.0     1 2017-06-30  2017  6     Friday  \n",
       "735782  10450  매장4       NaN  2637.0     1 2017-06-30  2017  6     Friday  \n",
       "\n",
       "[735783 rows x 16 columns]"
      ]
     },
     "execution_count": 18,
     "metadata": {},
     "output_type": "execute_result"
    }
   ],
   "source": [
    "df_product['날짜'] = pd.to_datetime(df_product['공급일자'], format='%Y%m%d')\n",
    "df_product['연도'] = df_product['날짜'].dt.year\n",
    "df_product['월'] = df_product['날짜'].dt.month\n",
    "df_product['요일'] = df_product['날짜'].dt.day_name()\n",
    "df_product"
   ]
  },
  {
   "cell_type": "markdown",
   "id": "935a214b",
   "metadata": {},
   "source": [
    "6) '월'에 따른 '물품대분류'별 '구매금액'의 합을 계산하여 result_p1.xlsx로 저장 "
   ]
  },
  {
   "cell_type": "code",
   "execution_count": 19,
   "id": "382a6ddb",
   "metadata": {},
   "outputs": [],
   "source": [
    "df_product.pivot_table(index='물품대분류', columns='월', \n",
    "                       values='구매금액', aggfunc='sum').to_excel('result_p1.xlsx')"
   ]
  },
  {
   "cell_type": "markdown",
   "id": "4d67bca2",
   "metadata": {},
   "source": [
    "7) '요일'데이터에서 토요일과 일요일의 구매금액의 평균의 차이가 있는지 가설검정을 수행  "
   ]
  },
  {
   "cell_type": "code",
   "execution_count": 20,
   "id": "d3a4f9be",
   "metadata": {},
   "outputs": [
    {
     "data": {
      "text/plain": [
       "NormaltestResult(statistic=250963.257085467, pvalue=0.0)"
      ]
     },
     "execution_count": 20,
     "metadata": {},
     "output_type": "execute_result"
    }
   ],
   "source": [
    "cond1 = (df_product['요일'].isin(['Saturday', 'Sunday']))\n",
    "df_weekend = df_product.loc[cond1]\n",
    "\n",
    "# 7-1) 구매금액 연속형 데이터가 정규성을 따르는가?\n",
    "#      귀무가설 : 해당 데이터의 분포는 정규분포를 따른다\n",
    "#      대립가설 : 해당 데이터의 분포는 정규분포를 따르지 않는다\n",
    "\n",
    "stats.normaltest(df_weekend['구매금액'])\n",
    "# p-value < 0.05 | 대립가설 참 | 해당 데이터의 분포는 정규분포를 따르지 않는다"
   ]
  },
  {
   "cell_type": "code",
   "execution_count": 21,
   "id": "b5b48464",
   "metadata": {},
   "outputs": [
    {
     "data": {
      "text/plain": [
       "RanksumsResult(statistic=-3.0474877976155326, pvalue=0.002307628950574978)"
      ]
     },
     "execution_count": 21,
     "metadata": {},
     "output_type": "execute_result"
    }
   ],
   "source": [
    "# 7-2) 정규성을 따르지 않는 상황에서 토요일과 일요일의 구매금액의 평균 비교\n",
    "#      귀무가설 : 두 집단의 구매금액의 평균의 차이가 없다.\n",
    "#      대립가설 : 두 집단의 구매금액의 평균의 차이가 있다.\n",
    "cond1 = (df_weekend['요일']=='Saturday')\n",
    "df_saturday = df_weekend.loc[cond1]\n",
    "cond2 = (df_weekend['요일']=='Sunday')\n",
    "df1_sunday = df_weekend.loc[cond2]\n",
    "\n",
    "stats.ranksums(df_saturday['구매금액'], df1_sunday['구매금액'])\n",
    "# p-value < 0.05 | 대립가설 참 | 두 집단의 구매금액의 평균의 차이가 있다."
   ]
  },
  {
   "cell_type": "markdown",
   "id": "12d21f7c",
   "metadata": {},
   "source": [
    "### 고객데이터를 분석하고자 한다 (df_member)\n",
    "\n",
    "8) df_member 데이터의 구조와 타입을 확인하고 결측값을 확인  "
   ]
  },
  {
   "cell_type": "code",
   "execution_count": 22,
   "id": "94e53b77",
   "metadata": {},
   "outputs": [
    {
     "name": "stdout",
     "output_type": "stream",
     "text": [
      "<class 'pandas.core.frame.DataFrame'>\n",
      "RangeIndex: 4396 entries, 0 to 4395\n",
      "Data columns (total 7 columns):\n",
      " #   Column  Non-Null Count  Dtype \n",
      "---  ------  --------------  ----- \n",
      " 0   회원번호    4396 non-null   int64 \n",
      " 1   회원상태    4396 non-null   object\n",
      " 2   성별      4396 non-null   object\n",
      " 3   결혼유무    3449 non-null   object\n",
      " 4   주소      4396 non-null   object\n",
      " 5   생년      4396 non-null   int64 \n",
      " 6   연령      4396 non-null   int64 \n",
      "dtypes: int64(3), object(4)\n",
      "memory usage: 240.5+ KB\n"
     ]
    }
   ],
   "source": [
    "df_member.info()"
   ]
  },
  {
   "cell_type": "markdown",
   "id": "d7eeb836",
   "metadata": {},
   "source": [
    "9) '생년'데이터를 이용해 2023년 기준 나이를 재계산하여 '연령_new'로 선언 "
   ]
  },
  {
   "cell_type": "code",
   "execution_count": 23,
   "id": "da17ff5b",
   "metadata": {},
   "outputs": [
    {
     "data": {
      "text/html": [
       "<div>\n",
       "<style scoped>\n",
       "    .dataframe tbody tr th:only-of-type {\n",
       "        vertical-align: middle;\n",
       "    }\n",
       "\n",
       "    .dataframe tbody tr th {\n",
       "        vertical-align: top;\n",
       "    }\n",
       "\n",
       "    .dataframe thead th {\n",
       "        text-align: right;\n",
       "    }\n",
       "</style>\n",
       "<table border=\"1\" class=\"dataframe\">\n",
       "  <thead>\n",
       "    <tr style=\"text-align: right;\">\n",
       "      <th></th>\n",
       "      <th>회원번호</th>\n",
       "      <th>회원상태</th>\n",
       "      <th>성별</th>\n",
       "      <th>결혼유무</th>\n",
       "      <th>주소</th>\n",
       "      <th>생년</th>\n",
       "      <th>연령</th>\n",
       "      <th>연령_new</th>\n",
       "    </tr>\n",
       "  </thead>\n",
       "  <tbody>\n",
       "    <tr>\n",
       "      <th>0</th>\n",
       "      <td>2101</td>\n",
       "      <td>정상회원</td>\n",
       "      <td>여</td>\n",
       "      <td>기혼</td>\n",
       "      <td>서울 강북구 미아동 134-</td>\n",
       "      <td>1967</td>\n",
       "      <td>51</td>\n",
       "      <td>57</td>\n",
       "    </tr>\n",
       "    <tr>\n",
       "      <th>1</th>\n",
       "      <td>2102</td>\n",
       "      <td>정상회원</td>\n",
       "      <td>여</td>\n",
       "      <td>NaN</td>\n",
       "      <td>경기 용인시 수지구 동천동</td>\n",
       "      <td>1947</td>\n",
       "      <td>71</td>\n",
       "      <td>77</td>\n",
       "    </tr>\n",
       "    <tr>\n",
       "      <th>2</th>\n",
       "      <td>2103</td>\n",
       "      <td>정상회원</td>\n",
       "      <td>여</td>\n",
       "      <td>기혼</td>\n",
       "      <td>경기 용인시 수지구 동천동</td>\n",
       "      <td>1972</td>\n",
       "      <td>46</td>\n",
       "      <td>52</td>\n",
       "    </tr>\n",
       "    <tr>\n",
       "      <th>3</th>\n",
       "      <td>2104</td>\n",
       "      <td>정상회원</td>\n",
       "      <td>여</td>\n",
       "      <td>NaN</td>\n",
       "      <td>경기 용인시 수지구 성복동</td>\n",
       "      <td>1969</td>\n",
       "      <td>49</td>\n",
       "      <td>55</td>\n",
       "    </tr>\n",
       "    <tr>\n",
       "      <th>4</th>\n",
       "      <td>2105</td>\n",
       "      <td>정상회원</td>\n",
       "      <td>여</td>\n",
       "      <td>기혼</td>\n",
       "      <td>경기 용인시 수지구 동천동</td>\n",
       "      <td>1948</td>\n",
       "      <td>70</td>\n",
       "      <td>76</td>\n",
       "    </tr>\n",
       "    <tr>\n",
       "      <th>...</th>\n",
       "      <td>...</td>\n",
       "      <td>...</td>\n",
       "      <td>...</td>\n",
       "      <td>...</td>\n",
       "      <td>...</td>\n",
       "      <td>...</td>\n",
       "      <td>...</td>\n",
       "      <td>...</td>\n",
       "    </tr>\n",
       "    <tr>\n",
       "      <th>4391</th>\n",
       "      <td>6492</td>\n",
       "      <td>정상회원</td>\n",
       "      <td>여</td>\n",
       "      <td>미혼</td>\n",
       "      <td>경기 성남시 분당구 판교동</td>\n",
       "      <td>1963</td>\n",
       "      <td>55</td>\n",
       "      <td>61</td>\n",
       "    </tr>\n",
       "    <tr>\n",
       "      <th>4392</th>\n",
       "      <td>6493</td>\n",
       "      <td>정상회원</td>\n",
       "      <td>여</td>\n",
       "      <td>기혼</td>\n",
       "      <td>서울 관악구 행운동 1681</td>\n",
       "      <td>1982</td>\n",
       "      <td>36</td>\n",
       "      <td>42</td>\n",
       "    </tr>\n",
       "    <tr>\n",
       "      <th>4393</th>\n",
       "      <td>6494</td>\n",
       "      <td>정상회원</td>\n",
       "      <td>남</td>\n",
       "      <td>기혼</td>\n",
       "      <td>경기 성남시 분당구 백현동</td>\n",
       "      <td>1975</td>\n",
       "      <td>43</td>\n",
       "      <td>49</td>\n",
       "    </tr>\n",
       "    <tr>\n",
       "      <th>4394</th>\n",
       "      <td>6495</td>\n",
       "      <td>정상회원</td>\n",
       "      <td>여</td>\n",
       "      <td>기혼</td>\n",
       "      <td>서울 용산구 한남동 737-</td>\n",
       "      <td>1961</td>\n",
       "      <td>57</td>\n",
       "      <td>63</td>\n",
       "    </tr>\n",
       "    <tr>\n",
       "      <th>4395</th>\n",
       "      <td>6496</td>\n",
       "      <td>정상회원</td>\n",
       "      <td>여</td>\n",
       "      <td>미혼</td>\n",
       "      <td>경기 수원시 영통구 이의동</td>\n",
       "      <td>1971</td>\n",
       "      <td>47</td>\n",
       "      <td>53</td>\n",
       "    </tr>\n",
       "  </tbody>\n",
       "</table>\n",
       "<p>4396 rows × 8 columns</p>\n",
       "</div>"
      ],
      "text/plain": [
       "      회원번호  회원상태 성별 결혼유무               주소    생년  연령  연령_new\n",
       "0     2101  정상회원  여   기혼  서울 강북구 미아동 134-  1967  51      57\n",
       "1     2102  정상회원  여  NaN   경기 용인시 수지구 동천동  1947  71      77\n",
       "2     2103  정상회원  여   기혼   경기 용인시 수지구 동천동  1972  46      52\n",
       "3     2104  정상회원  여  NaN   경기 용인시 수지구 성복동  1969  49      55\n",
       "4     2105  정상회원  여   기혼   경기 용인시 수지구 동천동  1948  70      76\n",
       "...    ...   ... ..  ...              ...   ...  ..     ...\n",
       "4391  6492  정상회원  여   미혼   경기 성남시 분당구 판교동  1963  55      61\n",
       "4392  6493  정상회원  여   기혼  서울 관악구 행운동 1681  1982  36      42\n",
       "4393  6494  정상회원  남   기혼   경기 성남시 분당구 백현동  1975  43      49\n",
       "4394  6495  정상회원  여   기혼  서울 용산구 한남동 737-  1961  57      63\n",
       "4395  6496  정상회원  여   미혼   경기 수원시 영통구 이의동  1971  47      53\n",
       "\n",
       "[4396 rows x 8 columns]"
      ]
     },
     "execution_count": 23,
     "metadata": {},
     "output_type": "execute_result"
    }
   ],
   "source": [
    "df_member['연령_new'] = 2023 - df_member['생년'] + 1\n",
    "df_member"
   ]
  },
  {
   "cell_type": "markdown",
   "id": "27a97528",
   "metadata": {},
   "source": [
    "10) '연령_new'를 이용해 '연령대'새로운 파생변수를 계산 (10대 /20대 /30대...)  "
   ]
  },
  {
   "cell_type": "code",
   "execution_count": 24,
   "id": "1bff20c5",
   "metadata": {},
   "outputs": [
    {
     "data": {
      "text/html": [
       "<div>\n",
       "<style scoped>\n",
       "    .dataframe tbody tr th:only-of-type {\n",
       "        vertical-align: middle;\n",
       "    }\n",
       "\n",
       "    .dataframe tbody tr th {\n",
       "        vertical-align: top;\n",
       "    }\n",
       "\n",
       "    .dataframe thead th {\n",
       "        text-align: right;\n",
       "    }\n",
       "</style>\n",
       "<table border=\"1\" class=\"dataframe\">\n",
       "  <thead>\n",
       "    <tr style=\"text-align: right;\">\n",
       "      <th></th>\n",
       "      <th>회원번호</th>\n",
       "      <th>회원상태</th>\n",
       "      <th>성별</th>\n",
       "      <th>결혼유무</th>\n",
       "      <th>주소</th>\n",
       "      <th>생년</th>\n",
       "      <th>연령</th>\n",
       "      <th>연령_new</th>\n",
       "      <th>연령대</th>\n",
       "    </tr>\n",
       "  </thead>\n",
       "  <tbody>\n",
       "    <tr>\n",
       "      <th>0</th>\n",
       "      <td>2101</td>\n",
       "      <td>정상회원</td>\n",
       "      <td>여</td>\n",
       "      <td>기혼</td>\n",
       "      <td>서울 강북구 미아동 134-</td>\n",
       "      <td>1967</td>\n",
       "      <td>51</td>\n",
       "      <td>57</td>\n",
       "      <td>50대</td>\n",
       "    </tr>\n",
       "    <tr>\n",
       "      <th>1</th>\n",
       "      <td>2102</td>\n",
       "      <td>정상회원</td>\n",
       "      <td>여</td>\n",
       "      <td>NaN</td>\n",
       "      <td>경기 용인시 수지구 동천동</td>\n",
       "      <td>1947</td>\n",
       "      <td>71</td>\n",
       "      <td>77</td>\n",
       "      <td>70대</td>\n",
       "    </tr>\n",
       "    <tr>\n",
       "      <th>2</th>\n",
       "      <td>2103</td>\n",
       "      <td>정상회원</td>\n",
       "      <td>여</td>\n",
       "      <td>기혼</td>\n",
       "      <td>경기 용인시 수지구 동천동</td>\n",
       "      <td>1972</td>\n",
       "      <td>46</td>\n",
       "      <td>52</td>\n",
       "      <td>50대</td>\n",
       "    </tr>\n",
       "    <tr>\n",
       "      <th>3</th>\n",
       "      <td>2104</td>\n",
       "      <td>정상회원</td>\n",
       "      <td>여</td>\n",
       "      <td>NaN</td>\n",
       "      <td>경기 용인시 수지구 성복동</td>\n",
       "      <td>1969</td>\n",
       "      <td>49</td>\n",
       "      <td>55</td>\n",
       "      <td>50대</td>\n",
       "    </tr>\n",
       "    <tr>\n",
       "      <th>4</th>\n",
       "      <td>2105</td>\n",
       "      <td>정상회원</td>\n",
       "      <td>여</td>\n",
       "      <td>기혼</td>\n",
       "      <td>경기 용인시 수지구 동천동</td>\n",
       "      <td>1948</td>\n",
       "      <td>70</td>\n",
       "      <td>76</td>\n",
       "      <td>70대</td>\n",
       "    </tr>\n",
       "    <tr>\n",
       "      <th>...</th>\n",
       "      <td>...</td>\n",
       "      <td>...</td>\n",
       "      <td>...</td>\n",
       "      <td>...</td>\n",
       "      <td>...</td>\n",
       "      <td>...</td>\n",
       "      <td>...</td>\n",
       "      <td>...</td>\n",
       "      <td>...</td>\n",
       "    </tr>\n",
       "    <tr>\n",
       "      <th>4391</th>\n",
       "      <td>6492</td>\n",
       "      <td>정상회원</td>\n",
       "      <td>여</td>\n",
       "      <td>미혼</td>\n",
       "      <td>경기 성남시 분당구 판교동</td>\n",
       "      <td>1963</td>\n",
       "      <td>55</td>\n",
       "      <td>61</td>\n",
       "      <td>60대</td>\n",
       "    </tr>\n",
       "    <tr>\n",
       "      <th>4392</th>\n",
       "      <td>6493</td>\n",
       "      <td>정상회원</td>\n",
       "      <td>여</td>\n",
       "      <td>기혼</td>\n",
       "      <td>서울 관악구 행운동 1681</td>\n",
       "      <td>1982</td>\n",
       "      <td>36</td>\n",
       "      <td>42</td>\n",
       "      <td>40대</td>\n",
       "    </tr>\n",
       "    <tr>\n",
       "      <th>4393</th>\n",
       "      <td>6494</td>\n",
       "      <td>정상회원</td>\n",
       "      <td>남</td>\n",
       "      <td>기혼</td>\n",
       "      <td>경기 성남시 분당구 백현동</td>\n",
       "      <td>1975</td>\n",
       "      <td>43</td>\n",
       "      <td>49</td>\n",
       "      <td>40대</td>\n",
       "    </tr>\n",
       "    <tr>\n",
       "      <th>4394</th>\n",
       "      <td>6495</td>\n",
       "      <td>정상회원</td>\n",
       "      <td>여</td>\n",
       "      <td>기혼</td>\n",
       "      <td>서울 용산구 한남동 737-</td>\n",
       "      <td>1961</td>\n",
       "      <td>57</td>\n",
       "      <td>63</td>\n",
       "      <td>60대</td>\n",
       "    </tr>\n",
       "    <tr>\n",
       "      <th>4395</th>\n",
       "      <td>6496</td>\n",
       "      <td>정상회원</td>\n",
       "      <td>여</td>\n",
       "      <td>미혼</td>\n",
       "      <td>경기 수원시 영통구 이의동</td>\n",
       "      <td>1971</td>\n",
       "      <td>47</td>\n",
       "      <td>53</td>\n",
       "      <td>50대</td>\n",
       "    </tr>\n",
       "  </tbody>\n",
       "</table>\n",
       "<p>4396 rows × 9 columns</p>\n",
       "</div>"
      ],
      "text/plain": [
       "      회원번호  회원상태 성별 결혼유무               주소    생년  연령  연령_new  연령대\n",
       "0     2101  정상회원  여   기혼  서울 강북구 미아동 134-  1967  51      57  50대\n",
       "1     2102  정상회원  여  NaN   경기 용인시 수지구 동천동  1947  71      77  70대\n",
       "2     2103  정상회원  여   기혼   경기 용인시 수지구 동천동  1972  46      52  50대\n",
       "3     2104  정상회원  여  NaN   경기 용인시 수지구 성복동  1969  49      55  50대\n",
       "4     2105  정상회원  여   기혼   경기 용인시 수지구 동천동  1948  70      76  70대\n",
       "...    ...   ... ..  ...              ...   ...  ..     ...  ...\n",
       "4391  6492  정상회원  여   미혼   경기 성남시 분당구 판교동  1963  55      61  60대\n",
       "4392  6493  정상회원  여   기혼  서울 관악구 행운동 1681  1982  36      42  40대\n",
       "4393  6494  정상회원  남   기혼   경기 성남시 분당구 백현동  1975  43      49  40대\n",
       "4394  6495  정상회원  여   기혼  서울 용산구 한남동 737-  1961  57      63  60대\n",
       "4395  6496  정상회원  여   미혼   경기 수원시 영통구 이의동  1971  47      53  50대\n",
       "\n",
       "[4396 rows x 9 columns]"
      ]
     },
     "execution_count": 24,
     "metadata": {},
     "output_type": "execute_result"
    }
   ],
   "source": [
    "df_member['연령대'] = (df_member['연령_new'] // 10).astype(str) + '0대'\n",
    "df_member"
   ]
  },
  {
   "cell_type": "code",
   "execution_count": 25,
   "id": "f1227d3b",
   "metadata": {},
   "outputs": [
    {
     "data": {
      "text/plain": [
       "0       50대\n",
       "1       70대\n",
       "2       50대\n",
       "3       50대\n",
       "4       70대\n",
       "       ... \n",
       "4391    60대\n",
       "4392    40대\n",
       "4393    40대\n",
       "4394    60대\n",
       "4395    50대\n",
       "Name: 연령대, Length: 4396, dtype: object"
      ]
     },
     "execution_count": 25,
     "metadata": {},
     "output_type": "execute_result"
    }
   ],
   "source": [
    "# 풀이\n",
    "def func1(row):\n",
    "    return str(row)[0] +'0대'\n",
    "\n",
    "df_member['연령대'] = df_member['연령_new'].apply(func1)\n",
    "# replace( ) : 기존의 값을 새로운 값으로 변경 \n",
    "df_member['연령대'].replace('10대','90대이상').replace('90대','90대이상')\n",
    "df_member['연령대'].replace({'10대':'90대이상','90대':'90대이상'})"
   ]
  },
  {
   "cell_type": "markdown",
   "id": "c6b88015",
   "metadata": {},
   "source": [
    "### df_member3 데이터를 이용해 매출과 고객 특성에 대한 분석을 하고자 한다\n",
    "\n",
    "11) '결혼유무'에서 '기혼'에 해당하는 고객들 중, '방문횟수'가 높은 상위 30명의 고객 명단을 추출하여 'result_member.xlsx'로 저장  "
   ]
  },
  {
   "cell_type": "code",
   "execution_count": 26,
   "id": "07acc2e1",
   "metadata": {},
   "outputs": [],
   "source": [
    "cond1 = (df_member3['결혼유무']=='기혼')\n",
    "df_marry = df_member3.loc[cond1]\n",
    "df_marry.sort_values(by='방문횟수', ascending = False).head(30).to_excel('result_member.xlsx')"
   ]
  },
  {
   "cell_type": "markdown",
   "id": "c4ad035b",
   "metadata": {},
   "source": [
    "12) '구매금액'의 합이 가장 높은 2개 연령대를 확인하여, 두 연령대 간 '방문횟수'의 평균의 차이가 있는지 가설검정을 수행 "
   ]
  },
  {
   "cell_type": "code",
   "execution_count": 27,
   "id": "5e3e43d3",
   "metadata": {},
   "outputs": [
    {
     "data": {
      "text/plain": [
       "['50대', '40대']"
      ]
     },
     "execution_count": 27,
     "metadata": {},
     "output_type": "execute_result"
    }
   ],
   "source": [
    "df_member4 = df_member[['회원번호', '연령_new', '연령대']]\n",
    "df_member3 = pd.merge(df_member3, df_member4, on='회원번호', how='inner')\n",
    "\n",
    "p12 = df_member3.pivot_table(index='연령대', values='구매금액', aggfunc='sum')\n",
    "df_member_top = p12.sort_values(by='구매금액', ascending = False).head(2).index.to_list()\n",
    "df_member_top\n",
    "# 50대, 40대 확인"
   ]
  },
  {
   "cell_type": "code",
   "execution_count": 28,
   "id": "6926d72a",
   "metadata": {},
   "outputs": [
    {
     "data": {
      "text/plain": [
       "NormaltestResult(statistic=1041.5350436189851, pvalue=6.816146618022918e-227)"
      ]
     },
     "execution_count": 28,
     "metadata": {},
     "output_type": "execute_result"
    }
   ],
   "source": [
    "cond1 = (df_member3['연령대'].isin(['50대', '40대']))\n",
    "df_vip_age = df_member3.loc[cond1]\n",
    "\n",
    "# 12-1) 방문횟수 연속형 데이터가 정규성을 따르는가?\n",
    "#       귀무가설 : 해당 데이터의 분포는 정규분포를 따른다\n",
    "#       대립가설 : 해당 데이터의 분포는 정규분포를 따르지 않는다\n",
    "\n",
    "stats.normaltest(df_vip_age['방문횟수'])\n",
    "# p-value < 0.05 | 대립가설 참 | 해당 데이터의 분포는 정규분포를 따르지 않는다"
   ]
  },
  {
   "cell_type": "code",
   "execution_count": 29,
   "id": "b9b40c89",
   "metadata": {},
   "outputs": [
    {
     "data": {
      "text/plain": [
       "RanksumsResult(statistic=1.5356357164914587, pvalue=0.12462774925460733)"
      ]
     },
     "execution_count": 29,
     "metadata": {},
     "output_type": "execute_result"
    }
   ],
   "source": [
    "# 12-2) 40대와 50대의 방문횟수의 평균의 차이가 있는가?\n",
    "#       귀무가설 : 40대와 50대의 방문횟수의 평균의 차이가 없다. \n",
    "#       대립가설 : 40대와 50대의 방문횟수의 평균의 차이가 있다.\n",
    "cond1 = (df_vip_age['연령대']=='50대')\n",
    "df_50s = df_vip_age.loc[cond1]\n",
    "cond2 = (df_vip_age['연령대']=='40대')\n",
    "df_40s = df_vip_age.loc[cond2]\n",
    "\n",
    "stats.ranksums(df_50s['방문횟수'], df_40s['방문횟수'])\n",
    "# p-value > 0.05 | 귀무가설 참(귀무가설 기각 실패) | 두 집단의 구매금액의 평균의 차이가 없다."
   ]
  },
  {
   "cell_type": "code",
   "execution_count": 30,
   "id": "7df64353",
   "metadata": {},
   "outputs": [],
   "source": [
    "#풀이\n",
    "df_member3['연령_new'] = 2023 - df_member3['생년'] +1 "
   ]
  },
  {
   "cell_type": "code",
   "execution_count": 31,
   "id": "d9a8d155",
   "metadata": {},
   "outputs": [
    {
     "data": {
      "text/html": [
       "<div>\n",
       "<style scoped>\n",
       "    .dataframe tbody tr th:only-of-type {\n",
       "        vertical-align: middle;\n",
       "    }\n",
       "\n",
       "    .dataframe tbody tr th {\n",
       "        vertical-align: top;\n",
       "    }\n",
       "\n",
       "    .dataframe thead th {\n",
       "        text-align: right;\n",
       "    }\n",
       "</style>\n",
       "<table border=\"1\" class=\"dataframe\">\n",
       "  <thead>\n",
       "    <tr style=\"text-align: right;\">\n",
       "      <th></th>\n",
       "      <th>구매금액</th>\n",
       "    </tr>\n",
       "    <tr>\n",
       "      <th>연령대</th>\n",
       "      <th></th>\n",
       "    </tr>\n",
       "  </thead>\n",
       "  <tbody>\n",
       "    <tr>\n",
       "      <th>10대</th>\n",
       "      <td>5490030</td>\n",
       "    </tr>\n",
       "    <tr>\n",
       "      <th>20대</th>\n",
       "      <td>7100</td>\n",
       "    </tr>\n",
       "    <tr>\n",
       "      <th>30대</th>\n",
       "      <td>74853085</td>\n",
       "    </tr>\n",
       "    <tr>\n",
       "      <th>40대</th>\n",
       "      <td>1154840902</td>\n",
       "    </tr>\n",
       "    <tr>\n",
       "      <th>50대</th>\n",
       "      <td>1592537145</td>\n",
       "    </tr>\n",
       "    <tr>\n",
       "      <th>60대</th>\n",
       "      <td>714931621</td>\n",
       "    </tr>\n",
       "    <tr>\n",
       "      <th>70대</th>\n",
       "      <td>467509445</td>\n",
       "    </tr>\n",
       "    <tr>\n",
       "      <th>80대</th>\n",
       "      <td>149850385</td>\n",
       "    </tr>\n",
       "    <tr>\n",
       "      <th>90대</th>\n",
       "      <td>16864275</td>\n",
       "    </tr>\n",
       "  </tbody>\n",
       "</table>\n",
       "</div>"
      ],
      "text/plain": [
       "           구매금액\n",
       "연령대            \n",
       "10대     5490030\n",
       "20대        7100\n",
       "30대    74853085\n",
       "40대  1154840902\n",
       "50대  1592537145\n",
       "60대   714931621\n",
       "70대   467509445\n",
       "80대   149850385\n",
       "90대    16864275"
      ]
     },
     "execution_count": 31,
     "metadata": {},
     "output_type": "execute_result"
    }
   ],
   "source": [
    "df_member3['연령대'] = df_member3['연령_new'].apply(func1)\n",
    "df_member3.pivot_table(index='연령대',values='구매금액',aggfunc='sum')"
   ]
  },
  {
   "cell_type": "code",
   "execution_count": 32,
   "id": "34e038f6",
   "metadata": {},
   "outputs": [
    {
     "data": {
      "text/plain": [
       "NormaltestResult(statistic=1041.5350436189851, pvalue=6.816146618022918e-227)"
      ]
     },
     "execution_count": 32,
     "metadata": {},
     "output_type": "execute_result"
    }
   ],
   "source": [
    "cond1 = df_member3['연령대'].isin(['40대','50대'])\n",
    "# 12-1) 40,50대 고객명단의 방문횟수 데이터가 정규성을 따르는가? \n",
    "stats.normaltest(df_member3.loc[cond1]['방문횟수'])\n",
    "# P.value < 0.05 / 대립가설 참 / 정규분포를 띄지 않는다 "
   ]
  },
  {
   "cell_type": "code",
   "execution_count": 33,
   "id": "3e9524d7",
   "metadata": {},
   "outputs": [
    {
     "data": {
      "text/plain": [
       "RanksumsResult(statistic=-1.5356357164914587, pvalue=0.12462774925460733)"
      ]
     },
     "execution_count": 33,
     "metadata": {},
     "output_type": "execute_result"
    }
   ],
   "source": [
    "# 12-2 ) 귀무가설 : 40대와 50대의 방문횟수의 평균의 차이가 없다. \n",
    "#        대립가설 : 40대와 50대의 방문횟수의 평균의 차이가 있다.\n",
    "cond1 = (df_member3['연령대']=='40대')\n",
    "cond2 = (df_member3['연령대']=='50대')\n",
    "df_member3_40 = df_member3.loc[cond1]\n",
    "df_member3_50 = df_member3.loc[cond2]\n",
    "stats.ranksums(df_member3_40['방문횟수'], df_member3_50['방문횟수'])\n",
    "# P.value > 0.05 / 귀무가설 참 / 40대와 50대의 방문횟수의 평균의 차이가 없다. "
   ]
  },
  {
   "cell_type": "markdown",
   "id": "ab3f47af",
   "metadata": {},
   "source": [
    "13) '성별' 별 '구매금액'에 대한 평균을 시각화 하시오."
   ]
  },
  {
   "cell_type": "code",
   "execution_count": 34,
   "id": "902fd9a6",
   "metadata": {},
   "outputs": [
    {
     "data": {
      "text/plain": [
       "<BarContainer object of 2 artists>"
      ]
     },
     "execution_count": 34,
     "metadata": {},
     "output_type": "execute_result"
    },
    {
     "data": {
      "image/png": "[encoded data removed]",
      "text/plain": [
       "<Figure size 432x288 with 1 Axes>"
      ]
     },
     "metadata": {
      "needs_background": "light"
     },
     "output_type": "display_data"
    }
   ],
   "source": [
    "p13 = df_member3.pivot_table(index='성별', values='구매금액', aggfunc='mean').reset_index()\n",
    "plt.bar(p13['성별'], p13['구매금액'])"
   ]
  },
  {
   "cell_type": "code",
   "execution_count": 35,
   "id": "aab5bc89",
   "metadata": {},
   "outputs": [
    {
     "data": {
      "text/plain": [
       "<AxesSubplot:xlabel='성별', ylabel='구매금액'>"
      ]
     },
     "execution_count": 35,
     "metadata": {},
     "output_type": "execute_result"
    },
    {
     "data": {
      "image/png": "[encoded data removed]",
      "text/plain": [
       "<Figure size 432x288 with 1 Axes>"
      ]
     },
     "metadata": {
      "needs_background": "light"
     },
     "output_type": "display_data"
    }
   ],
   "source": [
    "# 풀이\n",
    "sns.barplot(data=df_member3, x='성별', y='구매금액',ci=None)"
   ]
  }
 ],
 "metadata": {
  "kernelspec": {
   "display_name": "Python 3",
   "language": "python",
   "name": "python3"
  },
  "language_info": {
   "codemirror_mode": {
    "name": "ipython",
    "version": 3
   },
   "file_extension": ".py",
   "mimetype": "text/x-python",
   "name": "python",
   "nbconvert_exporter": "python",
   "pygments_lexer": "ipython3",
   "version": "3.8.8"
  }
 },
 "nbformat": 4,
 "nbformat_minor": 5
}
