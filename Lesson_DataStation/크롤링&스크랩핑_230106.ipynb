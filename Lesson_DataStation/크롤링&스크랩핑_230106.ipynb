{
 "cells": [
  {
   "cell_type": "markdown",
   "id": "828606a1",
   "metadata": {},
   "source": [
    "# 크롤링 Crawling & Scraping\n",
    "\n",
    "- Scraping : 웹이나 다운로드된 HTML 자료에서 정보를 추출하는 기법\n",
    "- Crawling : 웹 페이지의 하이퍼링크를 돌아다니며 웹 페이지를 다운로드 기법  \n",
    "  \n",
    "  \n",
    "- Ptyhon 크롤링 라이브러리\n",
    "    - Beautiful Soup : HTML & XML 문서를 분석\n",
    "    - Selenium : App이나 Web Testing"
   ]
  },
  {
   "cell_type": "code",
   "execution_count": 1,
   "id": "374c4003",
   "metadata": {},
   "outputs": [
    {
     "name": "stdout",
     "output_type": "stream",
     "text": [
      "Requirement already satisfied: selenium in c:\\programdata\\anaconda3\\lib\\site-packages (3.141.0)\n",
      "Requirement already satisfied: urllib3 in c:\\programdata\\anaconda3\\lib\\site-packages (from selenium) (1.26.4)\n"
     ]
    }
   ],
   "source": [
    "!pip install --user selenium"
   ]
  },
  {
   "cell_type": "code",
   "execution_count": 2,
   "id": "3c677ca8",
   "metadata": {},
   "outputs": [],
   "source": [
    "from selenium import webdriver # 웹 크롤링 라이브러리 호출"
   ]
  },
  {
   "cell_type": "code",
   "execution_count": 3,
   "id": "b4dba252",
   "metadata": {},
   "outputs": [],
   "source": [
    "# 드라이버를 이용해서 웹페이지를 열기\n",
    "driver = webdriver.Chrome('chromedriver.exe')\n",
    "driver.get('https://emart.ssg.com/disp/category.ssg?dispCtgId=6000213114') # get 특정 사이트에 접속"
   ]
  },
  {
   "cell_type": "code",
   "execution_count": 4,
   "id": "fa4641c2",
   "metadata": {},
   "outputs": [],
   "source": [
    "from selenium.webdriver.common.by import By"
   ]
  },
  {
   "cell_type": "code",
   "execution_count": 5,
   "id": "f35950e4",
   "metadata": {},
   "outputs": [
    {
     "data": {
      "text/plain": [
       "'[뉴질랜드산] 아보카도 4~5입/팩 (900g내외)'"
      ]
     },
     "execution_count": 5,
     "metadata": {},
     "output_type": "execute_result"
    }
   ],
   "source": [
    "# 제품명 가져오기\n",
    "driver.find_element(By.XPATH, \n",
    "                    '//*[@id=\"ty_thmb_view\"]/ul/li[1]/div/div/div[2]/div[1]/a/div[1]/span').text"
   ]
  },
  {
   "cell_type": "code",
   "execution_count": 6,
   "id": "43a20a59",
   "metadata": {},
   "outputs": [
    {
     "data": {
      "text/plain": [
       "'8,800'"
      ]
     },
     "execution_count": 6,
     "metadata": {},
     "output_type": "execute_result"
    }
   ],
   "source": [
    "# 제품 금액 가져오기\n",
    "driver.find_element(By.XPATH, \n",
    "                    '//*[@id=\"ty_thmb_view\"]/ul/li[1]/div/div/div[2]/div[1]/a/div[2]/div[2]/div[2]/em').text"
   ]
  },
  {
   "cell_type": "code",
   "execution_count": 7,
   "id": "a758be10",
   "metadata": {},
   "outputs": [
    {
     "name": "stdout",
     "output_type": "stream",
     "text": [
      "[뉴질랜드산] 아보카도 4~5입/팩 (900g내외)\n",
      "파머스픽 당도선별사과 1.2kg/봉 (5~6입)\n",
      "[미국산] 냉동 블루베리 1.5kg/봉\n",
      "완숙토마토 5~8입/팩 (1.2kg)\n",
      "[미국산] 레몬 9~15입/봉 (1.4kg내외)\n",
      "[필리핀산] 망고 3입/팩 (700g내외)\n"
     ]
    }
   ],
   "source": [
    "driver = webdriver.Chrome('chromedriver.exe')\n",
    "driver.get('https://emart.ssg.com/disp/category.ssg?dispCtgId=6000213114') # get 특정 사이트에 접속\n",
    "for i in range(1, 7):\n",
    "    print(driver.find_element(By.XPATH, \n",
    "                              '//*[@id=\"ty_thmb_view\"]/ul/li[{}]/div/div/div[2]/div[1]/a/div[1]/span'.format(i)).text)"
   ]
  },
  {
   "cell_type": "markdown",
   "id": "b0584284",
   "metadata": {},
   "source": [
    "> 이마트는 막혀서 잡플래닛으로..."
   ]
  },
  {
   "cell_type": "code",
   "execution_count": 8,
   "id": "4d04a068",
   "metadata": {},
   "outputs": [],
   "source": [
    "# 드라이버를 이용하여 웹페이지를 열기\n",
    "driver = webdriver.Chrome('chromedriver.exe')\n",
    "driver.get('https://www.jobplanet.co.kr/')"
   ]
  },
  {
   "cell_type": "code",
   "execution_count": 9,
   "id": "4b6bf7e2",
   "metadata": {},
   "outputs": [],
   "source": [
    "# 로그인 버튼 클릭\n",
    "driver.find_element(By.XPATH, \n",
    "                    '/html/body/div[1]/div[1]/header/div[2]/div[2]/a[1]/span').click()"
   ]
  },
  {
   "cell_type": "code",
   "execution_count": 10,
   "id": "f39b75e5",
   "metadata": {},
   "outputs": [],
   "source": [
    "# 이메일 입력 \n",
    "driver.find_element(By.XPATH,\n",
    "                    '//*[@id=\"user_email\"]').send_keys('[개인 이메일 입력]')"
   ]
  },
  {
   "cell_type": "code",
   "execution_count": 11,
   "id": "bc62e6ad",
   "metadata": {},
   "outputs": [],
   "source": [
    "# 비밀번호 입력 \n",
    "driver.find_element(By.XPATH,\n",
    "                    '//*[@id=\"user_password\"]').send_keys('[개인 비밀번호 입력]')"
   ]
  },
  {
   "cell_type": "code",
   "execution_count": 12,
   "id": "af1e4c4a",
   "metadata": {},
   "outputs": [],
   "source": [
    "# 로그인 버튼 클릭\n",
    "driver.find_element(By.XPATH, \n",
    "                    '//*[@id=\"signInSignInCon\"]/div[2]/div/section[3]/fieldset/button').click()"
   ]
  },
  {
   "cell_type": "code",
   "execution_count": 16,
   "id": "09f8d850",
   "metadata": {},
   "outputs": [],
   "source": [
    "# 포스코 기업 페이지 접속\n",
    "driver.get('https://www.jobplanet.co.kr/companies/50130/reviews/%ED%8F%AC%EC%8A%A4%EC%BD%94')\n",
    "# 열려 있는 창 제거\n",
    "driver.find_element(By.XPATH, \n",
    "                    '//*[@id=\"premiumReviewChart\"]/div/div[3]/div[2]/div/div[1]/button').click()"
   ]
  },
  {
   "cell_type": "code",
   "execution_count": 17,
   "id": "e189133b",
   "metadata": {},
   "outputs": [
    {
     "name": "stdout",
     "output_type": "stream",
     "text": [
      "생산/제조\n",
      "생산/제조\n",
      "마케팅/시장조사\n",
      "생산/제조\n",
      "생산/제조\n"
     ]
    }
   ],
   "source": [
    "for i in range(1, 6):\n",
    "    div_name = driver.find_element(By.XPATH, \n",
    "                                   '//*[@id=\"viewReviewsList\"]/div/div/div/section[{}]/div/div[1]/span[2]'.format(i)).text\n",
    "    # div_name = driver.find_element(By.XPATH, \n",
    "    #                    '//*[@id=\"viewReviewsList\"]/div/div/div/section['+str(i)+']/div/div[1]/span[2]').text \n",
    "    print(div_name)"
   ]
  },
  {
   "cell_type": "code",
   "execution_count": 18,
   "id": "f601c0b6",
   "metadata": {},
   "outputs": [
    {
     "name": "stdout",
     "output_type": "stream",
     "text": [
      "\"너무 기대치가 높지 않다면 꾸준히 다닐만 한 회사 철밥통임\"\n",
      "\"지역 내 적당히 괜찮은 회사 다만 포항 광양 근무할 가능성이 높고 서울로 갈 기회는 없음\"\n",
      "\"13년 연속 세계에서 가장 경쟁력있는 철강회사 1위 기업.\n",
      "최근 태풍 침수 피해로 고전 중이나 애사심 높은 직원들의 자발적인 노력으로 극복 중\"\n",
      "\"형식과 보고를 위한 업무가 90% 차지하는 비효율적인 조직문화\"\n",
      "\"초봉 좋고 숙소 깨끗함\n",
      "하지만 거의 노인정 수준의 나이분포\"\n"
     ]
    }
   ],
   "source": [
    "for i in range(1, 6):\n",
    "    comm = driver.find_element(By.XPATH, \n",
    "                               '//*[@id=\"viewReviewsList\"]/div/div/div/section[{}]/div/div[2]/div/div[1]/h2'.format(i)).text\n",
    "    print(comm)"
   ]
  },
  {
   "cell_type": "code",
   "execution_count": 19,
   "id": "c92513d1",
   "metadata": {},
   "outputs": [],
   "source": [
    "div_list = []\n",
    "comm_list = []\n",
    "for i in range(1, 6):\n",
    "    div_name = driver.find_element(By.XPATH,  \n",
    "                                   '//*[@id=\"viewReviewsList\"]/div/div/div/section[{}]/div/div[1]/span[2]'.format(i)).text\n",
    "    comm = driver.find_element(By.XPATH, \n",
    "                               '//*[@id=\"viewReviewsList\"]/div/div/div/section[{}]/div/div[2]/div/div[1]/h2'.format(i)).text\n",
    "    div_list.append(div_name)\n",
    "    comm_list.append(comm)"
   ]
  },
  {
   "cell_type": "code",
   "execution_count": 21,
   "id": "ac847a31",
   "metadata": {},
   "outputs": [],
   "source": [
    "import pandas as pd"
   ]
  },
  {
   "cell_type": "code",
   "execution_count": 22,
   "id": "28b5e549",
   "metadata": {},
   "outputs": [
    {
     "data": {
      "text/html": [
       "<div>\n",
       "<style scoped>\n",
       "    .dataframe tbody tr th:only-of-type {\n",
       "        vertical-align: middle;\n",
       "    }\n",
       "\n",
       "    .dataframe tbody tr th {\n",
       "        vertical-align: top;\n",
       "    }\n",
       "\n",
       "    .dataframe thead th {\n",
       "        text-align: right;\n",
       "    }\n",
       "</style>\n",
       "<table border=\"1\" class=\"dataframe\">\n",
       "  <thead>\n",
       "    <tr style=\"text-align: right;\">\n",
       "      <th></th>\n",
       "      <th>부서명</th>\n",
       "      <th>한줄평</th>\n",
       "    </tr>\n",
       "  </thead>\n",
       "  <tbody>\n",
       "    <tr>\n",
       "      <th>0</th>\n",
       "      <td>생산/제조</td>\n",
       "      <td>\"너무 기대치가 높지 않다면 꾸준히 다닐만 한 회사 철밥통임\"</td>\n",
       "    </tr>\n",
       "    <tr>\n",
       "      <th>1</th>\n",
       "      <td>생산/제조</td>\n",
       "      <td>\"지역 내 적당히 괜찮은 회사 다만 포항 광양 근무할 가능성이 높고 서울로 갈 기회...</td>\n",
       "    </tr>\n",
       "    <tr>\n",
       "      <th>2</th>\n",
       "      <td>마케팅/시장조사</td>\n",
       "      <td>\"13년 연속 세계에서 가장 경쟁력있는 철강회사 1위 기업.\\n최근 태풍 침수 피해...</td>\n",
       "    </tr>\n",
       "    <tr>\n",
       "      <th>3</th>\n",
       "      <td>생산/제조</td>\n",
       "      <td>\"형식과 보고를 위한 업무가 90% 차지하는 비효율적인 조직문화\"</td>\n",
       "    </tr>\n",
       "    <tr>\n",
       "      <th>4</th>\n",
       "      <td>생산/제조</td>\n",
       "      <td>\"초봉 좋고 숙소 깨끗함\\n하지만 거의 노인정 수준의 나이분포\"</td>\n",
       "    </tr>\n",
       "  </tbody>\n",
       "</table>\n",
       "</div>"
      ],
      "text/plain": [
       "        부서명                                                한줄평\n",
       "0     생산/제조                 \"너무 기대치가 높지 않다면 꾸준히 다닐만 한 회사 철밥통임\"\n",
       "1     생산/제조  \"지역 내 적당히 괜찮은 회사 다만 포항 광양 근무할 가능성이 높고 서울로 갈 기회...\n",
       "2  마케팅/시장조사  \"13년 연속 세계에서 가장 경쟁력있는 철강회사 1위 기업.\\n최근 태풍 침수 피해...\n",
       "3     생산/제조               \"형식과 보고를 위한 업무가 90% 차지하는 비효율적인 조직문화\"\n",
       "4     생산/제조                \"초봉 좋고 숙소 깨끗함\\n하지만 거의 노인정 수준의 나이분포\""
      ]
     },
     "execution_count": 22,
     "metadata": {},
     "output_type": "execute_result"
    }
   ],
   "source": [
    "pd.DataFrame({'부서명':div_list, '한줄평':comm_list})"
   ]
  },
  {
   "cell_type": "code",
   "execution_count": 23,
   "id": "d1bd278f",
   "metadata": {},
   "outputs": [],
   "source": [
    "driver.implicitly_wait(10) \n",
    "# 10초동안 페이지 정보가 불러올 때까지 기다림\n",
    "# 10초안에 페이지를 불러오면 10초를 다 채우지 않아도 다음 코드로 넘어간다."
   ]
  },
  {
   "cell_type": "code",
   "execution_count": 24,
   "id": "fdaa8e81",
   "metadata": {},
   "outputs": [],
   "source": [
    "def scrap1():\n",
    "    div_list = []\n",
    "    comm_list = []\n",
    "    for i in range(1, 6):\n",
    "        try: \n",
    "            div_name = driver.find_element(By.XPATH,  \n",
    "                                           '//*[@id=\"viewReviewsList\"]/div/div/div/section[{}]/div/div[1]/span[2]'.format(i)).text\n",
    "            comm = driver.find_element(By.XPATH, \n",
    "                                       '//*[@id=\"viewReviewsList\"]/div/div/div/section[{}]/div/div[2]/div/div[1]/h2'.format(i)).text\n",
    "            div_list.append(div_name)\n",
    "            comm_list.append(comm)\n",
    "        except Exception as e:\n",
    "            print(e)\n",
    "        finally:\n",
    "            pass"
   ]
  },
  {
   "cell_type": "code",
   "execution_count": 25,
   "id": "e43e77c7",
   "metadata": {},
   "outputs": [],
   "source": [
    "scrap1()"
   ]
  },
  {
   "cell_type": "code",
   "execution_count": 26,
   "id": "5f58aa56",
   "metadata": {},
   "outputs": [],
   "source": [
    "# 창을 띄우지 않고 크롤링을 수행\n",
    "options = webdriver.ChromeOptions()\n",
    "options.add_argument('headless')\n",
    "\n",
    "driver = webdriver.Chrome(options=options)\n",
    "driver.get('https://www.jobplanet.co.kr') # 웹사이트 실행\n",
    "driver.quit() # 크롤링 종료\n",
    "              # [크롤링 종료방법]\n",
    "              # - 주피터 노트북을 끄거나 quit 메소드 수행"
   ]
  },
  {
   "cell_type": "code",
   "execution_count": 27,
   "id": "7682d98a",
   "metadata": {},
   "outputs": [],
   "source": [
    "def start_Code( url ):\n",
    "    import time \n",
    "    driver = webdriver.Chrome('chromedriver')\n",
    "    # driver = webdriver.Chrome(ChromeDriverManager().install())  # Mac \n",
    "    driver.get('https://www.jobplanet.co.kr')\n",
    "\n",
    "    driver.implicitly_wait(10)  \n",
    "    time.sleep(2) # 2초를 무조건 기다림\n",
    "    \n",
    "    driver.find_element(By.XPATH, \n",
    "                '/html/body/div[1]/div[1]/header/div[2]/div[2]/a[1]/span').click()\n",
    "    driver.find_element(By.XPATH,\n",
    "                   '//*[@id=\"user_email\"]').send_keys('[개인 이메일 입력]')\n",
    "    driver.find_element(By.XPATH,\n",
    "                   '//*[@id=\"user_password\"]').send_keys('[개인 비밀번호 입력]')\n",
    "    driver.find_element(By.XPATH,\n",
    "                        '//*[@id=\"signInSignInCon\"]/div[2]/div/section[3]/fieldset/button').click()\n",
    "\n",
    "    time.sleep(5) \n",
    "    driver.get(url)\n",
    "    driver.find_element(By.XPATH,\n",
    "                        '//*[@id=\"premiumReviewChart\"]/div/div[3]/div[2]/div/div[1]/button').click()\n",
    "    pasing_Scrap(driver)\n"
   ]
  },
  {
   "cell_type": "code",
   "execution_count": 28,
   "id": "b35467e4",
   "metadata": {},
   "outputs": [],
   "source": [
    "def pasing_Scrap(driver):\n",
    "    import time\n",
    "    for p in range(0,30): \n",
    "        try:\n",
    "            driver.implicitly_wait(3)\n",
    "            comm_Scrap(driver)\n",
    "        except:\n",
    "            print('pasing Error')\n",
    "        finally:\n",
    "            time.sleep(3)\n",
    "            driver.find_element(By.XPATH, '//*[@id=\"viewReviewsList\"]/div/div/div/div[5]/article/a[7]').click()\n",
    "            print('Done')"
   ]
  },
  {
   "cell_type": "code",
   "execution_count": 29,
   "id": "ea7d4b72",
   "metadata": {},
   "outputs": [],
   "source": [
    "def comm_Scrap(driver):\n",
    "    for i in range(1,6):\n",
    "        try:\n",
    "            import time\n",
    "            driver.implicitly_wait(3)\n",
    "            div_txt = driver.find_element(By.XPATH, '//*[@id=\"viewReviewsList\"]/div/div/div/section['+str(i)+']/div/div[1]/span[2]').text\n",
    "            state_txt = driver.find_element(By.XPATH, '//*[@id=\"viewReviewsList\"]/div/div/div/section['+str(i)+']/div/div[1]/span[4]').text\n",
    "            regin_txt = driver.find_element(By.XPATH, '//*[@id=\"viewReviewsList\"]/div/div/div/section['+str(i)+']/div/div[1]/span[6]').text\n",
    "            date_txt = driver.find_element(By.XPATH, '//*[@id=\"viewReviewsList\"]/div/div/div/section['+str(i)+']/div/div[1]/span[8]').text\n",
    "            comm_txt = driver.find_element(By.XPATH, '//*[@id=\"viewReviewsList\"]/div/div/div/section['+str(i)+']/div/div[2]/div/div[1]/h2').text\n",
    "            good_txt = driver.find_element(By.XPATH, '//*[@id=\"viewReviewsList\"]/div/div/div/section['+str(i)+']/div/div[2]/div/dl/dd[1]/span').text\n",
    "            bad_txt = driver.find_element(By.XPATH, '//*[@id=\"viewReviewsList\"]/div/div/div/section['+str(i)+']/div/div[2]/div/dl/dd[2]/span').text\n",
    "           \n",
    "            div_list.append(div_txt)\n",
    "            state_list.append(state_txt)\n",
    "            regin_list.append(regin_txt)\n",
    "            date_list.append(date_txt)\n",
    "            comm_list.append(comm_txt)\n",
    "            good_comm_list.append(good_txt)\n",
    "            bad_comm_list.append(bad_txt)\n",
    "        except :\n",
    "            print('comm Error')\n",
    "        finally : \n",
    "            pass"
   ]
  },
  {
   "cell_type": "code",
   "execution_count": 30,
   "id": "81d15935",
   "metadata": {},
   "outputs": [],
   "source": [
    "div_list = []       # 직군 \n",
    "state_list = []     # 전현직 상태\n",
    "regin_list = []     # 지역\n",
    "date_list  = []     # 작성일자 \n",
    "comm_list  = []     # 한줄평 \n",
    "good_comm_list = [] # 장점\n",
    "bad_comm_list  = [] # 단점 "
   ]
  },
  {
   "cell_type": "code",
   "execution_count": 31,
   "id": "11be125c",
   "metadata": {},
   "outputs": [
    {
     "name": "stdout",
     "output_type": "stream",
     "text": [
      "Done\n",
      "Done\n",
      "comm Error\n",
      "Done\n",
      "comm Error\n",
      "Done\n",
      "comm Error\n",
      "Done\n",
      "Done\n",
      "comm Error\n",
      "Done\n",
      "Done\n",
      "Done\n",
      "comm Error\n",
      "Done\n",
      "Done\n",
      "Done\n",
      "Done\n",
      "comm Error\n",
      "Done\n",
      "comm Error\n",
      "Done\n",
      "Done\n",
      "comm Error\n",
      "Done\n",
      "comm Error\n",
      "Done\n",
      "Done\n",
      "comm Error\n",
      "Done\n",
      "Done\n",
      "Done\n",
      "Done\n",
      "Done\n",
      "Done\n",
      "Done\n",
      "comm Error\n",
      "Done\n",
      "comm Error\n",
      "Done\n",
      "Done\n",
      "comm Error\n",
      "Done\n"
     ]
    }
   ],
   "source": [
    "start_Code('https://www.jobplanet.co.kr/companies/50130/reviews/%ED%8F%AC%EC%8A%A4%EC%BD%94')"
   ]
  },
  {
   "cell_type": "code",
   "execution_count": 32,
   "id": "6f8bc62e",
   "metadata": {
    "scrolled": false
   },
   "outputs": [
    {
     "data": {
      "text/html": [
       "<div>\n",
       "<style scoped>\n",
       "    .dataframe tbody tr th:only-of-type {\n",
       "        vertical-align: middle;\n",
       "    }\n",
       "\n",
       "    .dataframe tbody tr th {\n",
       "        vertical-align: top;\n",
       "    }\n",
       "\n",
       "    .dataframe thead th {\n",
       "        text-align: right;\n",
       "    }\n",
       "</style>\n",
       "<table border=\"1\" class=\"dataframe\">\n",
       "  <thead>\n",
       "    <tr style=\"text-align: right;\">\n",
       "      <th></th>\n",
       "      <th>작성일자</th>\n",
       "      <th>직군</th>\n",
       "      <th>지역</th>\n",
       "      <th>한줄평</th>\n",
       "      <th>기업장점</th>\n",
       "      <th>기업단점</th>\n",
       "    </tr>\n",
       "  </thead>\n",
       "  <tbody>\n",
       "    <tr>\n",
       "      <th>0</th>\n",
       "      <td>2023. 01</td>\n",
       "      <td>생산/제조</td>\n",
       "      <td>경북</td>\n",
       "      <td>\"너무 기대치가 높지 않다면 꾸준히 다닐만 한 회사 철밥통임\"</td>\n",
       "      <td>부서마다 캐바캐인데 연차를 자유로이 쓸수있다몀 워라밸은 최고인 회사 4조 2교대 근...</td>\n",
       "      <td>너무 보여주기식 일처리가 많다 부서마다 이것도 캐바캐지만 위험한 부서도 있음</td>\n",
       "    </tr>\n",
       "    <tr>\n",
       "      <th>1</th>\n",
       "      <td>2022. 12</td>\n",
       "      <td>생산/제조</td>\n",
       "      <td>경북</td>\n",
       "      <td>\"지역 내 적당히 괜찮은 회사 다만 포항 광양 근무할 가능성이 높고 서울로 갈 기회...</td>\n",
       "      <td>안정적인 사업체계 및 연봉으로 뭐하나 빠지지 않는점이 장점</td>\n",
       "      <td>상사 눈치보면서 퇴근, 다른 대기업과 비교시 연봉이 열위</td>\n",
       "    </tr>\n",
       "    <tr>\n",
       "      <th>2</th>\n",
       "      <td>2022. 12</td>\n",
       "      <td>마케팅/시장조사</td>\n",
       "      <td>서울</td>\n",
       "      <td>\"13년 연속 세계에서 가장 경쟁력있는 철강회사 1위 기업.\\n최근 태풍 침수 피해...</td>\n",
       "      <td>사무직의 경우 여직원이 가장 일하기 편한 회사임.\\n다면평가로 직책자가 평가되므로 ...</td>\n",
       "      <td>개개인의 노력으로 회사의 이익이 좌지우지되지 않아, 단기간 내 고위급 경영진에 어필...</td>\n",
       "    </tr>\n",
       "    <tr>\n",
       "      <th>3</th>\n",
       "      <td>2022. 12</td>\n",
       "      <td>생산/제조</td>\n",
       "      <td>전남</td>\n",
       "      <td>\"형식과 보고를 위한 업무가 90% 차지하는 비효율적인 조직문화\"</td>\n",
       "      <td>기업 규모가 크고 안정적인 운영으로 고용안정성이 우수합니다.\\n\\n부모님 세대에게 ...</td>\n",
       "      <td>탑다운 방식의 업무지시로 불필요한 업무가 본업무보다 많습니다.\\n\\n수직적인 기업문...</td>\n",
       "    </tr>\n",
       "    <tr>\n",
       "      <th>4</th>\n",
       "      <td>2022. 12</td>\n",
       "      <td>생산/제조</td>\n",
       "      <td>전남</td>\n",
       "      <td>\"초봉 좋고 숙소 깨끗함\\n하지만 거의 노인정 수준의 나이분포\"</td>\n",
       "      <td>돈을 많이 준다는게 가장 좋습니다\\n그리고 광양의 경우 신축 기숙사가 지어져서 매우...</td>\n",
       "      <td>진짜 돈만 보고 간다면 좋지만 폐가 썩어들어가는듯한 업무환경과 사람을 하나의 부품으...</td>\n",
       "    </tr>\n",
       "    <tr>\n",
       "      <th>...</th>\n",
       "      <td>...</td>\n",
       "      <td>...</td>\n",
       "      <td>...</td>\n",
       "      <td>...</td>\n",
       "      <td>...</td>\n",
       "      <td>...</td>\n",
       "    </tr>\n",
       "    <tr>\n",
       "      <th>132</th>\n",
       "      <td>2022. 02</td>\n",
       "      <td>생산/제조</td>\n",
       "      <td>경북</td>\n",
       "      <td>\"상주근무는 그냥 돌발대기조 수준이고, 갈거면 교대근무 아니면 추천 안드립니다\"</td>\n",
       "      <td>장점?.. 초봉에 나중에 줄 연금 미리 땡겨서 주는데 그걸로 초봉 많이 주는척 합니다</td>\n",
       "      <td>그냥 다 단점이에요 회장부터 주인의식이 없으니 회사자체가 그냥 답이 안나옵니다</td>\n",
       "    </tr>\n",
       "    <tr>\n",
       "      <th>133</th>\n",
       "      <td>2022. 02</td>\n",
       "      <td>기획/경영</td>\n",
       "      <td>서울</td>\n",
       "      <td>\"대기업 커리어 나름 대우받으며 지낼 수 있음 그러나 보수적 문화 아직 개척 안됨\"</td>\n",
       "      <td>크게 없으나 나름 MZ 세대 문화 받아들일 마음 자체는 있는 정도</td>\n",
       "      <td>아직은 너무 쓸데없는 구시대적 보고문화가 많은거 없어지지 않을것 같다는거</td>\n",
       "    </tr>\n",
       "    <tr>\n",
       "      <th>134</th>\n",
       "      <td>2022. 02</td>\n",
       "      <td>기획/경영</td>\n",
       "      <td>서울</td>\n",
       "      <td>\"밖에서 볼 때는 좋아보이지만 비효율적 보고문화로 발전이 더딘 회사\"</td>\n",
       "      <td>연차사용 비교적 자유로움. 어린이집 및 주차장 지원 좋고 야근 비교적 없음</td>\n",
       "      <td>인사제도의 불합리에 따른 통보식 보직변경으로 경력관리 어려움. 지주사 출범 후 '지...</td>\n",
       "    </tr>\n",
       "    <tr>\n",
       "      <th>135</th>\n",
       "      <td>2022. 01</td>\n",
       "      <td>기획/경영</td>\n",
       "      <td>전남</td>\n",
       "      <td>\"내부 결속력이 높은 기업임, 정체성, 아이덴티티가 굉장히 강함\"</td>\n",
       "      <td>급여가 높고 사내 어린이집 보유, 지방근무지만 정착할 수 있도록 학군 및 각종 주거...</td>\n",
       "      <td>남초회사임, 지방근무 및 순환근무를 피하기 어려워서 지방과 순환근무를 기피한다면 비추</td>\n",
       "    </tr>\n",
       "    <tr>\n",
       "      <th>136</th>\n",
       "      <td>2022. 01</td>\n",
       "      <td>기획/경영</td>\n",
       "      <td>서울</td>\n",
       "      <td>\"밖에서 보기에는 엄청 돈 잘 벌고 탄탄한 회사처럼 보이지만\\n일반적인 종업원 입장...</td>\n",
       "      <td>서울 직원의 입장에서 가장 좋은 점은 회사 위치임\\n삼성동 요지에 사무실이 있으며,...</td>\n",
       "      <td>회사의 위상에 비해 급여 수준이 매우 낮음\\n50넘은 팀장급 연봉이 1억이 안 되는...</td>\n",
       "    </tr>\n",
       "  </tbody>\n",
       "</table>\n",
       "<p>137 rows × 6 columns</p>\n",
       "</div>"
      ],
      "text/plain": [
       "         작성일자        직군  지역  \\\n",
       "0    2023. 01     생산/제조  경북   \n",
       "1    2022. 12     생산/제조  경북   \n",
       "2    2022. 12  마케팅/시장조사  서울   \n",
       "3    2022. 12     생산/제조  전남   \n",
       "4    2022. 12     생산/제조  전남   \n",
       "..        ...       ...  ..   \n",
       "132  2022. 02     생산/제조  경북   \n",
       "133  2022. 02     기획/경영  서울   \n",
       "134  2022. 02     기획/경영  서울   \n",
       "135  2022. 01     기획/경영  전남   \n",
       "136  2022. 01     기획/경영  서울   \n",
       "\n",
       "                                                   한줄평  \\\n",
       "0                   \"너무 기대치가 높지 않다면 꾸준히 다닐만 한 회사 철밥통임\"   \n",
       "1    \"지역 내 적당히 괜찮은 회사 다만 포항 광양 근무할 가능성이 높고 서울로 갈 기회...   \n",
       "2    \"13년 연속 세계에서 가장 경쟁력있는 철강회사 1위 기업.\\n최근 태풍 침수 피해...   \n",
       "3                 \"형식과 보고를 위한 업무가 90% 차지하는 비효율적인 조직문화\"   \n",
       "4                  \"초봉 좋고 숙소 깨끗함\\n하지만 거의 노인정 수준의 나이분포\"   \n",
       "..                                                 ...   \n",
       "132       \"상주근무는 그냥 돌발대기조 수준이고, 갈거면 교대근무 아니면 추천 안드립니다\"   \n",
       "133     \"대기업 커리어 나름 대우받으며 지낼 수 있음 그러나 보수적 문화 아직 개척 안됨\"   \n",
       "134             \"밖에서 볼 때는 좋아보이지만 비효율적 보고문화로 발전이 더딘 회사\"   \n",
       "135               \"내부 결속력이 높은 기업임, 정체성, 아이덴티티가 굉장히 강함\"   \n",
       "136  \"밖에서 보기에는 엄청 돈 잘 벌고 탄탄한 회사처럼 보이지만\\n일반적인 종업원 입장...   \n",
       "\n",
       "                                                  기업장점  \\\n",
       "0    부서마다 캐바캐인데 연차를 자유로이 쓸수있다몀 워라밸은 최고인 회사 4조 2교대 근...   \n",
       "1                     안정적인 사업체계 및 연봉으로 뭐하나 빠지지 않는점이 장점   \n",
       "2    사무직의 경우 여직원이 가장 일하기 편한 회사임.\\n다면평가로 직책자가 평가되므로 ...   \n",
       "3    기업 규모가 크고 안정적인 운영으로 고용안정성이 우수합니다.\\n\\n부모님 세대에게 ...   \n",
       "4    돈을 많이 준다는게 가장 좋습니다\\n그리고 광양의 경우 신축 기숙사가 지어져서 매우...   \n",
       "..                                                 ...   \n",
       "132    장점?.. 초봉에 나중에 줄 연금 미리 땡겨서 주는데 그걸로 초봉 많이 주는척 합니다   \n",
       "133               크게 없으나 나름 MZ 세대 문화 받아들일 마음 자체는 있는 정도   \n",
       "134          연차사용 비교적 자유로움. 어린이집 및 주차장 지원 좋고 야근 비교적 없음   \n",
       "135  급여가 높고 사내 어린이집 보유, 지방근무지만 정착할 수 있도록 학군 및 각종 주거...   \n",
       "136  서울 직원의 입장에서 가장 좋은 점은 회사 위치임\\n삼성동 요지에 사무실이 있으며,...   \n",
       "\n",
       "                                                  기업단점  \n",
       "0           너무 보여주기식 일처리가 많다 부서마다 이것도 캐바캐지만 위험한 부서도 있음  \n",
       "1                      상사 눈치보면서 퇴근, 다른 대기업과 비교시 연봉이 열위  \n",
       "2    개개인의 노력으로 회사의 이익이 좌지우지되지 않아, 단기간 내 고위급 경영진에 어필...  \n",
       "3    탑다운 방식의 업무지시로 불필요한 업무가 본업무보다 많습니다.\\n\\n수직적인 기업문...  \n",
       "4    진짜 돈만 보고 간다면 좋지만 폐가 썩어들어가는듯한 업무환경과 사람을 하나의 부품으...  \n",
       "..                                                 ...  \n",
       "132        그냥 다 단점이에요 회장부터 주인의식이 없으니 회사자체가 그냥 답이 안나옵니다  \n",
       "133           아직은 너무 쓸데없는 구시대적 보고문화가 많은거 없어지지 않을것 같다는거  \n",
       "134  인사제도의 불합리에 따른 통보식 보직변경으로 경력관리 어려움. 지주사 출범 후 '지...  \n",
       "135    남초회사임, 지방근무 및 순환근무를 피하기 어려워서 지방과 순환근무를 기피한다면 비추  \n",
       "136  회사의 위상에 비해 급여 수준이 매우 낮음\\n50넘은 팀장급 연봉이 1억이 안 되는...  \n",
       "\n",
       "[137 rows x 6 columns]"
      ]
     },
     "execution_count": 32,
     "metadata": {},
     "output_type": "execute_result"
    }
   ],
   "source": [
    "pd.DataFrame({'작성일자':date_list , '직군':div_list , '지역': regin_list, '한줄평':comm_list,\n",
    "              '기업장점':good_comm_list , '기업단점':bad_comm_list})"
   ]
  }
 ],
 "metadata": {
  "kernelspec": {
   "display_name": "Python 3",
   "language": "python",
   "name": "python3"
  },
  "language_info": {
   "codemirror_mode": {
    "name": "ipython",
    "version": 3
   },
   "file_extension": ".py",
   "mimetype": "text/x-python",
   "name": "python",
   "nbconvert_exporter": "python",
   "pygments_lexer": "ipython3",
   "version": "3.8.8"
  }
 },
 "nbformat": 4,
 "nbformat_minor": 5
}
