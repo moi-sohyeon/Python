{
 "cells": [
  {
   "cell_type": "code",
   "execution_count": 1,
   "id": "636f2de1",
   "metadata": {},
   "outputs": [],
   "source": [
    "import numpy as np\n",
    "import pandas as pd\n",
    "import seaborn as sns\n",
    "import matplotlib as mpl\n",
    "import matplotlib.pyplot as plt\n",
    "import plotly.express as px\n",
    "import scipy.stats as stats\n",
    "mpl.rc('font', family='Malgun Gothic')"
   ]
  },
  {
   "cell_type": "markdown",
   "id": "196b5a98",
   "metadata": {},
   "source": [
    "# 제조 공정 데이터 분석"
   ]
  },
  {
   "cell_type": "code",
   "execution_count": 5,
   "id": "d4dedf6f",
   "metadata": {},
   "outputs": [
    {
     "name": "stdout",
     "output_type": "stream",
     "text": [
      "<class 'pandas.core.frame.DataFrame'>\n",
      "RangeIndex: 2792 entries, 0 to 2791\n",
      "Data columns (total 12 columns):\n",
      " #   Column  Non-Null Count  Dtype  \n",
      "---  ------  --------------  -----  \n",
      " 0   메세지     2792 non-null   object \n",
      " 1   발생시간    2792 non-null   object \n",
      " 2   조치시간    2792 non-null   object \n",
      " 3   정지시간    2792 non-null   object \n",
      " 4   정지시간2   2792 non-null   float64\n",
      " 5   모델      1112 non-null   object \n",
      " 6   제품두께    1112 non-null   object \n",
      " 7   제품싸이즈   1112 non-null   object \n",
      " 8   작업구분    2792 non-null   object \n",
      " 9   작업자     1112 non-null   object \n",
      " 10  온도      2792 non-null   float64\n",
      " 11  습도      2792 non-null   float64\n",
      "dtypes: float64(3), object(9)\n",
      "memory usage: 261.9+ KB\n"
     ]
    }
   ],
   "source": [
    "df1 = pd.read_csv('07_Data.csv')\n",
    "df1.info()"
   ]
  },
  {
   "cell_type": "code",
   "execution_count": 6,
   "id": "88e51b61",
   "metadata": {},
   "outputs": [
    {
     "data": {
      "text/html": [
       "<div>\n",
       "<style scoped>\n",
       "    .dataframe tbody tr th:only-of-type {\n",
       "        vertical-align: middle;\n",
       "    }\n",
       "\n",
       "    .dataframe tbody tr th {\n",
       "        vertical-align: top;\n",
       "    }\n",
       "\n",
       "    .dataframe thead th {\n",
       "        text-align: right;\n",
       "    }\n",
       "</style>\n",
       "<table border=\"1\" class=\"dataframe\">\n",
       "  <thead>\n",
       "    <tr style=\"text-align: right;\">\n",
       "      <th></th>\n",
       "      <th>메세지</th>\n",
       "      <th>발생시간</th>\n",
       "      <th>조치시간</th>\n",
       "      <th>정지시간</th>\n",
       "      <th>정지시간2</th>\n",
       "      <th>모델</th>\n",
       "      <th>제품두께</th>\n",
       "      <th>제품싸이즈</th>\n",
       "      <th>작업구분</th>\n",
       "      <th>작업자</th>\n",
       "      <th>온도</th>\n",
       "      <th>습도</th>\n",
       "    </tr>\n",
       "  </thead>\n",
       "  <tbody>\n",
       "    <tr>\n",
       "      <th>0</th>\n",
       "      <td>e-CIM 관련에러</td>\n",
       "      <td>2015-06-17T07:32:42</td>\n",
       "      <td>2015-06-17T07:32:54</td>\n",
       "      <td>0시 00분 12초</td>\n",
       "      <td>11.970</td>\n",
       "      <td>78FBGA 7.5x11 CGHB08154 REV.1</td>\n",
       "      <td>0.25</td>\n",
       "      <td>415-515</td>\n",
       "      <td>야간</td>\n",
       "      <td>이은미</td>\n",
       "      <td>22.5</td>\n",
       "      <td>47.3</td>\n",
       "    </tr>\n",
       "    <tr>\n",
       "      <th>1</th>\n",
       "      <td>Door Open</td>\n",
       "      <td>2015-06-17T07:32:42</td>\n",
       "      <td>2015-06-17T07:32:54</td>\n",
       "      <td>0시 00분 12초</td>\n",
       "      <td>11.970</td>\n",
       "      <td>78FBGA 7.5x11 CGHB08154 REV.1</td>\n",
       "      <td>0.25</td>\n",
       "      <td>415-515</td>\n",
       "      <td>야간</td>\n",
       "      <td>이은미</td>\n",
       "      <td>22.5</td>\n",
       "      <td>47.3</td>\n",
       "    </tr>\n",
       "    <tr>\n",
       "      <th>2</th>\n",
       "      <td>롯트 종료</td>\n",
       "      <td>2015-06-17T07:33:00</td>\n",
       "      <td>2015-06-17T07:33:05</td>\n",
       "      <td>0시 00분 04초</td>\n",
       "      <td>4.093</td>\n",
       "      <td>78FBGA 7.5x11 CGHB08154 REV.2</td>\n",
       "      <td>1.25</td>\n",
       "      <td>415-516</td>\n",
       "      <td>야간</td>\n",
       "      <td>이은미</td>\n",
       "      <td>22.5</td>\n",
       "      <td>47.3</td>\n",
       "    </tr>\n",
       "    <tr>\n",
       "      <th>3</th>\n",
       "      <td>Door Open</td>\n",
       "      <td>2015-06-17T07:36:25</td>\n",
       "      <td>2015-06-17T07:36:29</td>\n",
       "      <td>0시 00분 04초</td>\n",
       "      <td>4.093</td>\n",
       "      <td>78FBGA 7.5x11 CGHB08154 REV.3</td>\n",
       "      <td>2.25</td>\n",
       "      <td>415-517</td>\n",
       "      <td>야간</td>\n",
       "      <td>이은미</td>\n",
       "      <td>22.5</td>\n",
       "      <td>47.3</td>\n",
       "    </tr>\n",
       "    <tr>\n",
       "      <th>4</th>\n",
       "      <td>Door Open</td>\n",
       "      <td>2015-06-17T07:37:54</td>\n",
       "      <td>2015-06-17T07:41:58</td>\n",
       "      <td>0시 04분 04초</td>\n",
       "      <td>244.350</td>\n",
       "      <td>78FBGA 7.5x11 CGHB08154 REV.4</td>\n",
       "      <td>3.25</td>\n",
       "      <td>415-518</td>\n",
       "      <td>야간</td>\n",
       "      <td>이은미</td>\n",
       "      <td>22.5</td>\n",
       "      <td>47.3</td>\n",
       "    </tr>\n",
       "    <tr>\n",
       "      <th>...</th>\n",
       "      <td>...</td>\n",
       "      <td>...</td>\n",
       "      <td>...</td>\n",
       "      <td>...</td>\n",
       "      <td>...</td>\n",
       "      <td>...</td>\n",
       "      <td>...</td>\n",
       "      <td>...</td>\n",
       "      <td>...</td>\n",
       "      <td>...</td>\n",
       "      <td>...</td>\n",
       "      <td>...</td>\n",
       "    </tr>\n",
       "    <tr>\n",
       "      <th>2787</th>\n",
       "      <td>메가진 Full</td>\n",
       "      <td>2015-06-24T12:24:04</td>\n",
       "      <td>2015-06-24T12:28:17</td>\n",
       "      <td>0시 04분 13초</td>\n",
       "      <td>252.560</td>\n",
       "      <td>NaN</td>\n",
       "      <td>NaN</td>\n",
       "      <td>NaN</td>\n",
       "      <td>주간</td>\n",
       "      <td>NaN</td>\n",
       "      <td>22.5</td>\n",
       "      <td>47.3</td>\n",
       "    </tr>\n",
       "    <tr>\n",
       "      <th>2788</th>\n",
       "      <td>Door Open</td>\n",
       "      <td>2015-06-24T12:54:42</td>\n",
       "      <td>2015-06-24T12:55:08</td>\n",
       "      <td>0시 00분 26초</td>\n",
       "      <td>25.956</td>\n",
       "      <td>NaN</td>\n",
       "      <td>NaN</td>\n",
       "      <td>NaN</td>\n",
       "      <td>주간</td>\n",
       "      <td>NaN</td>\n",
       "      <td>22.5</td>\n",
       "      <td>47.3</td>\n",
       "    </tr>\n",
       "    <tr>\n",
       "      <th>2789</th>\n",
       "      <td>메가진 Full</td>\n",
       "      <td>2015-06-24T12:55:08</td>\n",
       "      <td>2015-06-24T12:55:16</td>\n",
       "      <td>0시 00분 08초</td>\n",
       "      <td>8.063</td>\n",
       "      <td>NaN</td>\n",
       "      <td>NaN</td>\n",
       "      <td>NaN</td>\n",
       "      <td>주간</td>\n",
       "      <td>NaN</td>\n",
       "      <td>22.5</td>\n",
       "      <td>47.3</td>\n",
       "    </tr>\n",
       "    <tr>\n",
       "      <th>2790</th>\n",
       "      <td>롯트 종료</td>\n",
       "      <td>2015-06-24T12:55:16</td>\n",
       "      <td>2015-06-24T12:55:20</td>\n",
       "      <td>0시 00분 04초</td>\n",
       "      <td>4.281</td>\n",
       "      <td>NaN</td>\n",
       "      <td>NaN</td>\n",
       "      <td>NaN</td>\n",
       "      <td>주간</td>\n",
       "      <td>NaN</td>\n",
       "      <td>22.5</td>\n",
       "      <td>47.3</td>\n",
       "    </tr>\n",
       "    <tr>\n",
       "      <th>2791</th>\n",
       "      <td>Door Open</td>\n",
       "      <td>2015-06-24T13:05:46</td>\n",
       "      <td>2015-06-24T13:05:50</td>\n",
       "      <td>0시 00분 04초</td>\n",
       "      <td>4.078</td>\n",
       "      <td>NaN</td>\n",
       "      <td>NaN</td>\n",
       "      <td>NaN</td>\n",
       "      <td>주간</td>\n",
       "      <td>NaN</td>\n",
       "      <td>22.5</td>\n",
       "      <td>47.3</td>\n",
       "    </tr>\n",
       "  </tbody>\n",
       "</table>\n",
       "<p>2792 rows × 12 columns</p>\n",
       "</div>"
      ],
      "text/plain": [
       "             메세지                 발생시간                 조치시간        정지시간  \\\n",
       "0     e-CIM 관련에러  2015-06-17T07:32:42  2015-06-17T07:32:54  0시 00분 12초   \n",
       "1      Door Open  2015-06-17T07:32:42  2015-06-17T07:32:54  0시 00분 12초   \n",
       "2          롯트 종료  2015-06-17T07:33:00  2015-06-17T07:33:05  0시 00분 04초   \n",
       "3      Door Open  2015-06-17T07:36:25  2015-06-17T07:36:29  0시 00분 04초   \n",
       "4      Door Open  2015-06-17T07:37:54  2015-06-17T07:41:58  0시 04분 04초   \n",
       "...          ...                  ...                  ...         ...   \n",
       "2787    메가진 Full  2015-06-24T12:24:04  2015-06-24T12:28:17  0시 04분 13초   \n",
       "2788   Door Open  2015-06-24T12:54:42  2015-06-24T12:55:08  0시 00분 26초   \n",
       "2789    메가진 Full  2015-06-24T12:55:08  2015-06-24T12:55:16  0시 00분 08초   \n",
       "2790       롯트 종료  2015-06-24T12:55:16  2015-06-24T12:55:20  0시 00분 04초   \n",
       "2791   Door Open  2015-06-24T13:05:46  2015-06-24T13:05:50  0시 00분 04초   \n",
       "\n",
       "        정지시간2                             모델  제품두께    제품싸이즈 작업구분  작업자    온도  \\\n",
       "0      11.970  78FBGA 7.5x11 CGHB08154 REV.1  0.25  415-515   야간  이은미  22.5   \n",
       "1      11.970  78FBGA 7.5x11 CGHB08154 REV.1  0.25  415-515   야간  이은미  22.5   \n",
       "2       4.093  78FBGA 7.5x11 CGHB08154 REV.2  1.25  415-516   야간  이은미  22.5   \n",
       "3       4.093  78FBGA 7.5x11 CGHB08154 REV.3  2.25  415-517   야간  이은미  22.5   \n",
       "4     244.350  78FBGA 7.5x11 CGHB08154 REV.4  3.25  415-518   야간  이은미  22.5   \n",
       "...       ...                            ...   ...      ...  ...  ...   ...   \n",
       "2787  252.560                            NaN   NaN      NaN   주간  NaN  22.5   \n",
       "2788   25.956                            NaN   NaN      NaN   주간  NaN  22.5   \n",
       "2789    8.063                            NaN   NaN      NaN   주간  NaN  22.5   \n",
       "2790    4.281                            NaN   NaN      NaN   주간  NaN  22.5   \n",
       "2791    4.078                            NaN   NaN      NaN   주간  NaN  22.5   \n",
       "\n",
       "        습도  \n",
       "0     47.3  \n",
       "1     47.3  \n",
       "2     47.3  \n",
       "3     47.3  \n",
       "4     47.3  \n",
       "...    ...  \n",
       "2787  47.3  \n",
       "2788  47.3  \n",
       "2789  47.3  \n",
       "2790  47.3  \n",
       "2791  47.3  \n",
       "\n",
       "[2792 rows x 12 columns]"
      ]
     },
     "execution_count": 6,
     "metadata": {},
     "output_type": "execute_result"
    }
   ],
   "source": [
    "df1"
   ]
  },
  {
   "cell_type": "code",
   "execution_count": 9,
   "id": "73e63278",
   "metadata": {},
   "outputs": [
    {
     "data": {
      "text/plain": [
       "array(['0.25', '1.25', '2.25', '3.25', '4.25', '5.25', '6.25', '7.25',\n",
       "       '8.25', '9.25', '10.25', '11.25', '12.25', '13.25', '14.25',\n",
       "       '15.25', '16.25', nan, '0.13', '1.13', '2.13', '3.13', '4.13',\n",
       "       '5.13', '6.13', '7.13', '8.13', '9.13', '10.13', '11.13', '12.13',\n",
       "       '0.15', '0.17', '0.32', '415-515', '417-518', '0.21', '0.38',\n",
       "       '0.18', '0.26', '0.56', '0.36', '0.12', '0.1', '0.255', '0.3'],\n",
       "      dtype=object)"
      ]
     },
     "execution_count": 9,
     "metadata": {},
     "output_type": "execute_result"
    }
   ],
   "source": [
    "df1['제품두께'].unique()"
   ]
  },
  {
   "cell_type": "code",
   "execution_count": 12,
   "id": "006c80a1",
   "metadata": {},
   "outputs": [],
   "source": [
    "df1['제품두께(float)'] = df1['제품두께'].replace({'415-515':4.15, \n",
    "                                         '417-518':4.17}).astype(float)"
   ]
  },
  {
   "cell_type": "code",
   "execution_count": 18,
   "id": "f63ccbed",
   "metadata": {},
   "outputs": [
    {
     "data": {
      "text/plain": [
       "<AxesSubplot:xlabel='정지시간2', ylabel='제품두께(float)'>"
      ]
     },
     "execution_count": 18,
     "metadata": {},
     "output_type": "execute_result"
    },
    {
     "data": {
      "image/png": "[encoded data removed]",
      "text/plain": [
       "<Figure size 640x480 with 1 Axes>"
      ]
     },
     "metadata": {},
     "output_type": "display_data"
    }
   ],
   "source": [
    "# 연속형 X - 연속형 Y\n",
    "# 정지시간2 (오류가 조치될 때까지 걸린 시간) - '제품 두께(float)' 데이터 간 상관성 확인\n",
    "plt.ylim([0, 0.5])\n",
    "plt.xlim([0, 100])\n",
    "sns.scatterplot(data=df1, x='정지시간2', y='제품두께(float)')"
   ]
  },
  {
   "cell_type": "markdown",
   "id": "190b7c09",
   "metadata": {},
   "source": [
    "> **정규성 검정시**  \n",
    "> 두 데이터 모두 정규 분포를 따른다면 **Pearson**  \n",
    "> 두 데이터 중 하나라도 정규분포를 따르지 않는다면 **Speaeman**"
   ]
  },
  {
   "cell_type": "code",
   "execution_count": 25,
   "id": "6c606445",
   "metadata": {},
   "outputs": [
    {
     "data": {
      "text/plain": [
       "NormaltestResult(statistic=5927.964101196142, pvalue=0.0)"
      ]
     },
     "execution_count": 25,
     "metadata": {},
     "output_type": "execute_result"
    }
   ],
   "source": [
    "# 연속형 데이터의 정규성 확인\n",
    "stats.normaltest(df1['정지시간2'])"
   ]
  },
  {
   "cell_type": "code",
   "execution_count": 20,
   "id": "2adc8576",
   "metadata": {},
   "outputs": [
    {
     "data": {
      "text/plain": [
       "NormaltestResult(statistic=nan, pvalue=nan)"
      ]
     },
     "execution_count": 20,
     "metadata": {},
     "output_type": "execute_result"
    }
   ],
   "source": [
    "stats.normaltest(df1['제품두께(float)'])"
   ]
  },
  {
   "cell_type": "code",
   "execution_count": 21,
   "id": "b514e0f9",
   "metadata": {},
   "outputs": [],
   "source": [
    "# 결측값 제거 (dropna)\n",
    "df2 = df1.dropna()"
   ]
  },
  {
   "cell_type": "code",
   "execution_count": 22,
   "id": "a1a020d3",
   "metadata": {},
   "outputs": [
    {
     "name": "stdout",
     "output_type": "stream",
     "text": [
      "NormaltestResult(statistic=2637.000317993134, pvalue=0.0)\n",
      "NormaltestResult(statistic=1178.6378565412642, pvalue=1.1535631411020227e-256)\n"
     ]
    }
   ],
   "source": [
    "print(stats.normaltest(df2['정지시간2']))\n",
    "print(stats.normaltest(df2['제품두께(float)']))"
   ]
  },
  {
   "cell_type": "code",
   "execution_count": 24,
   "id": "46503984",
   "metadata": {},
   "outputs": [
    {
     "data": {
      "text/plain": [
       "SpearmanrResult(correlation=-0.057028965857508426, pvalue=0.05728442702442981)"
      ]
     },
     "execution_count": 24,
     "metadata": {},
     "output_type": "execute_result"
    }
   ],
   "source": [
    "# 제품 두께에 따른 오류 조치까지 걸린 시간이 서로 상관성이 있는가?\n",
    "# 귀무 가설 : 제품 두께에 따른 오류 조치까지 걸린 시간이 서로 상관성이 없다.\n",
    "# 대립 가설 : 제품 두께에 따른 오류 조치까지 걸린 시간이 서로 상관성이 있다.\n",
    "stats.spearmanr(df2['정지시간2'], df2['제품두께(float)'])\n",
    "# P-value > 0.05 | 귀무가설 참 | 두 연속형 자료는 서로 상관성이 없다."
   ]
  }
 ],
 "metadata": {
  "kernelspec": {
   "display_name": "Python 3",
   "language": "python",
   "name": "python3"
  },
  "language_info": {
   "codemirror_mode": {
    "name": "ipython",
    "version": 3
   },
   "file_extension": ".py",
   "mimetype": "text/x-python",
   "name": "python",
   "nbconvert_exporter": "python",
   "pygments_lexer": "ipython3",
   "version": "3.8.8"
  }
 },
 "nbformat": 4,
 "nbformat_minor": 5
}
