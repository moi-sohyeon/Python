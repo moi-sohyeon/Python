{
 "cells": [
  {
   "cell_type": "code",
   "execution_count": 1,
   "id": "26d63c26",
   "metadata": {},
   "outputs": [],
   "source": [
    "import numpy as np\n",
    "import pandas as pd\n",
    "import seaborn as sns\n",
    "import matplotlib as mpl\n",
    "import matplotlib.pyplot as plt\n",
    "import plotly.express as px\n",
    "import scipy.stats as stats\n",
    "\n",
    "mpl.rc('font', family='Malgun Gothic')"
   ]
  },
  {
   "cell_type": "markdown",
   "id": "93a6ae7d",
   "metadata": {},
   "source": [
    "# 지도학습"
   ]
  },
  {
   "cell_type": "code",
   "execution_count": 2,
   "id": "4ed2ecb1",
   "metadata": {},
   "outputs": [],
   "source": [
    "df1 = pd.read_csv('01_Data.csv')"
   ]
  },
  {
   "cell_type": "code",
   "execution_count": 3,
   "id": "41b511f6",
   "metadata": {},
   "outputs": [],
   "source": [
    "# 1. 데이터 전처리 (-결측치-)\n",
    "df1_clean = df1.dropna()"
   ]
  },
  {
   "cell_type": "code",
   "execution_count": 4,
   "id": "7fe11e15",
   "metadata": {},
   "outputs": [
    {
     "data": {
      "text/plain": [
       "계약확정     40104\n",
       "해약확정       498\n",
       "기간만료        33\n",
       "해약진행중       12\n",
       "Name: State, dtype: int64"
      ]
     },
     "execution_count": 4,
     "metadata": {},
     "output_type": "execute_result"
    }
   ],
   "source": [
    "df1_clean['State'].value_counts()"
   ]
  },
  {
   "cell_type": "code",
   "execution_count": 5,
   "id": "f3b7caf9",
   "metadata": {},
   "outputs": [],
   "source": [
    "# 2. 목표변수와 설명변수를 선언\n",
    "Y = df1_clean['State'].replace({'계약확정':'정상', '해약확정':'해약', \n",
    "                                '기간만료':'정상', '해약진행중':'해약'})\n",
    "X = df1_clean[['Amount_Month', 'Term', 'Age', 'Credit_Rank']]"
   ]
  },
  {
   "cell_type": "code",
   "execution_count": 6,
   "id": "e0698b2d",
   "metadata": {},
   "outputs": [],
   "source": [
    "# 3. 학습데이터와 검증데이터 분할\n",
    "from sklearn.model_selection import train_test_split"
   ]
  },
  {
   "cell_type": "code",
   "execution_count": 7,
   "id": "9941f117",
   "metadata": {},
   "outputs": [],
   "source": [
    "X_train, X_test, Y_train, Y_test = train_test_split(X, Y)"
   ]
  },
  {
   "cell_type": "code",
   "execution_count": 8,
   "id": "2a26d475",
   "metadata": {},
   "outputs": [],
   "source": [
    "# 4. 학습\n",
    "from sklearn.tree import DecisionTreeClassifier"
   ]
  },
  {
   "cell_type": "code",
   "execution_count": 9,
   "id": "d80aa0a8",
   "metadata": {},
   "outputs": [
    {
     "data": {
      "text/plain": [
       "DecisionTreeClassifier()"
      ]
     },
     "execution_count": 9,
     "metadata": {},
     "output_type": "execute_result"
    }
   ],
   "source": [
    "model = DecisionTreeClassifier()\n",
    "model.fit(X_train, Y_train)"
   ]
  },
  {
   "cell_type": "code",
   "execution_count": 10,
   "id": "043158f1",
   "metadata": {},
   "outputs": [],
   "source": [
    "# 5. 평가 (정확도)\n",
    "from sklearn.metrics import accuracy_score"
   ]
  },
  {
   "cell_type": "code",
   "execution_count": 11,
   "id": "5d42ab66",
   "metadata": {},
   "outputs": [],
   "source": [
    "Y_train_pred = model.predict(X_train)\n",
    "Y_test_pred = model.predict(X_test)"
   ]
  },
  {
   "cell_type": "code",
   "execution_count": 12,
   "id": "fcda266c",
   "metadata": {},
   "outputs": [
    {
     "data": {
      "text/plain": [
       "0.9888797769394785"
      ]
     },
     "execution_count": 12,
     "metadata": {},
     "output_type": "execute_result"
    }
   ],
   "source": [
    "accuracy_score(Y_train, Y_train_pred)"
   ]
  },
  {
   "cell_type": "code",
   "execution_count": 13,
   "id": "ba5d3401",
   "metadata": {},
   "outputs": [
    {
     "data": {
      "text/plain": [
       "0.9847470970281441"
      ]
     },
     "execution_count": 13,
     "metadata": {},
     "output_type": "execute_result"
    }
   ],
   "source": [
    "accuracy_score(Y_test, Y_test_pred)"
   ]
  },
  {
   "cell_type": "code",
   "execution_count": 14,
   "id": "9644c021",
   "metadata": {},
   "outputs": [
    {
     "name": "stdout",
     "output_type": "stream",
     "text": [
      "월렌탈비용을 입력 : 90000\n",
      "계약 기간 (월단위)를 입력 : 12\n",
      "고객연령을 입력 : 24\n",
      "신용등급을 입력 : 1\n"
     ]
    }
   ],
   "source": [
    "# 6. 새로운 데이터 입력\n",
    "x1 = input('월렌탈비용을 입력 : ')\n",
    "x2 = input('계약 기간 (월단위)를 입력 : ')\n",
    "x3 = input('고객연령을 입력 : ')\n",
    "x4 = input('신용등급을 입력 : ')\n",
    "new_Data = pd.DataFrame([[x1, x2, x3, x4]])"
   ]
  },
  {
   "cell_type": "code",
   "execution_count": 16,
   "id": "cf4ce852",
   "metadata": {},
   "outputs": [
    {
     "data": {
      "text/plain": [
       "array(['정상'], dtype=object)"
      ]
     },
     "execution_count": 16,
     "metadata": {},
     "output_type": "execute_result"
    }
   ],
   "source": [
    "model.predict(new_Data)"
   ]
  }
 ],
 "metadata": {
  "kernelspec": {
   "display_name": "Python 3",
   "language": "python",
   "name": "python3"
  },
  "language_info": {
   "codemirror_mode": {
    "name": "ipython",
    "version": 3
   },
   "file_extension": ".py",
   "mimetype": "text/x-python",
   "name": "python",
   "nbconvert_exporter": "python",
   "pygments_lexer": "ipython3",
   "version": "3.8.8"
  }
 },
 "nbformat": 4,
 "nbformat_minor": 5
}
