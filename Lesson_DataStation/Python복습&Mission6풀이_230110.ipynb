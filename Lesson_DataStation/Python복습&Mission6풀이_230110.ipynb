{
 "cells": [
  {
   "cell_type": "markdown",
   "id": "d2385fae",
   "metadata": {},
   "source": [
    "# Python 복습\n",
    "\n",
    "- 변수 : 데이터를 들고다니는 공간  \n",
    "- 변수를 선언 : 등호 기호(=)를 기준으로 오른쪽의 값을 왼쪽의 변수명으로 사용  \n",
    "- 파이썬 데이터 타입 :\n",
    "    - 연속형 : int(정수형) / float(실수형)\n",
    "    - 범주형 : str(문자형) / object(범주형) | 따옴표, 쌍따옴표\n",
    "    - 논리형 : bool(True / False)    \n",
    "- 파이썬 자료 구조 :\n",
    "    - List [100, 200, 300] : 순서 존재 / 중복 허용 / 추가, 삭제, 변경 가능\n",
    "    - Tuple (100, 200, 300): 순서 존재 / 중복 허용 / 추가, 삭제, 변경 불가능\n",
    "    - Set {100, 200, 300} : 추가, 삭제, 변경 가능 / 순서 없음 / 중복 없음\n",
    "    - Dictionary {key : value} : 키-값 매칭"
   ]
  },
  {
   "cell_type": "code",
   "execution_count": 1,
   "id": "de77ddbf",
   "metadata": {},
   "outputs": [
    {
     "data": {
      "text/plain": [
       "500"
      ]
     },
     "execution_count": 1,
     "metadata": {},
     "output_type": "execute_result"
    }
   ],
   "source": [
    "num1 = 200\n",
    "num2 = 300\n",
    "num1 + num2"
   ]
  },
  {
   "cell_type": "code",
   "execution_count": 2,
   "id": "ab0b763f",
   "metadata": {},
   "outputs": [
    {
     "data": {
      "text/plain": [
       "'파이썬 데이터 분석'"
      ]
     },
     "execution_count": 2,
     "metadata": {},
     "output_type": "execute_result"
    }
   ],
   "source": [
    "data1 = \"파이썬 데이터 분석\"\n",
    "data1"
   ]
  },
  {
   "cell_type": "code",
   "execution_count": 3,
   "id": "fd4181e6",
   "metadata": {},
   "outputs": [],
   "source": [
    "t1 = (100, 200, 300)\n",
    "a1, a2, a3 = t1      # Unpacking"
   ]
  },
  {
   "cell_type": "code",
   "execution_count": 4,
   "id": "dd6df227",
   "metadata": {},
   "outputs": [
    {
     "data": {
      "text/plain": [
       "{20, 40, 100, 500}"
      ]
     },
     "execution_count": 4,
     "metadata": {},
     "output_type": "execute_result"
    }
   ],
   "source": [
    "{100, 100, 100, 40, 20, 500}"
   ]
  },
  {
   "cell_type": "markdown",
   "id": "40228d9c",
   "metadata": {},
   "source": [
    "- 파이썬 구문 (Statement)\n",
    "    - 조건문 (if / esif / else)\n",
    "        - 특정 조건에 따라 종속문장이 수행\n",
    "    - 반복문 (for / while)\n",
    "        - 특정 범위에 따라 종속문장이 반복 수행\n",
    "    - 예외처리 (try / except / finally)\n",
    "        - 오류가 발생 시 예외처리\n",
    "    - 들여쓰기\n",
    "        - Tab key 또는 Space bar를 통해 문장의 종속관계를 표현"
   ]
  },
  {
   "cell_type": "code",
   "execution_count": 5,
   "id": "483ababa",
   "metadata": {},
   "outputs": [
    {
     "name": "stdout",
     "output_type": "stream",
     "text": [
      "과일 종류를 입력 : (사과 / 포도 / 배)사과\n",
      "링고\n",
      "F\n"
     ]
    }
   ],
   "source": [
    "try:  # 기본적으로 코드가 진행되는 파트\n",
    "    data1 = input('과일 종류를 입력 : (사과 / 포도 / 배)')\n",
    "    if data1 == '사과':\n",
    "        print('링고')\n",
    "    elif data1 == '포도':\n",
    "        print(100)\n",
    "    else:\n",
    "        print('Done')\n",
    "except:  # 위 try 구문에서 오류가 발생시 아래 종속문장을 시행\n",
    "    print('Error')\n",
    "finally:  # 위 모든 코드가 실행된 뒤, 마지막으로 수행되는 코드\n",
    "    print('F')"
   ]
  },
  {
   "cell_type": "markdown",
   "id": "32708cdf",
   "metadata": {},
   "source": [
    "- 파이썬 라이브러리 : 특정 목적을 달성하기 위해, 모아놓은 함수들의 집합"
   ]
  },
  {
   "cell_type": "code",
   "execution_count": 6,
   "id": "568cf29c",
   "metadata": {},
   "outputs": [],
   "source": [
    "# 분석에 필요한 라이브러리를 호출\n",
    "import pandas as pd  # 정형데이터를 전처리 / 통계 연산 수행\n",
    "import seaborn as sns  # 통계적 시각화 연산\n",
    "import matplotlib as mpl  # 시각화 옵션 (외부 옵션)\n",
    "import matplotlib.pyplot as plt  # 시각화 옵션 (내부 옵션)\n",
    "import plotly.express as px  # 동적 그래프 시각화\n",
    "import scipy.stats as stats  # 통계적 가설 검정 수행\n",
    "\n",
    "mpl.rc('font', family='Malgun Gothic')  # 한글 글꼴 설정 (mac - AppleGothic)"
   ]
  },
  {
   "cell_type": "code",
   "execution_count": 7,
   "id": "ab0a6838",
   "metadata": {},
   "outputs": [
    {
     "data": {
      "text/html": [
       "<div>\n",
       "<style scoped>\n",
       "    .dataframe tbody tr th:only-of-type {\n",
       "        vertical-align: middle;\n",
       "    }\n",
       "\n",
       "    .dataframe tbody tr th {\n",
       "        vertical-align: top;\n",
       "    }\n",
       "\n",
       "    .dataframe thead th {\n",
       "        text-align: right;\n",
       "    }\n",
       "</style>\n",
       "<table border=\"1\" class=\"dataframe\">\n",
       "  <thead>\n",
       "    <tr style=\"text-align: right;\">\n",
       "      <th></th>\n",
       "      <th>메세지</th>\n",
       "      <th>발생시간</th>\n",
       "      <th>조치시간</th>\n",
       "      <th>정지시간</th>\n",
       "      <th>정지시간2</th>\n",
       "      <th>모델</th>\n",
       "      <th>제품두께</th>\n",
       "      <th>제품싸이즈</th>\n",
       "      <th>작업구분</th>\n",
       "      <th>작업자</th>\n",
       "      <th>온도</th>\n",
       "      <th>습도</th>\n",
       "    </tr>\n",
       "  </thead>\n",
       "  <tbody>\n",
       "    <tr>\n",
       "      <th>0</th>\n",
       "      <td>e-CIM 관련에러</td>\n",
       "      <td>2015-06-17T07:32:42</td>\n",
       "      <td>2015-06-17T07:32:54</td>\n",
       "      <td>0시 00분 12초</td>\n",
       "      <td>11.970</td>\n",
       "      <td>78FBGA 7.5x11 CGHB08154 REV.1</td>\n",
       "      <td>0.25</td>\n",
       "      <td>415-515</td>\n",
       "      <td>야간</td>\n",
       "      <td>이은미</td>\n",
       "      <td>22.5</td>\n",
       "      <td>47.3</td>\n",
       "    </tr>\n",
       "    <tr>\n",
       "      <th>1</th>\n",
       "      <td>Door Open</td>\n",
       "      <td>2015-06-17T07:32:42</td>\n",
       "      <td>2015-06-17T07:32:54</td>\n",
       "      <td>0시 00분 12초</td>\n",
       "      <td>11.970</td>\n",
       "      <td>78FBGA 7.5x11 CGHB08154 REV.1</td>\n",
       "      <td>0.25</td>\n",
       "      <td>415-515</td>\n",
       "      <td>야간</td>\n",
       "      <td>이은미</td>\n",
       "      <td>22.5</td>\n",
       "      <td>47.3</td>\n",
       "    </tr>\n",
       "    <tr>\n",
       "      <th>2</th>\n",
       "      <td>롯트 종료</td>\n",
       "      <td>2015-06-17T07:33:00</td>\n",
       "      <td>2015-06-17T07:33:05</td>\n",
       "      <td>0시 00분 04초</td>\n",
       "      <td>4.093</td>\n",
       "      <td>78FBGA 7.5x11 CGHB08154 REV.2</td>\n",
       "      <td>1.25</td>\n",
       "      <td>415-516</td>\n",
       "      <td>야간</td>\n",
       "      <td>이은미</td>\n",
       "      <td>22.5</td>\n",
       "      <td>47.3</td>\n",
       "    </tr>\n",
       "    <tr>\n",
       "      <th>3</th>\n",
       "      <td>Door Open</td>\n",
       "      <td>2015-06-17T07:36:25</td>\n",
       "      <td>2015-06-17T07:36:29</td>\n",
       "      <td>0시 00분 04초</td>\n",
       "      <td>4.093</td>\n",
       "      <td>78FBGA 7.5x11 CGHB08154 REV.3</td>\n",
       "      <td>2.25</td>\n",
       "      <td>415-517</td>\n",
       "      <td>야간</td>\n",
       "      <td>이은미</td>\n",
       "      <td>22.5</td>\n",
       "      <td>47.3</td>\n",
       "    </tr>\n",
       "    <tr>\n",
       "      <th>4</th>\n",
       "      <td>Door Open</td>\n",
       "      <td>2015-06-17T07:37:54</td>\n",
       "      <td>2015-06-17T07:41:58</td>\n",
       "      <td>0시 04분 04초</td>\n",
       "      <td>244.350</td>\n",
       "      <td>78FBGA 7.5x11 CGHB08154 REV.4</td>\n",
       "      <td>3.25</td>\n",
       "      <td>415-518</td>\n",
       "      <td>야간</td>\n",
       "      <td>이은미</td>\n",
       "      <td>22.5</td>\n",
       "      <td>47.3</td>\n",
       "    </tr>\n",
       "    <tr>\n",
       "      <th>...</th>\n",
       "      <td>...</td>\n",
       "      <td>...</td>\n",
       "      <td>...</td>\n",
       "      <td>...</td>\n",
       "      <td>...</td>\n",
       "      <td>...</td>\n",
       "      <td>...</td>\n",
       "      <td>...</td>\n",
       "      <td>...</td>\n",
       "      <td>...</td>\n",
       "      <td>...</td>\n",
       "      <td>...</td>\n",
       "    </tr>\n",
       "    <tr>\n",
       "      <th>2787</th>\n",
       "      <td>메가진 Full</td>\n",
       "      <td>2015-06-24T12:24:04</td>\n",
       "      <td>2015-06-24T12:28:17</td>\n",
       "      <td>0시 04분 13초</td>\n",
       "      <td>252.560</td>\n",
       "      <td>NaN</td>\n",
       "      <td>NaN</td>\n",
       "      <td>NaN</td>\n",
       "      <td>주간</td>\n",
       "      <td>NaN</td>\n",
       "      <td>22.5</td>\n",
       "      <td>47.3</td>\n",
       "    </tr>\n",
       "    <tr>\n",
       "      <th>2788</th>\n",
       "      <td>Door Open</td>\n",
       "      <td>2015-06-24T12:54:42</td>\n",
       "      <td>2015-06-24T12:55:08</td>\n",
       "      <td>0시 00분 26초</td>\n",
       "      <td>25.956</td>\n",
       "      <td>NaN</td>\n",
       "      <td>NaN</td>\n",
       "      <td>NaN</td>\n",
       "      <td>주간</td>\n",
       "      <td>NaN</td>\n",
       "      <td>22.5</td>\n",
       "      <td>47.3</td>\n",
       "    </tr>\n",
       "    <tr>\n",
       "      <th>2789</th>\n",
       "      <td>메가진 Full</td>\n",
       "      <td>2015-06-24T12:55:08</td>\n",
       "      <td>2015-06-24T12:55:16</td>\n",
       "      <td>0시 00분 08초</td>\n",
       "      <td>8.063</td>\n",
       "      <td>NaN</td>\n",
       "      <td>NaN</td>\n",
       "      <td>NaN</td>\n",
       "      <td>주간</td>\n",
       "      <td>NaN</td>\n",
       "      <td>22.5</td>\n",
       "      <td>47.3</td>\n",
       "    </tr>\n",
       "    <tr>\n",
       "      <th>2790</th>\n",
       "      <td>롯트 종료</td>\n",
       "      <td>2015-06-24T12:55:16</td>\n",
       "      <td>2015-06-24T12:55:20</td>\n",
       "      <td>0시 00분 04초</td>\n",
       "      <td>4.281</td>\n",
       "      <td>NaN</td>\n",
       "      <td>NaN</td>\n",
       "      <td>NaN</td>\n",
       "      <td>주간</td>\n",
       "      <td>NaN</td>\n",
       "      <td>22.5</td>\n",
       "      <td>47.3</td>\n",
       "    </tr>\n",
       "    <tr>\n",
       "      <th>2791</th>\n",
       "      <td>Door Open</td>\n",
       "      <td>2015-06-24T13:05:46</td>\n",
       "      <td>2015-06-24T13:05:50</td>\n",
       "      <td>0시 00분 04초</td>\n",
       "      <td>4.078</td>\n",
       "      <td>NaN</td>\n",
       "      <td>NaN</td>\n",
       "      <td>NaN</td>\n",
       "      <td>주간</td>\n",
       "      <td>NaN</td>\n",
       "      <td>22.5</td>\n",
       "      <td>47.3</td>\n",
       "    </tr>\n",
       "  </tbody>\n",
       "</table>\n",
       "<p>2792 rows × 12 columns</p>\n",
       "</div>"
      ],
      "text/plain": [
       "             메세지                 발생시간                 조치시간        정지시간  \\\n",
       "0     e-CIM 관련에러  2015-06-17T07:32:42  2015-06-17T07:32:54  0시 00분 12초   \n",
       "1      Door Open  2015-06-17T07:32:42  2015-06-17T07:32:54  0시 00분 12초   \n",
       "2          롯트 종료  2015-06-17T07:33:00  2015-06-17T07:33:05  0시 00분 04초   \n",
       "3      Door Open  2015-06-17T07:36:25  2015-06-17T07:36:29  0시 00분 04초   \n",
       "4      Door Open  2015-06-17T07:37:54  2015-06-17T07:41:58  0시 04분 04초   \n",
       "...          ...                  ...                  ...         ...   \n",
       "2787    메가진 Full  2015-06-24T12:24:04  2015-06-24T12:28:17  0시 04분 13초   \n",
       "2788   Door Open  2015-06-24T12:54:42  2015-06-24T12:55:08  0시 00분 26초   \n",
       "2789    메가진 Full  2015-06-24T12:55:08  2015-06-24T12:55:16  0시 00분 08초   \n",
       "2790       롯트 종료  2015-06-24T12:55:16  2015-06-24T12:55:20  0시 00분 04초   \n",
       "2791   Door Open  2015-06-24T13:05:46  2015-06-24T13:05:50  0시 00분 04초   \n",
       "\n",
       "        정지시간2                             모델  제품두께    제품싸이즈 작업구분  작업자    온도  \\\n",
       "0      11.970  78FBGA 7.5x11 CGHB08154 REV.1  0.25  415-515   야간  이은미  22.5   \n",
       "1      11.970  78FBGA 7.5x11 CGHB08154 REV.1  0.25  415-515   야간  이은미  22.5   \n",
       "2       4.093  78FBGA 7.5x11 CGHB08154 REV.2  1.25  415-516   야간  이은미  22.5   \n",
       "3       4.093  78FBGA 7.5x11 CGHB08154 REV.3  2.25  415-517   야간  이은미  22.5   \n",
       "4     244.350  78FBGA 7.5x11 CGHB08154 REV.4  3.25  415-518   야간  이은미  22.5   \n",
       "...       ...                            ...   ...      ...  ...  ...   ...   \n",
       "2787  252.560                            NaN   NaN      NaN   주간  NaN  22.5   \n",
       "2788   25.956                            NaN   NaN      NaN   주간  NaN  22.5   \n",
       "2789    8.063                            NaN   NaN      NaN   주간  NaN  22.5   \n",
       "2790    4.281                            NaN   NaN      NaN   주간  NaN  22.5   \n",
       "2791    4.078                            NaN   NaN      NaN   주간  NaN  22.5   \n",
       "\n",
       "        습도  \n",
       "0     47.3  \n",
       "1     47.3  \n",
       "2     47.3  \n",
       "3     47.3  \n",
       "4     47.3  \n",
       "...    ...  \n",
       "2787  47.3  \n",
       "2788  47.3  \n",
       "2789  47.3  \n",
       "2790  47.3  \n",
       "2791  47.3  \n",
       "\n",
       "[2792 rows x 12 columns]"
      ]
     },
     "execution_count": 7,
     "metadata": {},
     "output_type": "execute_result"
    }
   ],
   "source": [
    "# 데이터를 불러와 df1 이름의 변수로 선언\n",
    "df1 = pd.read_csv('07_Data.csv') # read_csv : csv 파일 호출\n",
    "df1"
   ]
  },
  {
   "cell_type": "markdown",
   "id": "3b12e266",
   "metadata": {},
   "source": [
    "- Pandas\n",
    "    - Series [ ]\n",
    "        - 순열\n",
    "        - (index-value)\n",
    "    - Dataframe [[ ]]\n",
    "        - (index-column-value)"
   ]
  },
  {
   "cell_type": "code",
   "execution_count": 8,
   "id": "2e78115b",
   "metadata": {},
   "outputs": [
    {
     "data": {
      "text/plain": [
       "Door Open         1345\n",
       "자재 픽업 에러           425\n",
       "비젼 가동 준비 Error     234\n",
       "롯트 종료              229\n",
       "초기화 Error          215\n",
       "e-CIM 관련에러         133\n",
       "메가진 Full           119\n",
       "타임 오버               45\n",
       "SYSTEM HANG UP      35\n",
       "비젼 데이터               6\n",
       "ITS 데이터              3\n",
       "드라이버 알람              2\n",
       "컨드롤러 알람              1\n",
       "Name: 메세지, dtype: int64"
      ]
     },
     "execution_count": 8,
     "metadata": {},
     "output_type": "execute_result"
    }
   ],
   "source": [
    "# 1) df1 데이터에서 '메세지'의 빈도수를 확인\n",
    "df1['메세지'].value_counts()  # value_counts() : 범주형 데이터 빈도수 확인"
   ]
  },
  {
   "cell_type": "code",
   "execution_count": 9,
   "id": "edc9ab87",
   "metadata": {},
   "outputs": [],
   "source": [
    "# 2) '메세지'(오류메세지)가 가장 많은 항목을 추출하여 df_error로 선언\n",
    "cond1 = (df1['메세지']=='Door Open')\n",
    "df_error = df1.loc[cond1]  # loc : 특정 조건에 True 해당하는 데이터를 추출"
   ]
  },
  {
   "cell_type": "code",
   "execution_count": 10,
   "id": "ef477b52",
   "metadata": {},
   "outputs": [],
   "source": [
    "# 3) df_error 데이터의 '작업구분' (주/야간)에 따른 \n",
    "#    '정지시간2' (오류 조치시간)의 평균을 계산하여, \n",
    "#    result_error.csv 로 저장 \n",
    "df_error.pivot_table(index='작업구분', values='정지시간2', \n",
    "                     aggfunc='mean').to_csv('result_error.csv')\n",
    "# pivot_table : 특정 범주형 항목별로 숫자값의 통계량을 계산\n",
    "#             : index -> 범주형 / values -> 연속형 / aggfunc -> 통계량\n",
    "# to_csv : 해당 데이터 프레임을 csv 파일로 저장"
   ]
  },
  {
   "cell_type": "markdown",
   "id": "6084790f",
   "metadata": {},
   "source": [
    "- 통계학에서 보통 상황 (귀무 가설) : \n",
    "    1. 서로 다른 항목(서로 다른 Columns)들이 독립적이다.\n",
    "    2. 연속형 데이터의 경우, 정규분포를 따른다.\n",
    "    - 연속형 데이터는 중심극한 정리에 의해 해당 표본의 모집단의 분포를 정규분포로 추정할 수 있다.\n",
    "    3. 서로 다른 연속형 데이터는 상관성이 없다."
   ]
  },
  {
   "cell_type": "code",
   "execution_count": 11,
   "id": "3febee69",
   "metadata": {},
   "outputs": [
    {
     "data": {
      "text/plain": [
       "NormaltestResult(statistic=2647.03980170818, pvalue=0.0)"
      ]
     },
     "execution_count": 11,
     "metadata": {},
     "output_type": "execute_result"
    }
   ],
   "source": [
    "# 4) df_error 데이터의 '작업구분' (주/야간)에 따른 \n",
    "#    '정지시간2' (오류 조치시간)의 평균의 차이가 있는지 가설검정을 수행 \n",
    "\n",
    "# 범주형 VS 연속형 - 평균 비교\n",
    "# 4-1) 연속형 (정지시간2)의 정규성 검정\n",
    "#      귀무가설 (보통상태): 해당 데이터의 분포는 정규분포를 따른다\n",
    "#      대립가설 (이상상태): 해당 데이터의 분포는 정규분포를 따르지 않는다\n",
    "stats.normaltest(df_error['정지시간2'])  \n",
    "# stats 라이브러리 내 가설검정 함수 -> Series 형태로 데이터 사용\n",
    "# P-value : 귀무가설이 참일 확률\n",
    "# P-value < 0.05 (유의수준)| 대립가설 참 | 해당 데이터의 분포는 정규분포를 따르지 않는다"
   ]
  },
  {
   "cell_type": "code",
   "execution_count": 12,
   "id": "45b492f8",
   "metadata": {},
   "outputs": [
    {
     "data": {
      "text/plain": [
       "RanksumsResult(statistic=1.663870780217619, pvalue=0.09613825542066314)"
      ]
     },
     "execution_count": 12,
     "metadata": {},
     "output_type": "execute_result"
    }
   ],
   "source": [
    "# 4-2) 주/야간에 따른 정지시간2의 평균의 차이가 있는가? (정규성X)\n",
    "#      귀무가설 : 주/야간에 따른 정지시간2의 평균의 차이가 없다. \n",
    "#      대립가설 : 주/야간에 따른 정지시간2의 평균의 차이가 있다.\n",
    "cond1 = (df_error['작업구분']=='주간')\n",
    "cond2 = (df_error['작업구분']=='야간')\n",
    "df_days = df_error.loc[cond1]  # 작업구분이 '주간'에 해당하는 데이터\n",
    "df_night = df_error.loc[cond2]  # 작업구분이 '야간'에 해당하는 데이터\n",
    "stats.ranksums(df_days['정지시간2'], df_night['정지시간2'])\n",
    "# P.value > 0.05 / 귀무가설 참 / 주/야간에 따른 정지시간2의 평균의 차이가 없다."
   ]
  },
  {
   "cell_type": "code",
   "execution_count": 13,
   "id": "b7709629",
   "metadata": {},
   "outputs": [
    {
     "data": {
      "text/plain": [
       "array(['0.25', '2.25', '3.25', '5.25', '7.25', '8.25', '10.25', '12.25',\n",
       "       '14.25', '16.25', nan, '1.13', '2.13', '6.13', '10.13', '0.15',\n",
       "       '0.17', '0.32', '415-515', '417-518', '0.21', '0.38', '0.18',\n",
       "       '0.26', '0.56', '0.13', '0.36', '0.12', '0.1', '0.255', '0.3'],\n",
       "      dtype=object)"
      ]
     },
     "execution_count": 13,
     "metadata": {},
     "output_type": "execute_result"
    }
   ],
   "source": [
    "# 5) df_error 데이터의 '제품두께(float)'에 따른 \n",
    "#    '정지시간2'의 상관관계를 산점도로 시각화 하시오\n",
    "df_error['제품두께'].unique()  # unique : 범주형 데이터 항목 확인"
   ]
  },
  {
   "cell_type": "code",
   "execution_count": 16,
   "id": "7725d18e",
   "metadata": {
    "collapsed": true
   },
   "outputs": [
    {
     "name": "stderr",
     "output_type": "stream",
     "text": [
      "<ipython-input-16-5dd8d5b04eab>:3: SettingWithCopyWarning: \n",
      "A value is trying to be set on a copy of a slice from a DataFrame.\n",
      "Try using .loc[row_indexer,col_indexer] = value instead\n",
      "\n",
      "See the caveats in the documentation: https://pandas.pydata.org/pandas-docs/stable/user_guide/indexing.html#returning-a-view-versus-a-copy\n",
      "  df_error['제품두께(float)'] = df_error['제품두께'].replace({'415-515':4.15,\n"
     ]
    }
   ],
   "source": [
    "# replace : 특정 값을 다른 값으로 변경\n",
    "# astype : 데이터 타입을 변경하는 함수\n",
    "df_error['제품두께(float)'] = df_error['제품두께'].replace({'415-515':4.15,\n",
    "                                                    '417-518':4.17}).astype(float)\n",
    "# 변경된 값을 새로운 항목으로 선언 사용"
   ]
  },
  {
   "cell_type": "code",
   "execution_count": 17,
   "id": "21018262",
   "metadata": {},
   "outputs": [
    {
     "data": {
      "text/plain": [
       "<AxesSubplot:xlabel='제품두께(float)', ylabel='정지시간2'>"
      ]
     },
     "execution_count": 17,
     "metadata": {},
     "output_type": "execute_result"
    },
    {
     "data": {
      "image/png": "[encoded data removed]",
      "text/plain": [
       "<Figure size 432x288 with 1 Axes>"
      ]
     },
     "metadata": {
      "needs_background": "light"
     },
     "output_type": "display_data"
    }
   ],
   "source": [
    "# 산점도 시각화 Scatter Plot\n",
    "plt.ylim([-10, 800])  # ylim : y축을 조절하는 함수\n",
    "plt.xlim([0, 0.6])  # xlim : x축을 조절하는 함수\n",
    "sns.scatterplot(data=df_error, x='제품두께(float)', y='정지시간2')"
   ]
  },
  {
   "cell_type": "code",
   "execution_count": 18,
   "id": "0b013e8d",
   "metadata": {},
   "outputs": [
    {
     "name": "stdout",
     "output_type": "stream",
     "text": [
      "NormaltestResult(statistic=1056.047139580023, pvalue=4.811464937787554e-230)\n",
      "NormaltestResult(statistic=627.213616388511, pvalue=6.342985431902706e-137)\n"
     ]
    }
   ],
   "source": [
    "# 6) df_error 데이터의 '제품두께(float)'에 따른 \n",
    "#    '정지시간2'의 상관관계가 있는지 가설검정을 수행\n",
    "\n",
    "# df_error 데이터에서 결측값을 제거한 다음 df_error1으로 선언하여 분석\n",
    "df_error1 = df_error.dropna()\n",
    "\n",
    "print(stats.normaltest(df_error1['정지시간2']))\n",
    "print(stats.normaltest(df_error1['제품두께(float)']))\n",
    "# 두 연속형 데이터의 분포는 정규분포를 따르지 않는다"
   ]
  },
  {
   "cell_type": "code",
   "execution_count": 19,
   "id": "bbb22fe6",
   "metadata": {},
   "outputs": [
    {
     "data": {
      "text/plain": [
       "SpearmanrResult(correlation=-0.04930074002078617, pvalue=0.25676477733540515)"
      ]
     },
     "execution_count": 19,
     "metadata": {},
     "output_type": "execute_result"
    }
   ],
   "source": [
    "# 6-2) 제품 두께와 정지시간2의 상관성을 확인\n",
    "#      귀무 가설 : 제품 두께와 정지시간2의 상관성이 없다.\n",
    "#      대립 가설 : 제품 두께와 정지시간2의 상관성이 있다.\n",
    "stats.spearmanr(df_error1['정지시간2'], df_error1['제품두께(float)'])\n",
    "# P-value > 0.05 | 귀무가설 참 | 제품 두께와 정지시간2의 상관성이 없다."
   ]
  },
  {
   "cell_type": "code",
   "execution_count": 20,
   "id": "9b0f48a3",
   "metadata": {},
   "outputs": [
    {
     "name": "stdout",
     "output_type": "stream",
     "text": [
      "<class 'pandas.core.frame.DataFrame'>\n",
      "RangeIndex: 311 entries, 0 to 310\n",
      "Data columns (total 67 columns):\n",
      " #   Column         Non-Null Count  Dtype  \n",
      "---  ------         --------------  -----  \n",
      " 0   DATE           311 non-null    object \n",
      " 1   Target         303 non-null    float64\n",
      " 2   Etching1       311 non-null    float64\n",
      " 3   Etching2       311 non-null    float64\n",
      " 4   Etching3       311 non-null    float64\n",
      " 5   CVD1           311 non-null    float64\n",
      " 6   CVD2           311 non-null    float64\n",
      " 7   CVD3           311 non-null    float64\n",
      " 8   Photo1         311 non-null    float64\n",
      " 9   Photo2         311 non-null    float64\n",
      " 10  D2TI13027 24   311 non-null    float64\n",
      " 11  D2TI13029 18   311 non-null    float64\n",
      " 12  D2TI13029 19   311 non-null    float64\n",
      " 13  D2TI13029 20   311 non-null    float64\n",
      " 14  D2TI13030 1    311 non-null    float64\n",
      " 15  D2TI13031 21   311 non-null    float64\n",
      " 16  D2TI13032 16   311 non-null    float64\n",
      " 17  D2TI13047 20   311 non-null    float64\n",
      " 18  D2TI13050 12   311 non-null    float64\n",
      " 19  D2TI13078 8    311 non-null    float64\n",
      " 20  D2TI13084 18   311 non-null    float64\n",
      " 21  D2TI13102 24   311 non-null    float64\n",
      " 22  D2TI13105 23   311 non-null    float64\n",
      " 23  D2TI13107 8    311 non-null    float64\n",
      " 24  D2TI13108 7    311 non-null    float64\n",
      " 25  D2TI13108 8    311 non-null    float64\n",
      " 26  D2TI13109 5    311 non-null    float64\n",
      " 27  D2TI13109 7    311 non-null    float64\n",
      " 28  D2TI13109 9    311 non-null    float64\n",
      " 29  D2TI13109 17   311 non-null    float64\n",
      " 30  D2TI13109 20   311 non-null    float64\n",
      " 31  D2TI13110 13   311 non-null    float64\n",
      " 32  D2TI13123 6    311 non-null    float64\n",
      " 33  D2TI13132 1    311 non-null    float64\n",
      " 34  D2TI13132 8    311 non-null    float64\n",
      " 35  D2TI13132 23   311 non-null    float64\n",
      " 36  D2TI13134 19   311 non-null    float64\n",
      " 37  D2TI13135 3    311 non-null    float64\n",
      " 38  D2TI13152 10   311 non-null    float64\n",
      " 39  D2TI13152 23   311 non-null    float64\n",
      " 40  D2TI13206 4    311 non-null    float64\n",
      " 41  D2TI13206 16   311 non-null    float64\n",
      " 42  D2TI13208 9    311 non-null    float64\n",
      " 43  D2TI13208 24   311 non-null    float64\n",
      " 44  D2TI13215 19   311 non-null    float64\n",
      " 45  D2TI13415 21   311 non-null    float64\n",
      " 46  D2TI14002 22   311 non-null    float64\n",
      " 47  D2TI14009 2    311 non-null    float64\n",
      " 48  D2TI14010 6    311 non-null    float64\n",
      " 49  D2TI14010 23   311 non-null    float64\n",
      " 50  D2TI14021 7    311 non-null    float64\n",
      " 51  D2TI16002 2    311 non-null    float64\n",
      " 52  D2TI17103 15   311 non-null    float64\n",
      " 53  D2TI17103 22   311 non-null    float64\n",
      " 54  D2TI17104 15   311 non-null    float64\n",
      " 55  D2TI17105 4    311 non-null    float64\n",
      " 56  D2TI17105 14   311 non-null    float64\n",
      " 57  D2TI17106 5    311 non-null    float64\n",
      " 58  D2TI17107 14   311 non-null    float64\n",
      " 59  D2TI17109 6    311 non-null    float64\n",
      " 60  D2TI17109 9    311 non-null    float64\n",
      " 61  D2TI17109 14   311 non-null    float64\n",
      " 62  D2TI17109 15   311 non-null    float64\n",
      " 63  D2TI18038 13   311 non-null    float64\n",
      " 64  D2TIC13007 7   311 non-null    float64\n",
      " 65  D2TIC13007 8   311 non-null    float64\n",
      " 66  D2TIC13111 11  311 non-null    float64\n",
      "dtypes: float64(66), object(1)\n",
      "memory usage: 162.9+ KB\n"
     ]
    }
   ],
   "source": [
    "# - 08_Data.csv 데이터를 가져와 df3로 선언하여 아래와 같은 미션을 수행 \n",
    "# 7) df3 데이터의 구조와 타입을 확인하고, 연속형 데이터의 평균/중앙값/표준편차를 확인\n",
    "\n",
    "df3 = pd.read_csv('08_Data.csv')\n",
    "df3.info()"
   ]
  },
  {
   "cell_type": "code",
   "execution_count": 21,
   "id": "d084f326",
   "metadata": {},
   "outputs": [
    {
     "data": {
      "text/html": [
       "<div>\n",
       "<style scoped>\n",
       "    .dataframe tbody tr th:only-of-type {\n",
       "        vertical-align: middle;\n",
       "    }\n",
       "\n",
       "    .dataframe tbody tr th {\n",
       "        vertical-align: top;\n",
       "    }\n",
       "\n",
       "    .dataframe thead th {\n",
       "        text-align: right;\n",
       "    }\n",
       "</style>\n",
       "<table border=\"1\" class=\"dataframe\">\n",
       "  <thead>\n",
       "    <tr style=\"text-align: right;\">\n",
       "      <th></th>\n",
       "      <th>Target</th>\n",
       "      <th>Etching1</th>\n",
       "      <th>Etching2</th>\n",
       "      <th>Etching3</th>\n",
       "      <th>CVD1</th>\n",
       "      <th>CVD2</th>\n",
       "      <th>CVD3</th>\n",
       "      <th>Photo1</th>\n",
       "      <th>Photo2</th>\n",
       "      <th>D2TI13027 24</th>\n",
       "      <th>...</th>\n",
       "      <th>D2TI17106 5</th>\n",
       "      <th>D2TI17107 14</th>\n",
       "      <th>D2TI17109 6</th>\n",
       "      <th>D2TI17109 9</th>\n",
       "      <th>D2TI17109 14</th>\n",
       "      <th>D2TI17109 15</th>\n",
       "      <th>D2TI18038 13</th>\n",
       "      <th>D2TIC13007 7</th>\n",
       "      <th>D2TIC13007 8</th>\n",
       "      <th>D2TIC13111 11</th>\n",
       "    </tr>\n",
       "  </thead>\n",
       "  <tbody>\n",
       "    <tr>\n",
       "      <th>count</th>\n",
       "      <td>303.000000</td>\n",
       "      <td>311.000000</td>\n",
       "      <td>311.000000</td>\n",
       "      <td>311.000000</td>\n",
       "      <td>311.000000</td>\n",
       "      <td>311.000000</td>\n",
       "      <td>311.000000</td>\n",
       "      <td>311.000000</td>\n",
       "      <td>3.110000e+02</td>\n",
       "      <td>311.000000</td>\n",
       "      <td>...</td>\n",
       "      <td>311.000000</td>\n",
       "      <td>311.000000</td>\n",
       "      <td>311.000000</td>\n",
       "      <td>311.000000</td>\n",
       "      <td>311.000000</td>\n",
       "      <td>311.000000</td>\n",
       "      <td>311.000000</td>\n",
       "      <td>311.000000</td>\n",
       "      <td>311.000000</td>\n",
       "      <td>311.000000</td>\n",
       "    </tr>\n",
       "    <tr>\n",
       "      <th>mean</th>\n",
       "      <td>0.509241</td>\n",
       "      <td>32.638927</td>\n",
       "      <td>30.561051</td>\n",
       "      <td>0.071898</td>\n",
       "      <td>0.025756</td>\n",
       "      <td>0.012729</td>\n",
       "      <td>11.934937</td>\n",
       "      <td>15.923694</td>\n",
       "      <td>7.074723e+01</td>\n",
       "      <td>202.257701</td>\n",
       "      <td>...</td>\n",
       "      <td>137.587040</td>\n",
       "      <td>119.354150</td>\n",
       "      <td>149.696091</td>\n",
       "      <td>149.708563</td>\n",
       "      <td>149.655876</td>\n",
       "      <td>149.628785</td>\n",
       "      <td>157.733457</td>\n",
       "      <td>128.021247</td>\n",
       "      <td>127.939578</td>\n",
       "      <td>190.976201</td>\n",
       "    </tr>\n",
       "    <tr>\n",
       "      <th>std</th>\n",
       "      <td>0.471204</td>\n",
       "      <td>4.224098</td>\n",
       "      <td>7.865913</td>\n",
       "      <td>0.857433</td>\n",
       "      <td>0.264043</td>\n",
       "      <td>0.002208</td>\n",
       "      <td>12.718985</td>\n",
       "      <td>16.866122</td>\n",
       "      <td>5.053837e+00</td>\n",
       "      <td>5.897030</td>\n",
       "      <td>...</td>\n",
       "      <td>8.345374</td>\n",
       "      <td>7.373823</td>\n",
       "      <td>2.982833</td>\n",
       "      <td>2.939580</td>\n",
       "      <td>2.890538</td>\n",
       "      <td>2.890104</td>\n",
       "      <td>3.175006</td>\n",
       "      <td>1.897572</td>\n",
       "      <td>0.983469</td>\n",
       "      <td>5.733196</td>\n",
       "    </tr>\n",
       "    <tr>\n",
       "      <th>min</th>\n",
       "      <td>0.000000</td>\n",
       "      <td>0.000749</td>\n",
       "      <td>0.004242</td>\n",
       "      <td>0.003370</td>\n",
       "      <td>0.002804</td>\n",
       "      <td>0.007800</td>\n",
       "      <td>0.013991</td>\n",
       "      <td>0.003726</td>\n",
       "      <td>5.028307e-19</td>\n",
       "      <td>111.848523</td>\n",
       "      <td>...</td>\n",
       "      <td>123.975243</td>\n",
       "      <td>107.532383</td>\n",
       "      <td>141.006311</td>\n",
       "      <td>141.082399</td>\n",
       "      <td>141.407523</td>\n",
       "      <td>141.370058</td>\n",
       "      <td>151.504684</td>\n",
       "      <td>123.897215</td>\n",
       "      <td>123.719035</td>\n",
       "      <td>97.322560</td>\n",
       "    </tr>\n",
       "    <tr>\n",
       "      <th>25%</th>\n",
       "      <td>0.200000</td>\n",
       "      <td>29.950482</td>\n",
       "      <td>27.895059</td>\n",
       "      <td>0.007205</td>\n",
       "      <td>0.007634</td>\n",
       "      <td>0.010681</td>\n",
       "      <td>0.017596</td>\n",
       "      <td>0.005582</td>\n",
       "      <td>6.892935e+01</td>\n",
       "      <td>199.910459</td>\n",
       "      <td>...</td>\n",
       "      <td>132.116937</td>\n",
       "      <td>114.166417</td>\n",
       "      <td>148.189003</td>\n",
       "      <td>148.310101</td>\n",
       "      <td>148.358356</td>\n",
       "      <td>148.361657</td>\n",
       "      <td>155.045731</td>\n",
       "      <td>127.941680</td>\n",
       "      <td>127.939706</td>\n",
       "      <td>189.943540</td>\n",
       "    </tr>\n",
       "    <tr>\n",
       "      <th>50%</th>\n",
       "      <td>0.400000</td>\n",
       "      <td>33.247881</td>\n",
       "      <td>30.400123</td>\n",
       "      <td>0.010473</td>\n",
       "      <td>0.010003</td>\n",
       "      <td>0.012625</td>\n",
       "      <td>0.069559</td>\n",
       "      <td>0.530937</td>\n",
       "      <td>7.096410e+01</td>\n",
       "      <td>202.603585</td>\n",
       "      <td>...</td>\n",
       "      <td>134.370491</td>\n",
       "      <td>117.278060</td>\n",
       "      <td>150.139847</td>\n",
       "      <td>150.143612</td>\n",
       "      <td>150.106898</td>\n",
       "      <td>150.077834</td>\n",
       "      <td>160.073815</td>\n",
       "      <td>127.997058</td>\n",
       "      <td>127.990931</td>\n",
       "      <td>190.348197</td>\n",
       "    </tr>\n",
       "    <tr>\n",
       "      <th>75%</th>\n",
       "      <td>0.600000</td>\n",
       "      <td>35.109728</td>\n",
       "      <td>33.424402</td>\n",
       "      <td>0.013747</td>\n",
       "      <td>0.013741</td>\n",
       "      <td>0.014652</td>\n",
       "      <td>26.249998</td>\n",
       "      <td>35.000000</td>\n",
       "      <td>7.250203e+01</td>\n",
       "      <td>204.431440</td>\n",
       "      <td>...</td>\n",
       "      <td>144.534274</td>\n",
       "      <td>124.609853</td>\n",
       "      <td>151.156524</td>\n",
       "      <td>151.187263</td>\n",
       "      <td>151.116964</td>\n",
       "      <td>151.130666</td>\n",
       "      <td>160.123164</td>\n",
       "      <td>128.040476</td>\n",
       "      <td>128.031384</td>\n",
       "      <td>192.514812</td>\n",
       "    </tr>\n",
       "    <tr>\n",
       "      <th>max</th>\n",
       "      <td>3.500000</td>\n",
       "      <td>50.809233</td>\n",
       "      <td>55.733682</td>\n",
       "      <td>14.411765</td>\n",
       "      <td>4.666667</td>\n",
       "      <td>0.017849</td>\n",
       "      <td>26.249998</td>\n",
       "      <td>35.000000</td>\n",
       "      <td>9.572477e+01</td>\n",
       "      <td>209.073304</td>\n",
       "      <td>...</td>\n",
       "      <td>199.755445</td>\n",
       "      <td>180.575892</td>\n",
       "      <td>182.226997</td>\n",
       "      <td>184.238554</td>\n",
       "      <td>184.151926</td>\n",
       "      <td>183.860325</td>\n",
       "      <td>161.414072</td>\n",
       "      <td>153.008633</td>\n",
       "      <td>139.601510</td>\n",
       "      <td>196.009126</td>\n",
       "    </tr>\n",
       "  </tbody>\n",
       "</table>\n",
       "<p>8 rows × 66 columns</p>\n",
       "</div>"
      ],
      "text/plain": [
       "           Target    Etching1    Etching2    Etching3        CVD1        CVD2  \\\n",
       "count  303.000000  311.000000  311.000000  311.000000  311.000000  311.000000   \n",
       "mean     0.509241   32.638927   30.561051    0.071898    0.025756    0.012729   \n",
       "std      0.471204    4.224098    7.865913    0.857433    0.264043    0.002208   \n",
       "min      0.000000    0.000749    0.004242    0.003370    0.002804    0.007800   \n",
       "25%      0.200000   29.950482   27.895059    0.007205    0.007634    0.010681   \n",
       "50%      0.400000   33.247881   30.400123    0.010473    0.010003    0.012625   \n",
       "75%      0.600000   35.109728   33.424402    0.013747    0.013741    0.014652   \n",
       "max      3.500000   50.809233   55.733682   14.411765    4.666667    0.017849   \n",
       "\n",
       "             CVD3      Photo1        Photo2  D2TI13027 24  ...  D2TI17106 5  \\\n",
       "count  311.000000  311.000000  3.110000e+02    311.000000  ...   311.000000   \n",
       "mean    11.934937   15.923694  7.074723e+01    202.257701  ...   137.587040   \n",
       "std     12.718985   16.866122  5.053837e+00      5.897030  ...     8.345374   \n",
       "min      0.013991    0.003726  5.028307e-19    111.848523  ...   123.975243   \n",
       "25%      0.017596    0.005582  6.892935e+01    199.910459  ...   132.116937   \n",
       "50%      0.069559    0.530937  7.096410e+01    202.603585  ...   134.370491   \n",
       "75%     26.249998   35.000000  7.250203e+01    204.431440  ...   144.534274   \n",
       "max     26.249998   35.000000  9.572477e+01    209.073304  ...   199.755445   \n",
       "\n",
       "       D2TI17107 14  D2TI17109 6  D2TI17109 9  D2TI17109 14  D2TI17109 15  \\\n",
       "count    311.000000   311.000000   311.000000    311.000000    311.000000   \n",
       "mean     119.354150   149.696091   149.708563    149.655876    149.628785   \n",
       "std        7.373823     2.982833     2.939580      2.890538      2.890104   \n",
       "min      107.532383   141.006311   141.082399    141.407523    141.370058   \n",
       "25%      114.166417   148.189003   148.310101    148.358356    148.361657   \n",
       "50%      117.278060   150.139847   150.143612    150.106898    150.077834   \n",
       "75%      124.609853   151.156524   151.187263    151.116964    151.130666   \n",
       "max      180.575892   182.226997   184.238554    184.151926    183.860325   \n",
       "\n",
       "       D2TI18038 13  D2TIC13007 7  D2TIC13007 8  D2TIC13111 11  \n",
       "count    311.000000    311.000000    311.000000     311.000000  \n",
       "mean     157.733457    128.021247    127.939578     190.976201  \n",
       "std        3.175006      1.897572      0.983469       5.733196  \n",
       "min      151.504684    123.897215    123.719035      97.322560  \n",
       "25%      155.045731    127.941680    127.939706     189.943540  \n",
       "50%      160.073815    127.997058    127.990931     190.348197  \n",
       "75%      160.123164    128.040476    128.031384     192.514812  \n",
       "max      161.414072    153.008633    139.601510     196.009126  \n",
       "\n",
       "[8 rows x 66 columns]"
      ]
     },
     "execution_count": 21,
     "metadata": {},
     "output_type": "execute_result"
    }
   ],
   "source": [
    "df3.describe()"
   ]
  },
  {
   "cell_type": "code",
   "execution_count": 23,
   "id": "3d2a3a1c",
   "metadata": {},
   "outputs": [],
   "source": [
    "# 8) df3 데이터에서 Etching1 에 해당하는 값을 34를 기준으로 분할  \n",
    "#    - Etching1이 34 이상이면 A  \n",
    "#    - Etching1이 34 미만이면 B 로 '분류'라는 새로운 변수로 선언\n",
    "\n",
    "cond1 = (df3['Etching1'] >= 34)\n",
    "df3.loc[cond1, '분류'] = 'A'   \n",
    "df3.loc[~cond1, '분류'] = 'B'"
   ]
  },
  {
   "cell_type": "markdown",
   "id": "a8353117",
   "metadata": {},
   "source": [
    "- loc \n",
    "    - 조건에 대응하는 데이터 추출  \n",
    "    - 조건에 대응하는 데이터에 파생변수"
   ]
  },
  {
   "cell_type": "code",
   "execution_count": 24,
   "id": "f6f30dd8",
   "metadata": {},
   "outputs": [
    {
     "data": {
      "text/plain": [
       "B    180\n",
       "A    131\n",
       "Name: 분류, dtype: int64"
      ]
     },
     "execution_count": 24,
     "metadata": {},
     "output_type": "execute_result"
    }
   ],
   "source": [
    "df3['분류'].value_counts()"
   ]
  },
  {
   "cell_type": "code",
   "execution_count": 27,
   "id": "ef89886e",
   "metadata": {},
   "outputs": [
    {
     "data": {
      "text/plain": [
       "<AxesSubplot:xlabel='CVD1', ylabel='CVD2'>"
      ]
     },
     "execution_count": 27,
     "metadata": {},
     "output_type": "execute_result"
    },
    {
     "data": {
      "image/png": "[encoded data removed]",
      "text/plain": [
       "<Figure size 432x288 with 1 Axes>"
      ]
     },
     "metadata": {
      "needs_background": "light"
     },
     "output_type": "display_data"
    }
   ],
   "source": [
    "# 9) df3에서 CVD1과 CVD2 데이터의 상관성이 있는지 분석하고자 한다.\n",
    "#    - CVD1값과 CVD2값의 산점도를 scatterplot으로 시각화 하시오.\n",
    "plt.xlim([0, 0.03])\n",
    "sns.scatterplot(data=df3, x='CVD1', y='CVD2')"
   ]
  },
  {
   "cell_type": "code",
   "execution_count": 28,
   "id": "e318cdb0",
   "metadata": {},
   "outputs": [
    {
     "data": {
      "text/plain": [
       "<AxesSubplot:xlabel='CVD1', ylabel='CVD2'>"
      ]
     },
     "execution_count": 28,
     "metadata": {},
     "output_type": "execute_result"
    },
    {
     "data": {
      "image/png": "[encoded data removed]",
      "text/plain": [
       "<Figure size 432x288 with 1 Axes>"
      ]
     },
     "metadata": {
      "needs_background": "light"
     },
     "output_type": "display_data"
    }
   ],
   "source": [
    "#    - '분류'에 따른 CVD1과 CVD2값을 산점도로 시각화 하시오 \n",
    "plt.xlim([0, 0.03])\n",
    "sns.scatterplot(data=df3, x='CVD1', y='CVD2', hue='분류')"
   ]
  },
  {
   "cell_type": "code",
   "execution_count": 30,
   "id": "7759b3e2",
   "metadata": {},
   "outputs": [],
   "source": [
    "# 10) df3에서 Target값이 높은 상위 100개 데이터를 추출하여,\n",
    "#    - '분류'에 (A,B) 따른 CVD3의 평균의 유의미한 차이가 있는지 가설검정 \n",
    "#    -  결측값은 제거 후 검정 진행 / P.value 와 결론까지 작성\n",
    "#    - '분류'에 (A,B) 따른 CVD3값의 평균을 bar chart로 시각화\n",
    "df3_top = df3.sort_values(by='Target', ascending=False).head(100)"
   ]
  },
  {
   "cell_type": "code",
   "execution_count": null,
   "id": "64b31378",
   "metadata": {},
   "outputs": [],
   "source": [
    "# 10-1) df3_top 데이터의 CVD3 값의 분포가 정규분포를 따르는가?\n",
    "#        귀무가설 : 해당 데이터의 분포는 정규분포를 따른다\n",
    "#        대립가설 : 해당 데이터의 분포는 정규분포를 따르지 않는다\n",
    "stats.normaltest(df3_top['CVD3'])\n",
    "# P-value < 0.05 | 대립가설 참 | 해당 데이터의 분포는 정규분포를 따르지 않는다"
   ]
  },
  {
   "cell_type": "code",
   "execution_count": 32,
   "id": "d7bc0233",
   "metadata": {},
   "outputs": [
    {
     "data": {
      "text/plain": [
       "RanksumsResult(statistic=2.0892453131193944, pvalue=0.0366856463687836)"
      ]
     },
     "execution_count": 32,
     "metadata": {},
     "output_type": "execute_result"
    }
   ],
   "source": [
    "# 10-2) '분류' A와 B집단에 따른 CVD3의 평균의 차이가 있는가?\n",
    "#       귀무가설 : A와 B집단에 따른 CVD3의 평균의 차이가 없다. \n",
    "#       대립가설 : A와 B집단에 따른 CVD3의 평균의 차이가 있다.\n",
    "cond1 = (df3_top['분류']=='A')\n",
    "df3_A = df3_top.loc[cond1]\n",
    "cond2 = (df3_top['분류']=='B')\n",
    "df3_B = df3_top.loc[cond2]\n",
    "stats.ranksums(df3_A['CVD3'], df3_B['CVD3'])\n",
    "# P.value < 0.05 / 대립가설 참 / A와 B집단에 따른 CVD3의 평균의 차이가 있다."
   ]
  },
  {
   "cell_type": "code",
   "execution_count": 34,
   "id": "e09cc34d",
   "metadata": {},
   "outputs": [
    {
     "data": {
      "text/plain": [
       "BartlettResult(statistic=0.5324394923840704, pvalue=0.4655830481339479)"
      ]
     },
     "execution_count": 34,
     "metadata": {},
     "output_type": "execute_result"
    }
   ],
   "source": [
    "# 10-3) 만약 CVD3가 정규분포를 따르는 경우,\n",
    "#       분류 'A'와 'B'집단 간 'CVD3'값의 분산이 서로 같은지/다른지 확인\n",
    "#       귀무가설 : 'A'와 'B'집단 간 'CVD3'값의 분산이 서로 같다.\n",
    "#       대립가설 : 'A'와 'B'집단 간 'CVD3'값의 분산이 서로 다르다.\n",
    "stats.bartlett(df3_A['CVD3'], df3_B['CVD3'])\n",
    "# P.value > 0.05 / 귀무가설 참 / 'A'와 'B'집단 간 'CVD3'값의 분산이 서로 같다."
   ]
  },
  {
   "cell_type": "code",
   "execution_count": 35,
   "id": "4d558482",
   "metadata": {},
   "outputs": [
    {
     "data": {
      "text/plain": [
       "Ttest_indResult(statistic=2.6255866272026314, pvalue=0.0100369193134454)"
      ]
     },
     "execution_count": 35,
     "metadata": {},
     "output_type": "execute_result"
    }
   ],
   "source": [
    "# 10-4) 정규성을 띄는 CVD3에 대해 분산이 서로 같은 A와 B집단의 평균의 차이?\n",
    "#       귀무가설 : 두 A, B 집단은 평균의 차이가 없다.\n",
    "#       대립가설 : 두 A, B 집단은 평균의 차이가 있다.\n",
    "stats.ttest_ind(df3_A['CVD3'], df3_B['CVD3'], equal_var=True)\n",
    "# P.value < 0.05 / 대립가설 참 / 두 A, B 집단은 평균의 차이가 있다."
   ]
  },
  {
   "cell_type": "code",
   "execution_count": 38,
   "id": "0dfed174",
   "metadata": {},
   "outputs": [
    {
     "data": {
      "text/plain": [
       "<AxesSubplot:xlabel='분류', ylabel='CVD3'>"
      ]
     },
     "execution_count": 38,
     "metadata": {},
     "output_type": "execute_result"
    },
    {
     "data": {
      "image/png": "[encoded data removed]",
      "text/plain": [
       "<Figure size 432x288 with 1 Axes>"
      ]
     },
     "metadata": {
      "needs_background": "light"
     },
     "output_type": "display_data"
    }
   ],
   "source": [
    "sns.barplot(data=df3_top, x=\"분류\", y=\"CVD3\", ci= None)"
   ]
  },
  {
   "cell_type": "code",
   "execution_count": 39,
   "id": "3ad43601",
   "metadata": {},
   "outputs": [
    {
     "data": {
      "text/html": [
       "<div>\n",
       "<style scoped>\n",
       "    .dataframe tbody tr th:only-of-type {\n",
       "        vertical-align: middle;\n",
       "    }\n",
       "\n",
       "    .dataframe tbody tr th {\n",
       "        vertical-align: top;\n",
       "    }\n",
       "\n",
       "    .dataframe thead tr th {\n",
       "        text-align: left;\n",
       "    }\n",
       "\n",
       "    .dataframe thead tr:last-of-type th {\n",
       "        text-align: right;\n",
       "    }\n",
       "</style>\n",
       "<table border=\"1\" class=\"dataframe\">\n",
       "  <thead>\n",
       "    <tr>\n",
       "      <th></th>\n",
       "      <th colspan=\"2\" halign=\"left\">sum</th>\n",
       "      <th colspan=\"2\" halign=\"left\">max</th>\n",
       "      <th colspan=\"2\" halign=\"left\">min</th>\n",
       "    </tr>\n",
       "    <tr>\n",
       "      <th></th>\n",
       "      <th>Photo1</th>\n",
       "      <th>Photo2</th>\n",
       "      <th>Photo1</th>\n",
       "      <th>Photo2</th>\n",
       "      <th>Photo1</th>\n",
       "      <th>Photo2</th>\n",
       "    </tr>\n",
       "    <tr>\n",
       "      <th>분류</th>\n",
       "      <th></th>\n",
       "      <th></th>\n",
       "      <th></th>\n",
       "      <th></th>\n",
       "      <th></th>\n",
       "      <th></th>\n",
       "    </tr>\n",
       "  </thead>\n",
       "  <tbody>\n",
       "    <tr>\n",
       "      <th>A</th>\n",
       "      <td>2020.854284</td>\n",
       "      <td>9129.070599</td>\n",
       "      <td>35.0</td>\n",
       "      <td>74.618795</td>\n",
       "      <td>0.003882</td>\n",
       "      <td>6.481900e+01</td>\n",
       "    </tr>\n",
       "    <tr>\n",
       "      <th>B</th>\n",
       "      <td>2931.414587</td>\n",
       "      <td>12873.318680</td>\n",
       "      <td>35.0</td>\n",
       "      <td>95.724768</td>\n",
       "      <td>0.003726</td>\n",
       "      <td>5.028307e-19</td>\n",
       "    </tr>\n",
       "  </tbody>\n",
       "</table>\n",
       "</div>"
      ],
      "text/plain": [
       "            sum                  max                  min              \n",
       "         Photo1        Photo2 Photo1     Photo2    Photo1        Photo2\n",
       "분류                                                                     \n",
       "A   2020.854284   9129.070599   35.0  74.618795  0.003882  6.481900e+01\n",
       "B   2931.414587  12873.318680   35.0  95.724768  0.003726  5.028307e-19"
      ]
     },
     "execution_count": 39,
     "metadata": {},
     "output_type": "execute_result"
    }
   ],
   "source": [
    "# 11) df3의 '분류'에 따른 'Photo1'값과 'Photo2'값의 합/최대/최소값을 계산 \n",
    "df3.pivot_table(index='분류', values=['Photo1', 'Photo2'], \n",
    "                aggfunc=['sum','max', 'min'])"
   ]
  },
  {
   "cell_type": "code",
   "execution_count": 40,
   "id": "2b94d0fe",
   "metadata": {},
   "outputs": [
    {
     "data": {
      "text/html": [
       "<div>\n",
       "<style scoped>\n",
       "    .dataframe tbody tr th:only-of-type {\n",
       "        vertical-align: middle;\n",
       "    }\n",
       "\n",
       "    .dataframe tbody tr th {\n",
       "        vertical-align: top;\n",
       "    }\n",
       "\n",
       "    .dataframe thead th {\n",
       "        text-align: right;\n",
       "    }\n",
       "</style>\n",
       "<table border=\"1\" class=\"dataframe\">\n",
       "  <thead>\n",
       "    <tr style=\"text-align: right;\">\n",
       "      <th>일자</th>\n",
       "      <th>1</th>\n",
       "      <th>2</th>\n",
       "      <th>9</th>\n",
       "      <th>10</th>\n",
       "      <th>11</th>\n",
       "      <th>12</th>\n",
       "      <th>13</th>\n",
       "      <th>14</th>\n",
       "      <th>15</th>\n",
       "      <th>16</th>\n",
       "      <th>...</th>\n",
       "      <th>22</th>\n",
       "      <th>23</th>\n",
       "      <th>24</th>\n",
       "      <th>25</th>\n",
       "      <th>26</th>\n",
       "      <th>27</th>\n",
       "      <th>28</th>\n",
       "      <th>29</th>\n",
       "      <th>30</th>\n",
       "      <th>31</th>\n",
       "    </tr>\n",
       "    <tr>\n",
       "      <th>분류</th>\n",
       "      <th></th>\n",
       "      <th></th>\n",
       "      <th></th>\n",
       "      <th></th>\n",
       "      <th></th>\n",
       "      <th></th>\n",
       "      <th></th>\n",
       "      <th></th>\n",
       "      <th></th>\n",
       "      <th></th>\n",
       "      <th></th>\n",
       "      <th></th>\n",
       "      <th></th>\n",
       "      <th></th>\n",
       "      <th></th>\n",
       "      <th></th>\n",
       "      <th></th>\n",
       "      <th></th>\n",
       "      <th></th>\n",
       "      <th></th>\n",
       "      <th></th>\n",
       "    </tr>\n",
       "  </thead>\n",
       "  <tbody>\n",
       "    <tr>\n",
       "      <th>A</th>\n",
       "      <td>2.5</td>\n",
       "      <td>3.2</td>\n",
       "      <td>NaN</td>\n",
       "      <td>NaN</td>\n",
       "      <td>NaN</td>\n",
       "      <td>5.2</td>\n",
       "      <td>6.6</td>\n",
       "      <td>0.9</td>\n",
       "      <td>NaN</td>\n",
       "      <td>0.3</td>\n",
       "      <td>...</td>\n",
       "      <td>NaN</td>\n",
       "      <td>1.2</td>\n",
       "      <td>1.6</td>\n",
       "      <td>3.8</td>\n",
       "      <td>4.3</td>\n",
       "      <td>9.4</td>\n",
       "      <td>7.6</td>\n",
       "      <td>3.9</td>\n",
       "      <td>4.6</td>\n",
       "      <td>3.1</td>\n",
       "    </tr>\n",
       "    <tr>\n",
       "      <th>B</th>\n",
       "      <td>10.1</td>\n",
       "      <td>3.7</td>\n",
       "      <td>2.0</td>\n",
       "      <td>0.9</td>\n",
       "      <td>2.0</td>\n",
       "      <td>0.8</td>\n",
       "      <td>NaN</td>\n",
       "      <td>0.5</td>\n",
       "      <td>0.2</td>\n",
       "      <td>NaN</td>\n",
       "      <td>...</td>\n",
       "      <td>5.2</td>\n",
       "      <td>6.0</td>\n",
       "      <td>3.6</td>\n",
       "      <td>7.3</td>\n",
       "      <td>8.0</td>\n",
       "      <td>3.8</td>\n",
       "      <td>7.8</td>\n",
       "      <td>5.6</td>\n",
       "      <td>2.4</td>\n",
       "      <td>3.7</td>\n",
       "    </tr>\n",
       "  </tbody>\n",
       "</table>\n",
       "<p>2 rows × 24 columns</p>\n",
       "</div>"
      ],
      "text/plain": [
       "일자    1    2    9    10   11   12   13   14   15   16  ...   22   23   24  \\\n",
       "분류                                                     ...                  \n",
       "A    2.5  3.2  NaN  NaN  NaN  5.2  6.6  0.9  NaN  0.3  ...  NaN  1.2  1.6   \n",
       "B   10.1  3.7  2.0  0.9  2.0  0.8  NaN  0.5  0.2  NaN  ...  5.2  6.0  3.6   \n",
       "\n",
       "일자   25   26   27   28   29   30   31  \n",
       "분류                                     \n",
       "A   3.8  4.3  9.4  7.6  3.9  4.6  3.1  \n",
       "B   7.3  8.0  3.8  7.8  5.6  2.4  3.7  \n",
       "\n",
       "[2 rows x 24 columns]"
      ]
     },
     "execution_count": 40,
     "metadata": {},
     "output_type": "execute_result"
    }
   ],
   "source": [
    "# 12) df3의 'DATE'항목을 날짜데이터로 변환하여, 'DATE_dt'로 선언한 뒤, 일자만 추출하여, \n",
    "#     - '분류'에 따른 '일자'별 'Target'값의 합을 계산\n",
    "df3['DATE_dt'] = pd.to_datetime(df3['DATE'])\n",
    "df3['일자'] = df3['DATE_dt'].dt.day\n",
    "df3.pivot_table(index='분류', columns='일자', values='Target', aggfunc='sum')"
   ]
  }
 ],
 "metadata": {
  "kernelspec": {
   "display_name": "Python 3",
   "language": "python",
   "name": "python3"
  },
  "language_info": {
   "codemirror_mode": {
    "name": "ipython",
    "version": 3
   },
   "file_extension": ".py",
   "mimetype": "text/x-python",
   "name": "python",
   "nbconvert_exporter": "python",
   "pygments_lexer": "ipython3",
   "version": "3.8.8"
  }
 },
 "nbformat": 4,
 "nbformat_minor": 5
}
